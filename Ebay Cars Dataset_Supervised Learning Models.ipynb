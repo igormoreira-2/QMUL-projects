{
 "cells": [
  {
   "cell_type": "markdown",
   "metadata": {},
   "source": [
    "__Igor J. M. Marques__\n",
    "\n",
    "Final Project for the module \"Masterclass in Business Analytics\" - Queen Mary University of London\n",
    "\n",
    "*Bibliography:*\n",
    "\n",
    "1. Géron, A., 2019. Hands-On Machine Learning with Scikit-Learn, Keras & TensorFlow. 2nd ed. Sebastopol: O'Reilly Media.\n",
    "\n",
    "2. Ebays Used Car Dataset - source: https://www.kaggle.com/orgesleka/used-cars-database/\n",
    "\n",
    "3. https://www.kaggle.com/fegadeharish/used-cars-price-prediction-with-eda\n",
    "\n",
    "\n",
    "## 1. FRAMING THE PROBLEM"
   ]
  },
  {
   "cell_type": "markdown",
   "metadata": {},
   "source": [
    "## Initialization"
   ]
  },
  {
   "cell_type": "code",
   "execution_count": 1,
   "metadata": {},
   "outputs": [
    {
     "name": "stdout",
     "output_type": "stream",
     "text": [
      "2.1.0\n",
      "2.2.4-tf\n"
     ]
    },
    {
     "name": "stderr",
     "output_type": "stream",
     "text": [
      "Using TensorFlow backend.\n"
     ]
    }
   ],
   "source": [
    "# Python ≥3.5 is required\n",
    "import sys\n",
    "assert sys.version_info >= (3, 5)\n",
    "\n",
    "# Scikit-Learn ≥0.20 is required\n",
    "import sklearn\n",
    "assert sklearn.__version__ >= \"0.20\"\n",
    "\n",
    "# Tensorflow and Keras\n",
    "import tensorflow as tf\n",
    "from tensorflow import keras\n",
    "print(tf.__version__)\n",
    "print(keras.__version__)\n",
    "\n",
    "import pandas as pd\n",
    "import datetime as dt\n",
    "import matplotlib.pyplot as plt\n",
    "import numpy as np\n",
    "import seaborn as sns\n",
    "import os\n",
    "import statsmodels.api as sm\n",
    "from scipy import stats\n",
    "\n",
    "# Packages\n",
    "from datetime import datetime\n",
    "from pandas.plotting import scatter_matrix\n",
    "from matplotlib.cbook import boxplot_stats \n",
    "from sklearn.model_selection import StratifiedShuffleSplit\n",
    "from sklearn.model_selection import train_test_split\n",
    "from sklearn.base import BaseEstimator, TransformerMixin, RegressorMixin\n",
    "from sklearn.pipeline import Pipeline\n",
    "from sklearn.preprocessing import OneHotEncoder\n",
    "from sklearn.impute import SimpleImputer\n",
    "from sklearn.pipeline import FeatureUnion\n",
    "from sklearn.preprocessing import StandardScaler\n",
    "from sklearn.compose import ColumnTransformer\n",
    "from keras.layers.advanced_activations import LeakyReLU\n",
    "from scipy.stats import reciprocal\n",
    "\n",
    "\n",
    "# Models\n",
    "from sklearn.tree import DecisionTreeRegressor, DecisionTreeClassifier\n",
    "from sklearn.ensemble import RandomForestRegressor\n",
    "from sklearn.svm import LinearSVR\n",
    "from sklearn.svm import SVR\n",
    "from sklearn.linear_model import LinearRegression\n",
    "\n",
    "# Model evaluation und visualisation\n",
    "from sklearn.metrics import mean_squared_error\n",
    "from sklearn.model_selection import cross_val_score\n",
    "from sklearn.metrics import confusion_matrix\n",
    "from sklearn.metrics import roc_curve\n",
    "from sklearn.metrics import precision_recall_curve\n",
    "\n",
    "# Hyperparameter optimisation\n",
    "from sklearn.model_selection import GridSearchCV\n",
    "from sklearn.model_selection import RandomizedSearchCV\n",
    "\n",
    "# to make this notebook's output stable across runs\n",
    "np.random.seed(24)"
   ]
  },
  {
   "cell_type": "markdown",
   "metadata": {},
   "source": [
    "## 2. GETTING THE DATA"
   ]
  },
  {
   "cell_type": "code",
   "execution_count": 2,
   "metadata": {},
   "outputs": [],
   "source": [
    "#Loading autos.csv file\n",
    "autos = pd.read_csv(\"autos.csv\", encoding=\"ISO-8859–1\")"
   ]
  },
  {
   "cell_type": "code",
   "execution_count": 3,
   "metadata": {},
   "outputs": [],
   "source": [
    "#pd.set_option('display.max_rows', 10)"
   ]
  },
  {
   "cell_type": "markdown",
   "metadata": {},
   "source": [
    "## 3. CLEANING & MANIPULATING THE DATA"
   ]
  },
  {
   "cell_type": "markdown",
   "metadata": {},
   "source": [
    "### Handling Missing Values and Initial Data Exploration"
   ]
  },
  {
   "cell_type": "code",
   "execution_count": 4,
   "metadata": {},
   "outputs": [
    {
     "name": "stdout",
     "output_type": "stream",
     "text": [
      "(371528, 20)\n"
     ]
    }
   ],
   "source": [
    "print(autos.shape)"
   ]
  },
  {
   "cell_type": "code",
   "execution_count": 5,
   "metadata": {},
   "outputs": [
    {
     "name": "stdout",
     "output_type": "stream",
     "text": [
      "<class 'pandas.core.frame.DataFrame'>\n",
      "RangeIndex: 371528 entries, 0 to 371527\n",
      "Data columns (total 20 columns):\n",
      " #   Column               Non-Null Count   Dtype \n",
      "---  ------               --------------   ----- \n",
      " 0   dateCrawled          371528 non-null  object\n",
      " 1   name                 371528 non-null  object\n",
      " 2   seller               371528 non-null  object\n",
      " 3   offerType            371528 non-null  object\n",
      " 4   price                371528 non-null  int64 \n",
      " 5   abtest               371528 non-null  object\n",
      " 6   vehicleType          333659 non-null  object\n",
      " 7   yearOfRegistration   371528 non-null  int64 \n",
      " 8   gearbox              351319 non-null  object\n",
      " 9   powerPS              371528 non-null  int64 \n",
      " 10  model                351044 non-null  object\n",
      " 11  kilometer            371528 non-null  int64 \n",
      " 12  monthOfRegistration  371528 non-null  int64 \n",
      " 13  fuelType             338142 non-null  object\n",
      " 14  brand                371528 non-null  object\n",
      " 15  notRepairedDamage    299468 non-null  object\n",
      " 16  dateCreated          371528 non-null  object\n",
      " 17  nrOfPictures         371528 non-null  int64 \n",
      " 18  postalCode           371528 non-null  int64 \n",
      " 19  lastSeen             371528 non-null  object\n",
      "dtypes: int64(7), object(13)\n",
      "memory usage: 56.7+ MB\n"
     ]
    }
   ],
   "source": [
    "autos.info()"
   ]
  },
  {
   "cell_type": "code",
   "execution_count": 6,
   "metadata": {},
   "outputs": [
    {
     "data": {
      "text/plain": [
       "dateCrawled                0\n",
       "name                       0\n",
       "seller                     0\n",
       "offerType                  0\n",
       "price                      0\n",
       "abtest                     0\n",
       "vehicleType            37869\n",
       "yearOfRegistration         0\n",
       "gearbox                20209\n",
       "powerPS                    0\n",
       "model                  20484\n",
       "kilometer                  0\n",
       "monthOfRegistration        0\n",
       "fuelType               33386\n",
       "brand                      0\n",
       "notRepairedDamage      72060\n",
       "dateCreated                0\n",
       "nrOfPictures               0\n",
       "postalCode                 0\n",
       "lastSeen                   0\n",
       "dtype: int64"
      ]
     },
     "execution_count": 6,
     "metadata": {},
     "output_type": "execute_result"
    }
   ],
   "source": [
    "autos.isna().sum()"
   ]
  },
  {
   "cell_type": "markdown",
   "metadata": {},
   "source": [
    "We can notice that the fields \"vehicleType, gearbox, model, fuelType, and notRepairedDamage\" have a huge amount of missing values. These will have to be dealth with accordingly."
   ]
  },
  {
   "cell_type": "code",
   "execution_count": 7,
   "metadata": {},
   "outputs": [
    {
     "data": {
      "image/png": "[encoded data removed]",
      "text/plain": [
       "<Figure size 1080x720 with 2 Axes>"
      ]
     },
     "metadata": {
      "needs_background": "light"
     },
     "output_type": "display_data"
    },
    {
     "data": {
      "image/png": "[encoded data removed]",
      "text/plain": [
       "<Figure size 1080x720 with 2 Axes>"
      ]
     },
     "metadata": {
      "needs_background": "light"
     },
     "output_type": "display_data"
    },
    {
     "data": {
      "image/png": "[encoded data removed]",
      "text/plain": [
       "<Figure size 1080x720 with 2 Axes>"
      ]
     },
     "metadata": {
      "needs_background": "light"
     },
     "output_type": "display_data"
    }
   ],
   "source": [
    "#Seller Proportion\n",
    "plt.subplots(figsize=(15,10))\n",
    "plt.subplot(321) #3-digit integer describing the position of the subplot (nrows, ncols, and index)\n",
    "autos[\"seller\"].value_counts(100).plot(kind='bar', title=\"Seller Proportion\", \n",
    "                                       fontsize=18, color=('lightblue', 'lightgreen'))\n",
    "plt.xticks(rotation=0, fontsize=12)\n",
    "plt.yticks(rotation=0, fontsize=12)\n",
    "\n",
    "#Seller Proportion\n",
    "plt.subplot(322) \n",
    "autos[\"offerType\"].value_counts(100).plot(kind='bar', title=\"Offer Type Proportion\", \n",
    "                                          fontsize=18, color=('lightblue', 'lightgreen'))\n",
    "plt.xticks(rotation=0, fontsize=12)\n",
    "plt.yticks(rotation=0, fontsize=12)\n",
    "plt.show()\n",
    "\n",
    "#AB Test Proportion\n",
    "plt.subplots(figsize=(15,10))\n",
    "plt.subplot(323) \n",
    "autos[\"abtest\"].value_counts(100).plot(kind='bar', title=\"AB Test Proportion\", \n",
    "                                       fontsize=18, color=('lightblue', 'lightgreen'))\n",
    "plt.xticks(rotation=0, fontsize=12)\n",
    "plt.yticks(rotation=0, fontsize=12)\n",
    "\n",
    "#Gearbox Proportion\n",
    "plt.subplot(324) \n",
    "autos[\"gearbox\"].value_counts(100).plot(kind='bar', title=\"Gearbox Proportion\", \n",
    "                                        fontsize=18, color=('lightblue', 'lightgreen'))\n",
    "plt.xticks(rotation=0, fontsize=12)\n",
    "plt.yticks(rotation=0, fontsize=12)\n",
    "plt.show()\n",
    "\n",
    "#Not Repaired/Damage Proportion\n",
    "plt.subplots(figsize=(15,10))\n",
    "plt.subplot(325) \n",
    "autos[\"notRepairedDamage\"].value_counts(100).plot(kind='bar', title=\"Not Repaired/Damage Proportion\", \n",
    "                                       fontsize=18, color=('lightblue', 'lightgreen'))\n",
    "plt.xticks(rotation=0, fontsize=12)\n",
    "plt.yticks(rotation=0, fontsize=12)\n",
    "\n",
    "#Number of Pictures Proportion\n",
    "plt.subplot(326) \n",
    "autos[\"nrOfPictures\"].value_counts(100).plot(kind='bar', title=\"Number of Pictures Proportion\", \n",
    "                                        fontsize=18, color=('lightblue', 'lightgreen'))\n",
    "plt.xticks(rotation=0, fontsize=12)\n",
    "plt.yticks(rotation=0, fontsize=12)\n",
    "plt.show()\n"
   ]
  },
  {
   "cell_type": "markdown",
   "metadata": {},
   "source": [
    "From the graphs above, we can notice that Seller, Offer Type, and Number of Pictures are not relevant as 99.99% of the data have the same input, thus it won't have any effect in the model. Hence, these three features will be removed. However, before dropping the whole column, we need to remove the rows corresponding to 'gewerblich' and 'Gesuch'. In addition, the features \"name\", \"abtest\", \"monthOfRegistration\" and \"postalCode\" do not seem to add any value to the model, thus it will be removed."
   ]
  },
  {
   "cell_type": "code",
   "execution_count": 8,
   "metadata": {},
   "outputs": [],
   "source": [
    "autos.drop(autos[autos['seller'] == 'gewerblich'].index, inplace=True)\n",
    "autos.drop(autos[autos['offerType'] == 'Gesuch'].index, inplace=True)"
   ]
  },
  {
   "cell_type": "code",
   "execution_count": 9,
   "metadata": {},
   "outputs": [],
   "source": [
    "autos_1 = autos.drop([\"name\", \"seller\", \"offerType\", \"abtest\", \"monthOfRegistration\", \"nrOfPictures\", \"postalCode\"], axis=1)"
   ]
  },
  {
   "cell_type": "code",
   "execution_count": 10,
   "metadata": {},
   "outputs": [
    {
     "name": "stdout",
     "output_type": "stream",
     "text": [
      "<class 'pandas.core.frame.DataFrame'>\n",
      "Int64Index: 371513 entries, 0 to 371527\n",
      "Data columns (total 13 columns):\n",
      " #   Column              Non-Null Count   Dtype \n",
      "---  ------              --------------   ----- \n",
      " 0   dateCrawled         371513 non-null  object\n",
      " 1   price               371513 non-null  int64 \n",
      " 2   vehicleType         333651 non-null  object\n",
      " 3   yearOfRegistration  371513 non-null  int64 \n",
      " 4   gearbox             351310 non-null  object\n",
      " 5   powerPS             371513 non-null  int64 \n",
      " 6   model               351032 non-null  object\n",
      " 7   kilometer           371513 non-null  int64 \n",
      " 8   fuelType            338134 non-null  object\n",
      " 9   brand               371513 non-null  object\n",
      " 10  notRepairedDamage   299460 non-null  object\n",
      " 11  dateCreated         371513 non-null  object\n",
      " 12  lastSeen            371513 non-null  object\n",
      "dtypes: int64(4), object(9)\n",
      "memory usage: 39.7+ MB\n"
     ]
    }
   ],
   "source": [
    "autos_1.info()"
   ]
  },
  {
   "cell_type": "markdown",
   "metadata": {},
   "source": [
    "We wish to add an extra variable to our dataset, which is __\"number of days it took to sell the car\"__, as we believe it could pontentially have an effect in our future models. In order to do so, we will first convert __lastSeen__ and __dataCreated__ to datetime format, then we will subtract one from another to get number of days."
   ]
  },
  {
   "cell_type": "code",
   "execution_count": 11,
   "metadata": {
    "scrolled": true
   },
   "outputs": [],
   "source": [
    "autos_1.loc[:,\"lastSeen\"] = pd.to_datetime(autos_1.loc[:,\"lastSeen\"])\n",
    "autos_1.loc[:,\"dateCreated\"] = pd.to_datetime(autos_1.loc[:,\"dateCreated\"])\n",
    "autos_1.loc[:,\"numberOfDaysToSell\"]=autos_1.loc[:,\"lastSeen\"]-autos_1.loc[:,\"dateCreated\"]"
   ]
  },
  {
   "cell_type": "code",
   "execution_count": 12,
   "metadata": {},
   "outputs": [
    {
     "name": "stdout",
     "output_type": "stream",
     "text": [
      "<class 'pandas.core.frame.DataFrame'>\n",
      "Int64Index: 371513 entries, 0 to 371527\n",
      "Data columns (total 14 columns):\n",
      " #   Column              Non-Null Count   Dtype          \n",
      "---  ------              --------------   -----          \n",
      " 0   dateCrawled         371513 non-null  object         \n",
      " 1   price               371513 non-null  int64          \n",
      " 2   vehicleType         333651 non-null  object         \n",
      " 3   yearOfRegistration  371513 non-null  int64          \n",
      " 4   gearbox             351310 non-null  object         \n",
      " 5   powerPS             371513 non-null  int64          \n",
      " 6   model               351032 non-null  object         \n",
      " 7   kilometer           371513 non-null  int64          \n",
      " 8   fuelType            338134 non-null  object         \n",
      " 9   brand               371513 non-null  object         \n",
      " 10  notRepairedDamage   299460 non-null  object         \n",
      " 11  dateCreated         371513 non-null  datetime64[ns] \n",
      " 12  lastSeen            371513 non-null  datetime64[ns] \n",
      " 13  numberOfDaysToSell  371513 non-null  timedelta64[ns]\n",
      "dtypes: datetime64[ns](2), int64(4), object(7), timedelta64[ns](1)\n",
      "memory usage: 42.5+ MB\n"
     ]
    }
   ],
   "source": [
    "autos_1.info()"
   ]
  },
  {
   "cell_type": "code",
   "execution_count": 13,
   "metadata": {},
   "outputs": [
    {
     "data": {
      "text/html": [
       "<div>\n",
       "<style scoped>\n",
       "    .dataframe tbody tr th:only-of-type {\n",
       "        vertical-align: middle;\n",
       "    }\n",
       "\n",
       "    .dataframe tbody tr th {\n",
       "        vertical-align: top;\n",
       "    }\n",
       "\n",
       "    .dataframe thead th {\n",
       "        text-align: right;\n",
       "    }\n",
       "</style>\n",
       "<table border=\"1\" class=\"dataframe\">\n",
       "  <thead>\n",
       "    <tr style=\"text-align: right;\">\n",
       "      <th></th>\n",
       "      <th>dateCrawled</th>\n",
       "      <th>price</th>\n",
       "      <th>vehicleType</th>\n",
       "      <th>yearOfRegistration</th>\n",
       "      <th>gearbox</th>\n",
       "      <th>powerPS</th>\n",
       "      <th>model</th>\n",
       "      <th>kilometer</th>\n",
       "      <th>fuelType</th>\n",
       "      <th>brand</th>\n",
       "      <th>notRepairedDamage</th>\n",
       "      <th>dateCreated</th>\n",
       "      <th>lastSeen</th>\n",
       "      <th>numberOfDaysToSell</th>\n",
       "    </tr>\n",
       "  </thead>\n",
       "  <tbody>\n",
       "    <tr>\n",
       "      <th>0</th>\n",
       "      <td>2016-03-24 11:52:17</td>\n",
       "      <td>480</td>\n",
       "      <td>NaN</td>\n",
       "      <td>1993</td>\n",
       "      <td>manuell</td>\n",
       "      <td>0</td>\n",
       "      <td>golf</td>\n",
       "      <td>150000</td>\n",
       "      <td>benzin</td>\n",
       "      <td>volkswagen</td>\n",
       "      <td>NaN</td>\n",
       "      <td>2016-03-24</td>\n",
       "      <td>2016-04-07 03:16:57</td>\n",
       "      <td>14 days 03:16:57</td>\n",
       "    </tr>\n",
       "    <tr>\n",
       "      <th>1</th>\n",
       "      <td>2016-03-24 10:58:45</td>\n",
       "      <td>18300</td>\n",
       "      <td>coupe</td>\n",
       "      <td>2011</td>\n",
       "      <td>manuell</td>\n",
       "      <td>190</td>\n",
       "      <td>NaN</td>\n",
       "      <td>125000</td>\n",
       "      <td>diesel</td>\n",
       "      <td>audi</td>\n",
       "      <td>ja</td>\n",
       "      <td>2016-03-24</td>\n",
       "      <td>2016-04-07 01:46:50</td>\n",
       "      <td>14 days 01:46:50</td>\n",
       "    </tr>\n",
       "    <tr>\n",
       "      <th>2</th>\n",
       "      <td>2016-03-14 12:52:21</td>\n",
       "      <td>9800</td>\n",
       "      <td>suv</td>\n",
       "      <td>2004</td>\n",
       "      <td>automatik</td>\n",
       "      <td>163</td>\n",
       "      <td>grand</td>\n",
       "      <td>125000</td>\n",
       "      <td>diesel</td>\n",
       "      <td>jeep</td>\n",
       "      <td>NaN</td>\n",
       "      <td>2016-03-14</td>\n",
       "      <td>2016-04-05 12:47:46</td>\n",
       "      <td>22 days 12:47:46</td>\n",
       "    </tr>\n",
       "    <tr>\n",
       "      <th>3</th>\n",
       "      <td>2016-03-17 16:54:04</td>\n",
       "      <td>1500</td>\n",
       "      <td>kleinwagen</td>\n",
       "      <td>2001</td>\n",
       "      <td>manuell</td>\n",
       "      <td>75</td>\n",
       "      <td>golf</td>\n",
       "      <td>150000</td>\n",
       "      <td>benzin</td>\n",
       "      <td>volkswagen</td>\n",
       "      <td>nein</td>\n",
       "      <td>2016-03-17</td>\n",
       "      <td>2016-03-17 17:40:17</td>\n",
       "      <td>0 days 17:40:17</td>\n",
       "    </tr>\n",
       "    <tr>\n",
       "      <th>4</th>\n",
       "      <td>2016-03-31 17:25:20</td>\n",
       "      <td>3600</td>\n",
       "      <td>kleinwagen</td>\n",
       "      <td>2008</td>\n",
       "      <td>manuell</td>\n",
       "      <td>69</td>\n",
       "      <td>fabia</td>\n",
       "      <td>90000</td>\n",
       "      <td>diesel</td>\n",
       "      <td>skoda</td>\n",
       "      <td>nein</td>\n",
       "      <td>2016-03-31</td>\n",
       "      <td>2016-04-06 10:17:21</td>\n",
       "      <td>6 days 10:17:21</td>\n",
       "    </tr>\n",
       "  </tbody>\n",
       "</table>\n",
       "</div>"
      ],
      "text/plain": [
       "           dateCrawled  price vehicleType  yearOfRegistration    gearbox  \\\n",
       "0  2016-03-24 11:52:17    480         NaN                1993    manuell   \n",
       "1  2016-03-24 10:58:45  18300       coupe                2011    manuell   \n",
       "2  2016-03-14 12:52:21   9800         suv                2004  automatik   \n",
       "3  2016-03-17 16:54:04   1500  kleinwagen                2001    manuell   \n",
       "4  2016-03-31 17:25:20   3600  kleinwagen                2008    manuell   \n",
       "\n",
       "   powerPS  model  kilometer fuelType       brand notRepairedDamage  \\\n",
       "0        0   golf     150000   benzin  volkswagen               NaN   \n",
       "1      190    NaN     125000   diesel        audi                ja   \n",
       "2      163  grand     125000   diesel        jeep               NaN   \n",
       "3       75   golf     150000   benzin  volkswagen              nein   \n",
       "4       69  fabia      90000   diesel       skoda              nein   \n",
       "\n",
       "  dateCreated            lastSeen numberOfDaysToSell  \n",
       "0  2016-03-24 2016-04-07 03:16:57   14 days 03:16:57  \n",
       "1  2016-03-24 2016-04-07 01:46:50   14 days 01:46:50  \n",
       "2  2016-03-14 2016-04-05 12:47:46   22 days 12:47:46  \n",
       "3  2016-03-17 2016-03-17 17:40:17    0 days 17:40:17  \n",
       "4  2016-03-31 2016-04-06 10:17:21    6 days 10:17:21  "
      ]
     },
     "execution_count": 13,
     "metadata": {},
     "output_type": "execute_result"
    }
   ],
   "source": [
    "autos_1.head()"
   ]
  },
  {
   "cell_type": "markdown",
   "metadata": {},
   "source": [
    "The column \"numberOfDaysToSell\" was created, however the variable is in a timedelta format. We wish to convert the values in it into a _float type,_ representing the number of days in a numerical form."
   ]
  },
  {
   "cell_type": "code",
   "execution_count": 14,
   "metadata": {},
   "outputs": [],
   "source": [
    "autos_1['numberOfDaysToSell'] = (autos_1['numberOfDaysToSell'].dt.total_seconds())/86400"
   ]
  },
  {
   "cell_type": "code",
   "execution_count": 15,
   "metadata": {},
   "outputs": [
    {
     "data": {
      "text/html": [
       "<div>\n",
       "<style scoped>\n",
       "    .dataframe tbody tr th:only-of-type {\n",
       "        vertical-align: middle;\n",
       "    }\n",
       "\n",
       "    .dataframe tbody tr th {\n",
       "        vertical-align: top;\n",
       "    }\n",
       "\n",
       "    .dataframe thead th {\n",
       "        text-align: right;\n",
       "    }\n",
       "</style>\n",
       "<table border=\"1\" class=\"dataframe\">\n",
       "  <thead>\n",
       "    <tr style=\"text-align: right;\">\n",
       "      <th></th>\n",
       "      <th>dateCrawled</th>\n",
       "      <th>price</th>\n",
       "      <th>vehicleType</th>\n",
       "      <th>yearOfRegistration</th>\n",
       "      <th>gearbox</th>\n",
       "      <th>powerPS</th>\n",
       "      <th>model</th>\n",
       "      <th>kilometer</th>\n",
       "      <th>fuelType</th>\n",
       "      <th>brand</th>\n",
       "      <th>notRepairedDamage</th>\n",
       "      <th>dateCreated</th>\n",
       "      <th>lastSeen</th>\n",
       "      <th>numberOfDaysToSell</th>\n",
       "    </tr>\n",
       "  </thead>\n",
       "  <tbody>\n",
       "    <tr>\n",
       "      <th>0</th>\n",
       "      <td>2016-03-24 11:52:17</td>\n",
       "      <td>480</td>\n",
       "      <td>NaN</td>\n",
       "      <td>1993</td>\n",
       "      <td>manuell</td>\n",
       "      <td>0</td>\n",
       "      <td>golf</td>\n",
       "      <td>150000</td>\n",
       "      <td>benzin</td>\n",
       "      <td>volkswagen</td>\n",
       "      <td>NaN</td>\n",
       "      <td>2016-03-24</td>\n",
       "      <td>2016-04-07 03:16:57</td>\n",
       "      <td>14.136771</td>\n",
       "    </tr>\n",
       "    <tr>\n",
       "      <th>1</th>\n",
       "      <td>2016-03-24 10:58:45</td>\n",
       "      <td>18300</td>\n",
       "      <td>coupe</td>\n",
       "      <td>2011</td>\n",
       "      <td>manuell</td>\n",
       "      <td>190</td>\n",
       "      <td>NaN</td>\n",
       "      <td>125000</td>\n",
       "      <td>diesel</td>\n",
       "      <td>audi</td>\n",
       "      <td>ja</td>\n",
       "      <td>2016-03-24</td>\n",
       "      <td>2016-04-07 01:46:50</td>\n",
       "      <td>14.074190</td>\n",
       "    </tr>\n",
       "    <tr>\n",
       "      <th>2</th>\n",
       "      <td>2016-03-14 12:52:21</td>\n",
       "      <td>9800</td>\n",
       "      <td>suv</td>\n",
       "      <td>2004</td>\n",
       "      <td>automatik</td>\n",
       "      <td>163</td>\n",
       "      <td>grand</td>\n",
       "      <td>125000</td>\n",
       "      <td>diesel</td>\n",
       "      <td>jeep</td>\n",
       "      <td>NaN</td>\n",
       "      <td>2016-03-14</td>\n",
       "      <td>2016-04-05 12:47:46</td>\n",
       "      <td>22.533171</td>\n",
       "    </tr>\n",
       "    <tr>\n",
       "      <th>3</th>\n",
       "      <td>2016-03-17 16:54:04</td>\n",
       "      <td>1500</td>\n",
       "      <td>kleinwagen</td>\n",
       "      <td>2001</td>\n",
       "      <td>manuell</td>\n",
       "      <td>75</td>\n",
       "      <td>golf</td>\n",
       "      <td>150000</td>\n",
       "      <td>benzin</td>\n",
       "      <td>volkswagen</td>\n",
       "      <td>nein</td>\n",
       "      <td>2016-03-17</td>\n",
       "      <td>2016-03-17 17:40:17</td>\n",
       "      <td>0.736308</td>\n",
       "    </tr>\n",
       "    <tr>\n",
       "      <th>4</th>\n",
       "      <td>2016-03-31 17:25:20</td>\n",
       "      <td>3600</td>\n",
       "      <td>kleinwagen</td>\n",
       "      <td>2008</td>\n",
       "      <td>manuell</td>\n",
       "      <td>69</td>\n",
       "      <td>fabia</td>\n",
       "      <td>90000</td>\n",
       "      <td>diesel</td>\n",
       "      <td>skoda</td>\n",
       "      <td>nein</td>\n",
       "      <td>2016-03-31</td>\n",
       "      <td>2016-04-06 10:17:21</td>\n",
       "      <td>6.428715</td>\n",
       "    </tr>\n",
       "  </tbody>\n",
       "</table>\n",
       "</div>"
      ],
      "text/plain": [
       "           dateCrawled  price vehicleType  yearOfRegistration    gearbox  \\\n",
       "0  2016-03-24 11:52:17    480         NaN                1993    manuell   \n",
       "1  2016-03-24 10:58:45  18300       coupe                2011    manuell   \n",
       "2  2016-03-14 12:52:21   9800         suv                2004  automatik   \n",
       "3  2016-03-17 16:54:04   1500  kleinwagen                2001    manuell   \n",
       "4  2016-03-31 17:25:20   3600  kleinwagen                2008    manuell   \n",
       "\n",
       "   powerPS  model  kilometer fuelType       brand notRepairedDamage  \\\n",
       "0        0   golf     150000   benzin  volkswagen               NaN   \n",
       "1      190    NaN     125000   diesel        audi                ja   \n",
       "2      163  grand     125000   diesel        jeep               NaN   \n",
       "3       75   golf     150000   benzin  volkswagen              nein   \n",
       "4       69  fabia      90000   diesel       skoda              nein   \n",
       "\n",
       "  dateCreated            lastSeen  numberOfDaysToSell  \n",
       "0  2016-03-24 2016-04-07 03:16:57           14.136771  \n",
       "1  2016-03-24 2016-04-07 01:46:50           14.074190  \n",
       "2  2016-03-14 2016-04-05 12:47:46           22.533171  \n",
       "3  2016-03-17 2016-03-17 17:40:17            0.736308  \n",
       "4  2016-03-31 2016-04-06 10:17:21            6.428715  "
      ]
     },
     "execution_count": 15,
     "metadata": {},
     "output_type": "execute_result"
    }
   ],
   "source": [
    "autos_1.head()"
   ]
  },
  {
   "cell_type": "markdown",
   "metadata": {},
   "source": [
    "Now that the variable __\"numberOfDaysToSell\"__ has been created, we can delete the columns dateCrawled, dataCreated, lastSeen, as they are no longer needed."
   ]
  },
  {
   "cell_type": "code",
   "execution_count": 16,
   "metadata": {},
   "outputs": [],
   "source": [
    "autos_2 = autos_1.drop([\"dateCrawled\", \"dateCreated\", \"lastSeen\"], axis=1)"
   ]
  },
  {
   "cell_type": "code",
   "execution_count": 17,
   "metadata": {},
   "outputs": [
    {
     "name": "stdout",
     "output_type": "stream",
     "text": [
      "<class 'pandas.core.frame.DataFrame'>\n",
      "Int64Index: 371513 entries, 0 to 371527\n",
      "Data columns (total 11 columns):\n",
      " #   Column              Non-Null Count   Dtype  \n",
      "---  ------              --------------   -----  \n",
      " 0   price               371513 non-null  int64  \n",
      " 1   vehicleType         333651 non-null  object \n",
      " 2   yearOfRegistration  371513 non-null  int64  \n",
      " 3   gearbox             351310 non-null  object \n",
      " 4   powerPS             371513 non-null  int64  \n",
      " 5   model               351032 non-null  object \n",
      " 6   kilometer           371513 non-null  int64  \n",
      " 7   fuelType            338134 non-null  object \n",
      " 8   brand               371513 non-null  object \n",
      " 9   notRepairedDamage   299460 non-null  object \n",
      " 10  numberOfDaysToSell  371513 non-null  float64\n",
      "dtypes: float64(1), int64(4), object(6)\n",
      "memory usage: 34.0+ MB\n"
     ]
    }
   ],
   "source": [
    "autos_2.info()"
   ]
  },
  {
   "cell_type": "code",
   "execution_count": 18,
   "metadata": {},
   "outputs": [
    {
     "data": {
      "text/html": [
       "<div>\n",
       "<style scoped>\n",
       "    .dataframe tbody tr th:only-of-type {\n",
       "        vertical-align: middle;\n",
       "    }\n",
       "\n",
       "    .dataframe tbody tr th {\n",
       "        vertical-align: top;\n",
       "    }\n",
       "\n",
       "    .dataframe thead th {\n",
       "        text-align: right;\n",
       "    }\n",
       "</style>\n",
       "<table border=\"1\" class=\"dataframe\">\n",
       "  <thead>\n",
       "    <tr style=\"text-align: right;\">\n",
       "      <th></th>\n",
       "      <th>price</th>\n",
       "      <th>vehicleType</th>\n",
       "      <th>yearOfRegistration</th>\n",
       "      <th>gearbox</th>\n",
       "      <th>powerPS</th>\n",
       "      <th>model</th>\n",
       "      <th>kilometer</th>\n",
       "      <th>fuelType</th>\n",
       "      <th>brand</th>\n",
       "      <th>notRepairedDamage</th>\n",
       "      <th>numberOfDaysToSell</th>\n",
       "    </tr>\n",
       "  </thead>\n",
       "  <tbody>\n",
       "    <tr>\n",
       "      <th>0</th>\n",
       "      <td>480</td>\n",
       "      <td>NaN</td>\n",
       "      <td>1993</td>\n",
       "      <td>manuell</td>\n",
       "      <td>0</td>\n",
       "      <td>golf</td>\n",
       "      <td>150000</td>\n",
       "      <td>benzin</td>\n",
       "      <td>volkswagen</td>\n",
       "      <td>NaN</td>\n",
       "      <td>14.136771</td>\n",
       "    </tr>\n",
       "    <tr>\n",
       "      <th>1</th>\n",
       "      <td>18300</td>\n",
       "      <td>coupe</td>\n",
       "      <td>2011</td>\n",
       "      <td>manuell</td>\n",
       "      <td>190</td>\n",
       "      <td>NaN</td>\n",
       "      <td>125000</td>\n",
       "      <td>diesel</td>\n",
       "      <td>audi</td>\n",
       "      <td>ja</td>\n",
       "      <td>14.074190</td>\n",
       "    </tr>\n",
       "    <tr>\n",
       "      <th>2</th>\n",
       "      <td>9800</td>\n",
       "      <td>suv</td>\n",
       "      <td>2004</td>\n",
       "      <td>automatik</td>\n",
       "      <td>163</td>\n",
       "      <td>grand</td>\n",
       "      <td>125000</td>\n",
       "      <td>diesel</td>\n",
       "      <td>jeep</td>\n",
       "      <td>NaN</td>\n",
       "      <td>22.533171</td>\n",
       "    </tr>\n",
       "    <tr>\n",
       "      <th>3</th>\n",
       "      <td>1500</td>\n",
       "      <td>kleinwagen</td>\n",
       "      <td>2001</td>\n",
       "      <td>manuell</td>\n",
       "      <td>75</td>\n",
       "      <td>golf</td>\n",
       "      <td>150000</td>\n",
       "      <td>benzin</td>\n",
       "      <td>volkswagen</td>\n",
       "      <td>nein</td>\n",
       "      <td>0.736308</td>\n",
       "    </tr>\n",
       "    <tr>\n",
       "      <th>4</th>\n",
       "      <td>3600</td>\n",
       "      <td>kleinwagen</td>\n",
       "      <td>2008</td>\n",
       "      <td>manuell</td>\n",
       "      <td>69</td>\n",
       "      <td>fabia</td>\n",
       "      <td>90000</td>\n",
       "      <td>diesel</td>\n",
       "      <td>skoda</td>\n",
       "      <td>nein</td>\n",
       "      <td>6.428715</td>\n",
       "    </tr>\n",
       "  </tbody>\n",
       "</table>\n",
       "</div>"
      ],
      "text/plain": [
       "   price vehicleType  yearOfRegistration    gearbox  powerPS  model  \\\n",
       "0    480         NaN                1993    manuell        0   golf   \n",
       "1  18300       coupe                2011    manuell      190    NaN   \n",
       "2   9800         suv                2004  automatik      163  grand   \n",
       "3   1500  kleinwagen                2001    manuell       75   golf   \n",
       "4   3600  kleinwagen                2008    manuell       69  fabia   \n",
       "\n",
       "   kilometer fuelType       brand notRepairedDamage  numberOfDaysToSell  \n",
       "0     150000   benzin  volkswagen               NaN           14.136771  \n",
       "1     125000   diesel        audi                ja           14.074190  \n",
       "2     125000   diesel        jeep               NaN           22.533171  \n",
       "3     150000   benzin  volkswagen              nein            0.736308  \n",
       "4      90000   diesel       skoda              nein            6.428715  "
      ]
     },
     "execution_count": 18,
     "metadata": {},
     "output_type": "execute_result"
    }
   ],
   "source": [
    "autos_2.head()"
   ]
  },
  {
   "cell_type": "code",
   "execution_count": 19,
   "metadata": {},
   "outputs": [
    {
     "data": {
      "text/html": [
       "<div>\n",
       "<style scoped>\n",
       "    .dataframe tbody tr th:only-of-type {\n",
       "        vertical-align: middle;\n",
       "    }\n",
       "\n",
       "    .dataframe tbody tr th {\n",
       "        vertical-align: top;\n",
       "    }\n",
       "\n",
       "    .dataframe thead th {\n",
       "        text-align: right;\n",
       "    }\n",
       "</style>\n",
       "<table border=\"1\" class=\"dataframe\">\n",
       "  <thead>\n",
       "    <tr style=\"text-align: right;\">\n",
       "      <th></th>\n",
       "      <th>price</th>\n",
       "      <th>yearOfRegistration</th>\n",
       "      <th>powerPS</th>\n",
       "      <th>kilometer</th>\n",
       "      <th>numberOfDaysToSell</th>\n",
       "    </tr>\n",
       "  </thead>\n",
       "  <tbody>\n",
       "    <tr>\n",
       "      <th>count</th>\n",
       "      <td>3.715130e+05</td>\n",
       "      <td>371513.00</td>\n",
       "      <td>371513.00</td>\n",
       "      <td>371513.00</td>\n",
       "      <td>371513.00</td>\n",
       "    </tr>\n",
       "    <tr>\n",
       "      <th>mean</th>\n",
       "      <td>1.729570e+04</td>\n",
       "      <td>2004.58</td>\n",
       "      <td>115.55</td>\n",
       "      <td>125619.71</td>\n",
       "      <td>9.33</td>\n",
       "    </tr>\n",
       "    <tr>\n",
       "      <th>std</th>\n",
       "      <td>3.588026e+06</td>\n",
       "      <td>92.87</td>\n",
       "      <td>192.14</td>\n",
       "      <td>40110.83</td>\n",
       "      <td>8.66</td>\n",
       "    </tr>\n",
       "    <tr>\n",
       "      <th>min</th>\n",
       "      <td>0.000000e+00</td>\n",
       "      <td>1000.00</td>\n",
       "      <td>0.00</td>\n",
       "      <td>5000.00</td>\n",
       "      <td>0.02</td>\n",
       "    </tr>\n",
       "    <tr>\n",
       "      <th>25%</th>\n",
       "      <td>1.150000e+03</td>\n",
       "      <td>1999.00</td>\n",
       "      <td>70.00</td>\n",
       "      <td>125000.00</td>\n",
       "      <td>2.56</td>\n",
       "    </tr>\n",
       "    <tr>\n",
       "      <th>50%</th>\n",
       "      <td>2.950000e+03</td>\n",
       "      <td>2003.00</td>\n",
       "      <td>105.00</td>\n",
       "      <td>150000.00</td>\n",
       "      <td>6.53</td>\n",
       "    </tr>\n",
       "    <tr>\n",
       "      <th>75%</th>\n",
       "      <td>7.200000e+03</td>\n",
       "      <td>2008.00</td>\n",
       "      <td>150.00</td>\n",
       "      <td>150000.00</td>\n",
       "      <td>14.09</td>\n",
       "    </tr>\n",
       "    <tr>\n",
       "      <th>max</th>\n",
       "      <td>2.147484e+09</td>\n",
       "      <td>9999.00</td>\n",
       "      <td>20000.00</td>\n",
       "      <td>150000.00</td>\n",
       "      <td>759.20</td>\n",
       "    </tr>\n",
       "  </tbody>\n",
       "</table>\n",
       "</div>"
      ],
      "text/plain": [
       "              price  yearOfRegistration    powerPS  kilometer  \\\n",
       "count  3.715130e+05           371513.00  371513.00  371513.00   \n",
       "mean   1.729570e+04             2004.58     115.55  125619.71   \n",
       "std    3.588026e+06               92.87     192.14   40110.83   \n",
       "min    0.000000e+00             1000.00       0.00    5000.00   \n",
       "25%    1.150000e+03             1999.00      70.00  125000.00   \n",
       "50%    2.950000e+03             2003.00     105.00  150000.00   \n",
       "75%    7.200000e+03             2008.00     150.00  150000.00   \n",
       "max    2.147484e+09             9999.00   20000.00  150000.00   \n",
       "\n",
       "       numberOfDaysToSell  \n",
       "count           371513.00  \n",
       "mean                 9.33  \n",
       "std                  8.66  \n",
       "min                  0.02  \n",
       "25%                  2.56  \n",
       "50%                  6.53  \n",
       "75%                 14.09  \n",
       "max                759.20  "
      ]
     },
     "execution_count": 19,
     "metadata": {},
     "output_type": "execute_result"
    }
   ],
   "source": [
    "#The describe() method shows a summary of the numerical attributes\n",
    "autos_2.describe().round(2)"
   ]
  },
  {
   "cell_type": "markdown",
   "metadata": {},
   "source": [
    "A quick way to get a feel of the data type is to plot a histogram for each numerical attribute."
   ]
  },
  {
   "cell_type": "code",
   "execution_count": 20,
   "metadata": {},
   "outputs": [
    {
     "data": {
      "image/png": "[encoded data removed]",
      "text/plain": [
       "<Figure size 1440x1080 with 6 Axes>"
      ]
     },
     "metadata": {
      "needs_background": "light"
     },
     "output_type": "display_data"
    }
   ],
   "source": [
    "autos_2.hist(bins=50, figsize=(20,15))\n",
    "plt.show()"
   ]
  },
  {
   "cell_type": "markdown",
   "metadata": {},
   "source": [
    "From the initial analysis above we can notice the following:\n",
    "\n",
    "* Number of days to sell is extremely skewed to the right\n",
    "* Power PS is extremely skewed to the right\n",
    "* Price is extremely skewed to the right\n",
    "* Year of is extremely skewed to the right\n",
    "\n",
    "Hence further investigations are necessary, as the skewness might be due to user typos. A boxplot chart might be helpful."
   ]
  },
  {
   "cell_type": "code",
   "execution_count": 21,
   "metadata": {},
   "outputs": [
    {
     "data": {
      "image/png": "[encoded data removed]",
      "text/plain": [
       "<Figure size 1080x720 with 4 Axes>"
      ]
     },
     "metadata": {
      "needs_background": "light"
     },
     "output_type": "display_data"
    }
   ],
   "source": [
    "plt.subplots(figsize=(15,10))\n",
    "sns.load_dataset(\"tips\")\n",
    "\n",
    "# Distribution of the \"numberOfDaysToSell\" variable\n",
    "plt.subplot(221)\n",
    "sns.boxplot(autos_2[\"numberOfDaysToSell\"])\n",
    "\n",
    "# Distribution of the \"powerPS\" variable\n",
    "plt.subplot(222)\n",
    "sns.boxplot(autos_2[\"powerPS\"])\n",
    "\n",
    "# Distribution of the \"price\" variable\n",
    "plt.subplot(223)\n",
    "sns.boxplot(autos_2[\"price\"])\n",
    "\n",
    "# Distribution of the \"yearOfRegistration\" variable\n",
    "plt.subplot(224)\n",
    "sns.boxplot(autos_2['yearOfRegistration'])\n",
    "\n",
    "plt.show()"
   ]
  },
  {
   "cell_type": "markdown",
   "metadata": {},
   "source": [
    "From the boxplots above we can notice really extreme outliers which are surely masking the real distribution of the data. These outliers will have to be removed. Using quantiles, let's understand first how much is the proportion of these outliers to the rest of the data."
   ]
  },
  {
   "cell_type": "code",
   "execution_count": 22,
   "metadata": {},
   "outputs": [
    {
     "name": "stdout",
     "output_type": "stream",
     "text": [
      "Quantile (0.05) 0.57\n",
      "Quantile (0.1) 0.78\n",
      "Quantile (0.25) 2.56\n",
      "Quantile (0.5) 6.53\n",
      "Quantile (0.75) 14.09\n",
      "Quantile (0.99) 31.49\n",
      "Quantile (0.995) 32.40\n",
      "Quantile (0.9999) 87.35\n",
      "Quantile (0.99999) 258.16\n",
      "Quantile (1) 759.20\n"
     ]
    }
   ],
   "source": [
    "quantile = np.quantile(a=autos_2[\"numberOfDaysToSell\"], q=[0.05,0.1,0.25,0.5,0.75,0.99,0.995,0.9999,0.99999,1])\n",
    "q_values=[0.05,0.1,0.25,0.5,0.75,0.99,0.995,0.9999,0.99999,1]\n",
    "n=0\n",
    "for q in quantile:\n",
    "    print(\"Quantile\", '({})'.format(q_values[n]), '{:.2f}'.format(q))\n",
    "    n = n + 1"
   ]
  },
  {
   "cell_type": "code",
   "execution_count": 23,
   "metadata": {},
   "outputs": [
    {
     "name": "stdout",
     "output_type": "stream",
     "text": [
      "Quantile (0.1) 0.00\n",
      "Quantile (0.12) 45.00\n",
      "Quantile (0.15) 54.00\n",
      "Quantile (0.25) 70.00\n",
      "Quantile (0.5) 105.00\n",
      "Quantile (0.75) 150.00\n",
      "Quantile (0.99) 340.00\n",
      "Quantile (0.995) 404.00\n",
      "Quantile (0.9999) 10879.76\n",
      "Quantile (0.99999) 18295.51\n",
      "Quantile (1) 20000.00\n"
     ]
    }
   ],
   "source": [
    "quantile = np.quantile(a=autos_2[\"powerPS\"], q=[0.1,0.12,0.15,0.25,0.5,0.75,0.99,0.995,0.9999,0.99999,1])\n",
    "q_values=[0.1,0.12,0.15,0.25,0.5,0.75,0.99,0.995,0.9999,0.99999,1]\n",
    "n=0\n",
    "for q in quantile:\n",
    "    print(\"Quantile\", '({})'.format(q_values[n]), '{:.2f}'.format(q))\n",
    "    n = n + 1"
   ]
  },
  {
   "cell_type": "code",
   "execution_count": 24,
   "metadata": {},
   "outputs": [
    {
     "name": "stdout",
     "output_type": "stream",
     "text": [
      "Quantile (0.03) 1.00\n",
      "Quantile (0.04) 140.00\n",
      "Quantile (0.1) 500.00\n",
      "Quantile (0.25) 1150.00\n",
      "Quantile (0.5) 2950.00\n",
      "Quantile (0.75) 7200.00\n",
      "Quantile (0.99) 36000.00\n",
      "Quantile (0.995) 47500.00\n",
      "Quantile (0.9999) 11111111.00\n",
      "Quantile (0.99999) 99999999.00\n",
      "Quantile (1) 2147483647.00\n"
     ]
    }
   ],
   "source": [
    "quantile = np.quantile(a=autos_2[\"price\"], q=[0.03,0.04,0.1,0.25,0.5,0.75,0.99,0.995,0.9999,0.99999,1])\n",
    "q_values=[0.03,0.04,0.1,0.25,0.5,0.75,0.99,0.995,0.9999,0.99999,1]\n",
    "n=0\n",
    "for q in quantile:\n",
    "    print(\"Quantile\", '({})'.format(q_values[n]), '{:.2f}'.format(q))\n",
    "    n = n + 1"
   ]
  },
  {
   "cell_type": "code",
   "execution_count": 25,
   "metadata": {},
   "outputs": [
    {
     "name": "stdout",
     "output_type": "stream",
     "text": [
      "Quantile (0.05) 1992.00\n",
      "Quantile (0.1) 1995.00\n",
      "Quantile (0.25) 1999.00\n",
      "Quantile (0.5) 2003.00\n",
      "Quantile (0.75) 2008.00\n",
      "Quantile (0.99) 2018.00\n",
      "Quantile (0.995) 2018.00\n",
      "Quantile (0.9999) 8493.20\n",
      "Quantile (0.99999) 9999.00\n",
      "Quantile (1) 9999.00\n"
     ]
    }
   ],
   "source": [
    "quantile = np.quantile(a=autos_2[\"yearOfRegistration\"], q=[0.05,0.1,0.25,0.5,0.75,0.99,0.995,0.9999,0.99999,1])\n",
    "q_values=[0.05,0.1,0.25,0.5,0.75,0.99,0.995,0.9999,0.99999,1]\n",
    "n=0\n",
    "for q in quantile:\n",
    "    print(\"Quantile\", '({})'.format(q_values[n]), '{:.2f}'.format(q))\n",
    "    n = n + 1"
   ]
  },
  {
   "cell_type": "markdown",
   "metadata": {},
   "source": [
    "__Findings of the analysis__:\n",
    "\n",
    "* The 99.5th percentile of the variable \"numberOfDaysToSell\" is 32.40\n",
    "* The 10th percentile of the variable \"powerPS\" is 0 (most likely to be user typos)\n",
    "* The 99.5th percentile of the variable \"powerPS\" is 404\n",
    "* The 3rd percentile of the variable \"price\" is 1 (most likely to be errors or old cars)\n",
    "* The 99.5th percentile of the variable \"price\" is 47500\n",
    "* The 10th percentile of the variable \"yearOfRegistration\" is 1995 (really old cars)\n",
    "* The 99.5th percentile of the variable \"yearOfRegistration\" is 2018\n",
    "\n",
    "\n",
    "We can also notice a considerable amount of data \n",
    "\n",
    "The data below the 10th percentile, as well as the data beyond the 95th percentile is very likely to be noise or input error from the user. Thus, we will delete it to prevent it from biasing the models.\n",
    "\n",
    "The selected ranges for each variable are as follows:\n",
    "\n",
    "* numberOfDaysToSell = from 0 to 32.4\n",
    "* powerPS = from 45 to 404\n",
    "* price = from 100 to 47,500\n",
    "* yearOfRegistration = from 1990 to 2018"
   ]
  },
  {
   "cell_type": "code",
   "execution_count": 26,
   "metadata": {},
   "outputs": [],
   "source": [
    "autos_3 = autos_2.copy()\n",
    "autos_3 = autos_3[(autos_3[\"numberOfDaysToSell\"] <= 32.4)]\n",
    "autos_3 = autos_3[(autos_3[\"powerPS\"] >= 45) & (autos_3[\"powerPS\"] <= 404)]\n",
    "autos_3 = autos_3[(autos_3[\"price\"] >= 100) & (autos_3[\"price\"] <= 47500)]\n",
    "autos_3 = autos_3[(autos_3[\"yearOfRegistration\"] >= 1990) & (autos_3[\"yearOfRegistration\"] <= 2018)]"
   ]
  },
  {
   "cell_type": "code",
   "execution_count": 27,
   "metadata": {},
   "outputs": [
    {
     "name": "stdout",
     "output_type": "stream",
     "text": [
      "<class 'pandas.core.frame.DataFrame'>\n",
      "Int64Index: 308742 entries, 1 to 371527\n",
      "Data columns (total 11 columns):\n",
      " #   Column              Non-Null Count   Dtype  \n",
      "---  ------              --------------   -----  \n",
      " 0   price               308742 non-null  int64  \n",
      " 1   vehicleType         288035 non-null  object \n",
      " 2   yearOfRegistration  308742 non-null  int64  \n",
      " 3   gearbox             303118 non-null  object \n",
      " 4   powerPS             308742 non-null  int64  \n",
      " 5   model               297348 non-null  object \n",
      " 6   kilometer           308742 non-null  int64  \n",
      " 7   fuelType            289844 non-null  object \n",
      " 8   brand               308742 non-null  object \n",
      " 9   notRepairedDamage   263724 non-null  object \n",
      " 10  numberOfDaysToSell  308742 non-null  float64\n",
      "dtypes: float64(1), int64(4), object(6)\n",
      "memory usage: 28.3+ MB\n"
     ]
    }
   ],
   "source": [
    "autos_3.info()"
   ]
  },
  {
   "cell_type": "code",
   "execution_count": 28,
   "metadata": {},
   "outputs": [
    {
     "data": {
      "text/html": [
       "<div>\n",
       "<style scoped>\n",
       "    .dataframe tbody tr th:only-of-type {\n",
       "        vertical-align: middle;\n",
       "    }\n",
       "\n",
       "    .dataframe tbody tr th {\n",
       "        vertical-align: top;\n",
       "    }\n",
       "\n",
       "    .dataframe thead th {\n",
       "        text-align: right;\n",
       "    }\n",
       "</style>\n",
       "<table border=\"1\" class=\"dataframe\">\n",
       "  <thead>\n",
       "    <tr style=\"text-align: right;\">\n",
       "      <th></th>\n",
       "      <th>price</th>\n",
       "      <th>yearOfRegistration</th>\n",
       "      <th>powerPS</th>\n",
       "      <th>kilometer</th>\n",
       "      <th>numberOfDaysToSell</th>\n",
       "    </tr>\n",
       "  </thead>\n",
       "  <tbody>\n",
       "    <tr>\n",
       "      <th>count</th>\n",
       "      <td>308742.000000</td>\n",
       "      <td>308742.000000</td>\n",
       "      <td>308742.000000</td>\n",
       "      <td>308742.000000</td>\n",
       "      <td>308742.000000</td>\n",
       "    </tr>\n",
       "    <tr>\n",
       "      <th>mean</th>\n",
       "      <td>5813.357088</td>\n",
       "      <td>2004.162586</td>\n",
       "      <td>124.814577</td>\n",
       "      <td>126388.667561</td>\n",
       "      <td>9.323005</td>\n",
       "    </tr>\n",
       "    <tr>\n",
       "      <th>std</th>\n",
       "      <td>6574.030800</td>\n",
       "      <td>6.089257</td>\n",
       "      <td>56.016697</td>\n",
       "      <td>38494.237812</td>\n",
       "      <td>8.238715</td>\n",
       "    </tr>\n",
       "    <tr>\n",
       "      <th>min</th>\n",
       "      <td>100.000000</td>\n",
       "      <td>1990.000000</td>\n",
       "      <td>45.000000</td>\n",
       "      <td>5000.000000</td>\n",
       "      <td>0.017778</td>\n",
       "    </tr>\n",
       "    <tr>\n",
       "      <th>25%</th>\n",
       "      <td>1400.000000</td>\n",
       "      <td>2000.000000</td>\n",
       "      <td>80.000000</td>\n",
       "      <td>125000.000000</td>\n",
       "      <td>2.622616</td>\n",
       "    </tr>\n",
       "    <tr>\n",
       "      <th>50%</th>\n",
       "      <td>3400.000000</td>\n",
       "      <td>2004.000000</td>\n",
       "      <td>116.000000</td>\n",
       "      <td>150000.000000</td>\n",
       "      <td>6.595741</td>\n",
       "    </tr>\n",
       "    <tr>\n",
       "      <th>75%</th>\n",
       "      <td>7800.000000</td>\n",
       "      <td>2008.000000</td>\n",
       "      <td>150.000000</td>\n",
       "      <td>150000.000000</td>\n",
       "      <td>14.114777</td>\n",
       "    </tr>\n",
       "    <tr>\n",
       "      <th>max</th>\n",
       "      <td>47500.000000</td>\n",
       "      <td>2018.000000</td>\n",
       "      <td>404.000000</td>\n",
       "      <td>150000.000000</td>\n",
       "      <td>32.387326</td>\n",
       "    </tr>\n",
       "  </tbody>\n",
       "</table>\n",
       "</div>"
      ],
      "text/plain": [
       "               price  yearOfRegistration        powerPS      kilometer  \\\n",
       "count  308742.000000       308742.000000  308742.000000  308742.000000   \n",
       "mean     5813.357088         2004.162586     124.814577  126388.667561   \n",
       "std      6574.030800            6.089257      56.016697   38494.237812   \n",
       "min       100.000000         1990.000000      45.000000    5000.000000   \n",
       "25%      1400.000000         2000.000000      80.000000  125000.000000   \n",
       "50%      3400.000000         2004.000000     116.000000  150000.000000   \n",
       "75%      7800.000000         2008.000000     150.000000  150000.000000   \n",
       "max     47500.000000         2018.000000     404.000000  150000.000000   \n",
       "\n",
       "       numberOfDaysToSell  \n",
       "count       308742.000000  \n",
       "mean             9.323005  \n",
       "std              8.238715  \n",
       "min              0.017778  \n",
       "25%              2.622616  \n",
       "50%              6.595741  \n",
       "75%             14.114777  \n",
       "max             32.387326  "
      ]
     },
     "execution_count": 28,
     "metadata": {},
     "output_type": "execute_result"
    }
   ],
   "source": [
    "autos_3.describe()"
   ]
  },
  {
   "cell_type": "markdown",
   "metadata": {},
   "source": [
    "Let's have a look at the variables' distribution after the outliers removal step."
   ]
  },
  {
   "cell_type": "code",
   "execution_count": 29,
   "metadata": {},
   "outputs": [
    {
     "data": {
      "image/png": "[encoded data removed]",
      "text/plain": [
       "<Figure size 1440x1080 with 6 Axes>"
      ]
     },
     "metadata": {
      "needs_background": "light"
     },
     "output_type": "display_data"
    }
   ],
   "source": [
    "autos_3.hist(bins=50, figsize=(20,15))\n",
    "plt.show()"
   ]
  },
  {
   "cell_type": "code",
   "execution_count": 30,
   "metadata": {},
   "outputs": [
    {
     "data": {
      "image/png": "[encoded data removed]",
      "text/plain": [
       "<Figure size 1080x720 with 4 Axes>"
      ]
     },
     "metadata": {
      "needs_background": "light"
     },
     "output_type": "display_data"
    }
   ],
   "source": [
    "plt.subplots(figsize=(15,10))\n",
    "sns.load_dataset(\"tips\")\n",
    "\n",
    "# Distribution of the \"numberOfDaysToSell\" variable\n",
    "plt.subplot(221)\n",
    "sns.boxplot(autos_3[\"numberOfDaysToSell\"])\n",
    "\n",
    "# Distribution of the \"powerPS\" variable\n",
    "plt.subplot(222)\n",
    "sns.boxplot(autos_3[\"powerPS\"])\n",
    "\n",
    "# Distribution of the \"price\" variable\n",
    "plt.subplot(223)\n",
    "sns.boxplot(autos_3[\"price\"])\n",
    "\n",
    "# Distribution of the \"yearOfRegistration\" variable\n",
    "plt.subplot(224)\n",
    "sns.boxplot(autos_3['yearOfRegistration'])\n",
    "\n",
    "plt.show()"
   ]
  },
  {
   "cell_type": "markdown",
   "metadata": {},
   "source": [
    "According to the dataset, the last car ad created on Ebay was on 7-Apr-2016, thus the yearOfRegistration beyond 2016 is likely to be an incorrect information. Let's replace the year of registration based on the car mileage (kilometer)."
   ]
  },
  {
   "cell_type": "code",
   "execution_count": 31,
   "metadata": {},
   "outputs": [
    {
     "data": {
      "text/plain": [
       "array([1990, 1991, 1992, 1993, 1994, 1995, 1996, 1997, 1998, 1999, 2000,\n",
       "       2001, 2002, 2003, 2004, 2005, 2006, 2007, 2008, 2009, 2010, 2011,\n",
       "       2012, 2013, 2014, 2015, 2016, 2017, 2018], dtype=int64)"
      ]
     },
     "execution_count": 31,
     "metadata": {},
     "output_type": "execute_result"
    }
   ],
   "source": [
    "np.sort(autos_3['yearOfRegistration'].unique())"
   ]
  },
  {
   "cell_type": "code",
   "execution_count": 32,
   "metadata": {},
   "outputs": [
    {
     "name": "stdout",
     "output_type": "stream",
     "text": [
      "[  5000  10000  20000  30000  40000  50000  60000  70000  80000  90000\n",
      " 100000 125000 150000]\n",
      "[2016, 2017, 2018]\n"
     ]
    }
   ],
   "source": [
    "kilometer_v = np.sort(autos_3['kilometer'].unique())\n",
    "print(kilometer_v)\n",
    "year_v = [2016,2017,2018]\n",
    "print(year_v)"
   ]
  },
  {
   "cell_type": "code",
   "execution_count": 33,
   "metadata": {},
   "outputs": [
    {
     "data": {
      "text/plain": [
       "False    292186\n",
       "True      16556\n",
       "Name: yearOfRegistration, dtype: int64"
      ]
     },
     "execution_count": 33,
     "metadata": {},
     "output_type": "execute_result"
    }
   ],
   "source": [
    "(autos_3[\"yearOfRegistration\"]>=2016).value_counts()"
   ]
  },
  {
   "cell_type": "code",
   "execution_count": 34,
   "metadata": {},
   "outputs": [],
   "source": [
    "for y in year_v:\n",
    "    n = 2015\n",
    "    for k in kilometer_v:\n",
    "        autos_3['yearOfRegistration'] = np.where((autos_3['yearOfRegistration'] == y) \n",
    "                                               & (autos_3['kilometer'] == k), n, autos_3['yearOfRegistration'])\n",
    "        n = n - 1    "
   ]
  },
  {
   "cell_type": "code",
   "execution_count": 35,
   "metadata": {},
   "outputs": [
    {
     "data": {
      "text/html": [
       "<div>\n",
       "<style scoped>\n",
       "    .dataframe tbody tr th:only-of-type {\n",
       "        vertical-align: middle;\n",
       "    }\n",
       "\n",
       "    .dataframe tbody tr th {\n",
       "        vertical-align: top;\n",
       "    }\n",
       "\n",
       "    .dataframe thead th {\n",
       "        text-align: right;\n",
       "    }\n",
       "</style>\n",
       "<table border=\"1\" class=\"dataframe\">\n",
       "  <thead>\n",
       "    <tr style=\"text-align: right;\">\n",
       "      <th></th>\n",
       "      <th>price</th>\n",
       "      <th>yearOfRegistration</th>\n",
       "      <th>powerPS</th>\n",
       "      <th>kilometer</th>\n",
       "      <th>numberOfDaysToSell</th>\n",
       "    </tr>\n",
       "  </thead>\n",
       "  <tbody>\n",
       "    <tr>\n",
       "      <th>count</th>\n",
       "      <td>308742.000000</td>\n",
       "      <td>308742.000000</td>\n",
       "      <td>308742.000000</td>\n",
       "      <td>308742.000000</td>\n",
       "      <td>308742.000000</td>\n",
       "    </tr>\n",
       "    <tr>\n",
       "      <th>mean</th>\n",
       "      <td>5813.357088</td>\n",
       "      <td>2003.484447</td>\n",
       "      <td>124.814577</td>\n",
       "      <td>126388.667561</td>\n",
       "      <td>9.323005</td>\n",
       "    </tr>\n",
       "    <tr>\n",
       "      <th>std</th>\n",
       "      <td>6574.030800</td>\n",
       "      <td>5.333421</td>\n",
       "      <td>56.016697</td>\n",
       "      <td>38494.237812</td>\n",
       "      <td>8.238715</td>\n",
       "    </tr>\n",
       "    <tr>\n",
       "      <th>min</th>\n",
       "      <td>100.000000</td>\n",
       "      <td>1990.000000</td>\n",
       "      <td>45.000000</td>\n",
       "      <td>5000.000000</td>\n",
       "      <td>0.017778</td>\n",
       "    </tr>\n",
       "    <tr>\n",
       "      <th>25%</th>\n",
       "      <td>1400.000000</td>\n",
       "      <td>2000.000000</td>\n",
       "      <td>80.000000</td>\n",
       "      <td>125000.000000</td>\n",
       "      <td>2.622616</td>\n",
       "    </tr>\n",
       "    <tr>\n",
       "      <th>50%</th>\n",
       "      <td>3400.000000</td>\n",
       "      <td>2003.000000</td>\n",
       "      <td>116.000000</td>\n",
       "      <td>150000.000000</td>\n",
       "      <td>6.595741</td>\n",
       "    </tr>\n",
       "    <tr>\n",
       "      <th>75%</th>\n",
       "      <td>7800.000000</td>\n",
       "      <td>2007.000000</td>\n",
       "      <td>150.000000</td>\n",
       "      <td>150000.000000</td>\n",
       "      <td>14.114777</td>\n",
       "    </tr>\n",
       "    <tr>\n",
       "      <th>max</th>\n",
       "      <td>47500.000000</td>\n",
       "      <td>2015.000000</td>\n",
       "      <td>404.000000</td>\n",
       "      <td>150000.000000</td>\n",
       "      <td>32.387326</td>\n",
       "    </tr>\n",
       "  </tbody>\n",
       "</table>\n",
       "</div>"
      ],
      "text/plain": [
       "               price  yearOfRegistration        powerPS      kilometer  \\\n",
       "count  308742.000000       308742.000000  308742.000000  308742.000000   \n",
       "mean     5813.357088         2003.484447     124.814577  126388.667561   \n",
       "std      6574.030800            5.333421      56.016697   38494.237812   \n",
       "min       100.000000         1990.000000      45.000000    5000.000000   \n",
       "25%      1400.000000         2000.000000      80.000000  125000.000000   \n",
       "50%      3400.000000         2003.000000     116.000000  150000.000000   \n",
       "75%      7800.000000         2007.000000     150.000000  150000.000000   \n",
       "max     47500.000000         2015.000000     404.000000  150000.000000   \n",
       "\n",
       "       numberOfDaysToSell  \n",
       "count       308742.000000  \n",
       "mean             9.323005  \n",
       "std              8.238715  \n",
       "min              0.017778  \n",
       "25%              2.622616  \n",
       "50%              6.595741  \n",
       "75%             14.114777  \n",
       "max             32.387326  "
      ]
     },
     "execution_count": 35,
     "metadata": {},
     "output_type": "execute_result"
    }
   ],
   "source": [
    "autos_3.describe()"
   ]
  },
  {
   "cell_type": "code",
   "execution_count": 36,
   "metadata": {},
   "outputs": [
    {
     "data": {
      "image/png": "[encoded data removed]",
      "text/plain": [
       "<Figure size 432x288 with 1 Axes>"
      ]
     },
     "metadata": {
      "needs_background": "light"
     },
     "output_type": "display_data"
    }
   ],
   "source": [
    "plt.hist(autos_3['yearOfRegistration'], bins = 35)\n",
    "plt.show()"
   ]
  },
  {
   "cell_type": "code",
   "execution_count": 37,
   "metadata": {},
   "outputs": [
    {
     "name": "stdout",
     "output_type": "stream",
     "text": [
      "<class 'pandas.core.frame.DataFrame'>\n",
      "Int64Index: 308742 entries, 1 to 371527\n",
      "Data columns (total 11 columns):\n",
      " #   Column              Non-Null Count   Dtype  \n",
      "---  ------              --------------   -----  \n",
      " 0   price               308742 non-null  int64  \n",
      " 1   vehicleType         288035 non-null  object \n",
      " 2   yearOfRegistration  308742 non-null  int64  \n",
      " 3   gearbox             303118 non-null  object \n",
      " 4   powerPS             308742 non-null  int64  \n",
      " 5   model               297348 non-null  object \n",
      " 6   kilometer           308742 non-null  int64  \n",
      " 7   fuelType            289844 non-null  object \n",
      " 8   brand               308742 non-null  object \n",
      " 9   notRepairedDamage   263724 non-null  object \n",
      " 10  numberOfDaysToSell  308742 non-null  float64\n",
      "dtypes: float64(1), int64(4), object(6)\n",
      "memory usage: 28.3+ MB\n"
     ]
    }
   ],
   "source": [
    "autos_3.info()"
   ]
  },
  {
   "cell_type": "markdown",
   "metadata": {},
   "source": [
    "Having completed our inital data cleaning and exploration, the next step will be to handle the missing values."
   ]
  },
  {
   "cell_type": "code",
   "execution_count": 38,
   "metadata": {},
   "outputs": [
    {
     "data": {
      "text/plain": [
       "price                     0\n",
       "vehicleType           20707\n",
       "yearOfRegistration        0\n",
       "gearbox                5624\n",
       "powerPS                   0\n",
       "model                 11394\n",
       "kilometer                 0\n",
       "fuelType              18898\n",
       "brand                     0\n",
       "notRepairedDamage     45018\n",
       "numberOfDaysToSell        0\n",
       "dtype: int64"
      ]
     },
     "execution_count": 38,
     "metadata": {},
     "output_type": "execute_result"
    }
   ],
   "source": [
    "autos_4 = autos_3.copy()\n",
    "autos_4.isna().sum()"
   ]
  },
  {
   "cell_type": "code",
   "execution_count": 39,
   "metadata": {},
   "outputs": [
    {
     "data": {
      "text/plain": [
       "nein    235310\n",
       "ja       28414\n",
       "Name: notRepairedDamage, dtype: int64"
      ]
     },
     "execution_count": 39,
     "metadata": {},
     "output_type": "execute_result"
    }
   ],
   "source": [
    "autos_4[\"notRepairedDamage\"].value_counts()"
   ]
  },
  {
   "cell_type": "markdown",
   "metadata": {},
   "source": [
    "The attribute \"notRepairedDamage is easy to fill in the blanks with the Max Frequency value \"nein\", as nearly 90% of the observations occur as \"nein\".\n",
    "The method ffill will be used. This function is used to fill the missing value in the dataframe. ‘ffill’ stands for ‘forward fill’ and will propagate last valid observation forward."
   ]
  },
  {
   "cell_type": "code",
   "execution_count": 40,
   "metadata": {},
   "outputs": [],
   "source": [
    "autos_4[\"notRepairedDamage\"] = autos_4[\"notRepairedDamage\"].fillna(method='ffill')"
   ]
  },
  {
   "cell_type": "code",
   "execution_count": 41,
   "metadata": {},
   "outputs": [
    {
     "data": {
      "text/plain": [
       "0"
      ]
     },
     "execution_count": 41,
     "metadata": {},
     "output_type": "execute_result"
    }
   ],
   "source": [
    "autos_4[\"notRepairedDamage\"].isna().sum()"
   ]
  },
  {
   "cell_type": "markdown",
   "metadata": {},
   "source": [
    "To impute the missing values of the other categorical variables, we will use the prediction values of Decision Tree Classifiers. There are stil 4 attributes to treat: \"vehicleType\", \"gearbox\", \"model\", and \"fuelType\"."
   ]
  },
  {
   "cell_type": "code",
   "execution_count": 42,
   "metadata": {},
   "outputs": [
    {
     "name": "stdout",
     "output_type": "stream",
     "text": [
      "(array(['andere', 'bus', 'cabrio', 'coupe', 'kleinwagen', 'kombi',\n",
      "       'limousine', 'suv'], dtype=object), array([ 325, 2058,  735,  983, 6831, 4098, 5190,  487], dtype=int64))\n"
     ]
    },
    {
     "data": {
      "text/plain": [
       "0"
      ]
     },
     "execution_count": 42,
     "metadata": {},
     "output_type": "execute_result"
    }
   ],
   "source": [
    "# VehicleType attribute\n",
    "\n",
    "# Filtering data for model building\n",
    "X = autos_4[autos_4['vehicleType'].notna()].drop(['vehicleType', 'model'], axis=1)\n",
    "y = autos_4['vehicleType'][autos_4['vehicleType'].notna()]\n",
    "\n",
    "# Creating a test data with uknown vehicleType attributes\n",
    "xt = autos_4[autos_4['vehicleType'].isna()].drop(['vehicleType', 'model'], axis=1)\n",
    "\n",
    "# One-hot encoding \n",
    "X_dum = pd.get_dummies(X)\n",
    "xt_dum = pd.get_dummies(xt)\n",
    "\n",
    "# Building the decision tree classifier\n",
    "dtc_vt = DecisionTreeClassifier().fit(X_dum, y)\n",
    "\n",
    "# Predicting null values\n",
    "y_pred = dtc_vt.predict(xt_dum)\n",
    "print(np.unique(y_pred, return_counts=True))\n",
    "\n",
    "# Filling the missing values with the predicted values\n",
    "autos_4.loc[(autos_4['vehicleType'].isna()),'vehicleType'] = y_pred\n",
    "autos_4['vehicleType'].isna().sum()"
   ]
  },
  {
   "cell_type": "code",
   "execution_count": 43,
   "metadata": {},
   "outputs": [
    {
     "data": {
      "text/plain": [
       "0"
      ]
     },
     "execution_count": 43,
     "metadata": {},
     "output_type": "execute_result"
    }
   ],
   "source": [
    "# Model attribute\n",
    "\n",
    "# Filtering data for model building\n",
    "X = autos_4[autos_4['model'].notna()].drop('model', axis=1)\n",
    "y = autos_4['model'][autos_4['model'].notna()]\n",
    "\n",
    "# Creating a test data with uknown vehicleType attributes\n",
    "xt = autos_4[autos_4['model'].isna()].drop('model', axis=1)\n",
    "\n",
    "# One-hot encoding \n",
    "X_dum = pd.get_dummies(X)\n",
    "xt_dum = pd.get_dummies(xt)\n",
    "xt_dum.drop('brand_sonstige_autos', axis=1, inplace=True)\n",
    "\n",
    "# Building the decision tree classifier\n",
    "dtc_vt = DecisionTreeClassifier().fit(X_dum, y)\n",
    "\n",
    "# Predicting null values\n",
    "y_pred = dtc_vt.predict(xt_dum)\n",
    "#print(np.unique(y_pred, return_counts=True))\n",
    "\n",
    "# Filling the missing values with the predicted values\n",
    "autos_4.loc[(autos_4['model'].isna()),'model'] = y_pred\n",
    "autos_4['model'].isna().sum()"
   ]
  },
  {
   "cell_type": "code",
   "execution_count": 44,
   "metadata": {},
   "outputs": [
    {
     "name": "stdout",
     "output_type": "stream",
     "text": [
      "(array(['automatik', 'manuell'], dtype=object), array([1030, 4594], dtype=int64))\n"
     ]
    },
    {
     "data": {
      "text/plain": [
       "0"
      ]
     },
     "execution_count": 44,
     "metadata": {},
     "output_type": "execute_result"
    }
   ],
   "source": [
    "# Gearbox attribute\n",
    "\n",
    "# Filtering data for model building\n",
    "X = autos_4[autos_4['gearbox'].notna()].drop('gearbox', axis=1)\n",
    "y = autos_4['gearbox'][autos_4['gearbox'].notna()]\n",
    "\n",
    "# Creating a test data with uknown vehicleType attributes\n",
    "xt = autos_4[autos_4['gearbox'].isna()].drop('gearbox', axis=1)\n",
    "\n",
    "# One-hot encoding \n",
    "X_dum = pd.get_dummies(X)\n",
    "xt_dum = pd.get_dummies(xt)\n",
    "for col in X_dum.columns:\n",
    "    if col not in xt_dum:\n",
    "        xt_dum[col] = np.zeros(len(xt_dum))\n",
    "\n",
    "# Building the decision tree classifier\n",
    "dtc_vt = DecisionTreeClassifier().fit(X_dum, y)\n",
    "\n",
    "# Predicting null values\n",
    "y_pred = dtc_vt.predict(xt_dum)\n",
    "print(np.unique(y_pred, return_counts=True))\n",
    "\n",
    "# Filling the missing values with the predicted values\n",
    "autos_4.loc[(autos_4['gearbox'].isna()),'gearbox'] = y_pred\n",
    "autos_4['gearbox'].isna().sum()"
   ]
  },
  {
   "cell_type": "code",
   "execution_count": 45,
   "metadata": {},
   "outputs": [
    {
     "name": "stdout",
     "output_type": "stream",
     "text": [
      "(array(['andere', 'benzin', 'cng', 'diesel', 'elektro', 'hybrid', 'lpg'],\n",
      "      dtype=object), array([    5, 14116,    25,  4314,     6,     5,   427], dtype=int64))\n"
     ]
    },
    {
     "data": {
      "text/plain": [
       "0"
      ]
     },
     "execution_count": 45,
     "metadata": {},
     "output_type": "execute_result"
    }
   ],
   "source": [
    "# Fuel Type attribute\n",
    "\n",
    "# Filtering data for model building\n",
    "X = autos_4[autos_4['fuelType'].notna()].drop('fuelType', axis=1)\n",
    "y = autos_4['fuelType'][autos_4['fuelType'].notna()]\n",
    "\n",
    "# Creating a test data with uknown vehicleType attributes\n",
    "xt = autos_4[autos_4['fuelType'].isna()].drop('fuelType', axis=1)\n",
    "\n",
    "# One-hot encoding \n",
    "X_dum = pd.get_dummies(X)\n",
    "xt_dum = pd.get_dummies(xt)\n",
    "for col in X_dum.columns:\n",
    "    if col not in xt_dum:\n",
    "        xt_dum[col] = np.zeros(len(xt_dum))\n",
    "\n",
    "# Building the decision tree classifier\n",
    "dtc_vt = DecisionTreeClassifier().fit(X_dum, y)\n",
    "\n",
    "# Predicting null values\n",
    "y_pred = dtc_vt.predict(xt_dum)\n",
    "print(np.unique(y_pred, return_counts=True))\n",
    "\n",
    "# Filling the missing values with the predicted values\n",
    "autos_4.loc[(autos_4['fuelType'].isna()),'fuelType'] = y_pred\n",
    "autos_4['fuelType'].isna().sum()"
   ]
  },
  {
   "cell_type": "markdown",
   "metadata": {},
   "source": [
    "Verifying if a null values have been treated:"
   ]
  },
  {
   "cell_type": "code",
   "execution_count": 46,
   "metadata": {},
   "outputs": [
    {
     "data": {
      "text/plain": [
       "price                 0\n",
       "vehicleType           0\n",
       "yearOfRegistration    0\n",
       "gearbox               0\n",
       "powerPS               0\n",
       "model                 0\n",
       "kilometer             0\n",
       "fuelType              0\n",
       "brand                 0\n",
       "notRepairedDamage     0\n",
       "numberOfDaysToSell    0\n",
       "dtype: int64"
      ]
     },
     "execution_count": 46,
     "metadata": {},
     "output_type": "execute_result"
    }
   ],
   "source": [
    "autos_4.isna().sum()"
   ]
  },
  {
   "cell_type": "code",
   "execution_count": 47,
   "metadata": {},
   "outputs": [
    {
     "name": "stdout",
     "output_type": "stream",
     "text": [
      "<class 'pandas.core.frame.DataFrame'>\n",
      "Int64Index: 308742 entries, 1 to 371527\n",
      "Data columns (total 11 columns):\n",
      " #   Column              Non-Null Count   Dtype  \n",
      "---  ------              --------------   -----  \n",
      " 0   price               308742 non-null  int64  \n",
      " 1   vehicleType         308742 non-null  object \n",
      " 2   yearOfRegistration  308742 non-null  int64  \n",
      " 3   gearbox             308742 non-null  object \n",
      " 4   powerPS             308742 non-null  int64  \n",
      " 5   model               308742 non-null  object \n",
      " 6   kilometer           308742 non-null  int64  \n",
      " 7   fuelType            308742 non-null  object \n",
      " 8   brand               308742 non-null  object \n",
      " 9   notRepairedDamage   308742 non-null  object \n",
      " 10  numberOfDaysToSell  308742 non-null  float64\n",
      "dtypes: float64(1), int64(4), object(6)\n",
      "memory usage: 28.3+ MB\n"
     ]
    }
   ],
   "source": [
    "autos_4.info()"
   ]
  },
  {
   "cell_type": "code",
   "execution_count": 49,
   "metadata": {},
   "outputs": [],
   "source": [
    "autos = autos_4.copy() #continuation of original code"
   ]
  },
  {
   "cell_type": "code",
   "execution_count": 52,
   "metadata": {},
   "outputs": [
    {
     "name": "stdout",
     "output_type": "stream",
     "text": [
      "Duplicate Rows except first occurrence based on all columns are :\n",
      "        price vehicleType  yearOfRegistration    gearbox  powerPS    model  \\\n",
      "30145    6990       kombi                2006  automatik      150  octavia   \n",
      "79271   10000       kombi                2013    manuell      184     golf   \n",
      "81255   15700         suv                2011    manuell      189   andere   \n",
      "81273     800       kombi                1993    manuell       90     golf   \n",
      "83559    4299       coupe                2000    manuell      193      3er   \n",
      "...       ...         ...                 ...        ...      ...      ...   \n",
      "362789  24000       coupe                2009  automatik      354       a5   \n",
      "363452   1800   limousine                1997    manuell      116      3er   \n",
      "366966  17999       kombi                2011  automatik      143       a4   \n",
      "371298   8450       kombi                2007  automatik      140   passat   \n",
      "371436   6500   limousine                1993  automatik      286      5er   \n",
      "\n",
      "        kilometer fuelType       brand notRepairedDamage  numberOfDaysToSell  \n",
      "30145      125000   benzin       skoda              nein           11.489780  \n",
      "79271       60000   diesel  volkswagen              nein           13.594745  \n",
      "81255       90000   benzin        mini              nein           11.594479  \n",
      "81273      150000   benzin  volkswagen              nein           17.596111  \n",
      "83559      150000   benzin         bmw              nein            2.552894  \n",
      "...           ...      ...         ...               ...                 ...  \n",
      "362789     150000   benzin        audi              nein            3.406354  \n",
      "363452     150000   benzin         bmw              nein            2.657523  \n",
      "366966      90000   diesel        audi              nein           12.012211  \n",
      "371298     150000   diesel  volkswagen              nein            4.198727  \n",
      "371436     150000   benzin         bmw              nein           29.636944  \n",
      "\n",
      "[135 rows x 11 columns]\n"
     ]
    }
   ],
   "source": [
    "# Select duplicate rows except first occurrence based on all columns\n",
    "duplicateRowsAutos = autos[autos.duplicated()]\n",
    " \n",
    "print(\"Duplicate Rows except first occurrence based on all columns are :\")\n",
    "print(duplicateRowsAutos)"
   ]
  },
  {
   "cell_type": "code",
   "execution_count": 53,
   "metadata": {},
   "outputs": [],
   "source": [
    "autos = autos.drop_duplicates(keep='last')"
   ]
  },
  {
   "cell_type": "code",
   "execution_count": 54,
   "metadata": {},
   "outputs": [
    {
     "name": "stdout",
     "output_type": "stream",
     "text": [
      "<class 'pandas.core.frame.DataFrame'>\n",
      "Int64Index: 308607 entries, 1 to 371527\n",
      "Data columns (total 11 columns):\n",
      " #   Column              Non-Null Count   Dtype  \n",
      "---  ------              --------------   -----  \n",
      " 0   price               308607 non-null  int64  \n",
      " 1   vehicleType         308607 non-null  object \n",
      " 2   yearOfRegistration  308607 non-null  int64  \n",
      " 3   gearbox             308607 non-null  object \n",
      " 4   powerPS             308607 non-null  int64  \n",
      " 5   model               308607 non-null  object \n",
      " 6   kilometer           308607 non-null  int64  \n",
      " 7   fuelType            308607 non-null  object \n",
      " 8   brand               308607 non-null  object \n",
      " 9   notRepairedDamage   308607 non-null  object \n",
      " 10  numberOfDaysToSell  308607 non-null  float64\n",
      "dtypes: float64(1), int64(4), object(6)\n",
      "memory usage: 28.3+ MB\n"
     ]
    }
   ],
   "source": [
    "autos.info() #new variable after duplicate rows were deleted"
   ]
  },
  {
   "cell_type": "markdown",
   "metadata": {},
   "source": [
    "Categorical variables:\n",
    "> vehicleType, gearbox, model, fuelType, brand, notRepairedDamage\n",
    "\n",
    "Numerical variables:\n",
    ">price, yearOfRegistration, powerPS, kilometer, numberOfDaysToSell\n",
    "\n",
    "Let's create a list with all the categories names, for further exploration of the categorial values."
   ]
  },
  {
   "cell_type": "code",
   "execution_count": 55,
   "metadata": {},
   "outputs": [
    {
     "name": "stdout",
     "output_type": "stream",
     "text": [
      "vehicleType :\n",
      "limousine     88487\n",
      "kleinwagen    74458\n",
      "kombi         64590\n",
      "bus           28964\n",
      "cabrio        20281\n",
      "coupe         16021\n",
      "suv           13277\n",
      "andere         2529\n",
      "Name: vehicleType, dtype: int64\n",
      "gearbox :\n",
      "manuell      241243\n",
      "automatik     67364\n",
      "Name: gearbox, dtype: int64\n",
      "model :\n",
      "golf          26746\n",
      "andere        21227\n",
      "3er           18877\n",
      "polo          11310\n",
      "corsa         10618\n",
      "              ...  \n",
      "kalina            9\n",
      "elefantino        9\n",
      "i3                7\n",
      "200               4\n",
      "serie_2           1\n",
      "Name: model, Length: 247, dtype: int64\n",
      "fuelType :\n",
      "benzin     202293\n",
      "diesel     100296\n",
      "lpg          5150\n",
      "cng           522\n",
      "hybrid        242\n",
      "andere         58\n",
      "elektro        46\n",
      "Name: fuelType, dtype: int64\n",
      "brand :\n",
      "volkswagen        66791\n",
      "bmw               35061\n",
      "opel              33069\n",
      "mercedes_benz     29050\n",
      "audi              28711\n",
      "ford              21029\n",
      "renault           14278\n",
      "peugeot            9539\n",
      "fiat               7467\n",
      "seat               6156\n",
      "skoda              5127\n",
      "mazda              4884\n",
      "citroen            4254\n",
      "nissan             4145\n",
      "toyota             4119\n",
      "smart              4082\n",
      "hyundai            3226\n",
      "mini               3186\n",
      "volvo              2862\n",
      "mitsubishi         2569\n",
      "honda              2412\n",
      "kia                2235\n",
      "alfa_romeo         1948\n",
      "suzuki             1939\n",
      "chevrolet          1357\n",
      "sonstige_autos     1331\n",
      "chrysler           1158\n",
      "porsche            1086\n",
      "dacia               819\n",
      "jeep                659\n",
      "subaru              647\n",
      "land_rover          611\n",
      "daihatsu            568\n",
      "jaguar              460\n",
      "saab                454\n",
      "daewoo              422\n",
      "rover               379\n",
      "lancia              373\n",
      "lada                138\n",
      "trabant               6\n",
      "Name: brand, dtype: int64\n",
      "notRepairedDamage :\n",
      "nein    275429\n",
      "ja       33178\n",
      "Name: notRepairedDamage, dtype: int64\n"
     ]
    }
   ],
   "source": [
    "autos_cat = ['vehicleType', 'gearbox', 'model', 'fuelType', 'brand', 'notRepairedDamage']\n",
    "for c in autos_cat:\n",
    "    print(c, \":\")\n",
    "    print(autos[c].value_counts())"
   ]
  },
  {
   "cell_type": "markdown",
   "metadata": {},
   "source": [
    "## 4. FURTHER DATA EXPLORATION"
   ]
  },
  {
   "cell_type": "markdown",
   "metadata": {},
   "source": [
    "We wish to analyze the relationship between \"Year of Registration\" and \"Prices\". "
   ]
  },
  {
   "cell_type": "code",
   "execution_count": 56,
   "metadata": {},
   "outputs": [
    {
     "data": {
      "text/plain": [
       "<matplotlib.axes._subplots.AxesSubplot at 0x1f5318183c8>"
      ]
     },
     "execution_count": 56,
     "metadata": {},
     "output_type": "execute_result"
    },
    {
     "data": {
      "image/png": "[encoded data removed]",
      "text/plain": [
       "<Figure size 432x288 with 1 Axes>"
      ]
     },
     "metadata": {
      "needs_background": "light"
     },
     "output_type": "display_data"
    }
   ],
   "source": [
    "sns.scatterplot(\n",
    "    x='yearOfRegistration',\n",
    "    y='price',\n",
    "    data=autos)"
   ]
  },
  {
   "cell_type": "markdown",
   "metadata": {},
   "source": [
    "We decided to apply the log function to the feature price to see if we get a more normal distribution."
   ]
  },
  {
   "cell_type": "code",
   "execution_count": 57,
   "metadata": {},
   "outputs": [
    {
     "data": {
      "text/plain": [
       "<matplotlib.axes._subplots.AxesSubplot at 0x1f531819148>"
      ]
     },
     "execution_count": 57,
     "metadata": {},
     "output_type": "execute_result"
    },
    {
     "data": {
      "image/png": "[encoded data removed]",
      "text/plain": [
       "<Figure size 432x288 with 1 Axes>"
      ]
     },
     "metadata": {},
     "output_type": "display_data"
    }
   ],
   "source": [
    "log_price = np.log(autos['price'])\n",
    "sns.set_style(\"dark\")\n",
    "sns.distplot(log_price,label=\"Logarithmic price\")"
   ]
  },
  {
   "cell_type": "code",
   "execution_count": 58,
   "metadata": {},
   "outputs": [
    {
     "data": {
      "text/html": [
       "<div>\n",
       "<style scoped>\n",
       "    .dataframe tbody tr th:only-of-type {\n",
       "        vertical-align: middle;\n",
       "    }\n",
       "\n",
       "    .dataframe tbody tr th {\n",
       "        vertical-align: top;\n",
       "    }\n",
       "\n",
       "    .dataframe thead th {\n",
       "        text-align: right;\n",
       "    }\n",
       "</style>\n",
       "<table border=\"1\" class=\"dataframe\">\n",
       "  <thead>\n",
       "    <tr style=\"text-align: right;\">\n",
       "      <th></th>\n",
       "      <th>price</th>\n",
       "      <th>yearOfRegistration</th>\n",
       "      <th>powerPS</th>\n",
       "      <th>kilometer</th>\n",
       "      <th>numberOfDaysToSell</th>\n",
       "    </tr>\n",
       "  </thead>\n",
       "  <tbody>\n",
       "    <tr>\n",
       "      <th>count</th>\n",
       "      <td>308607.00</td>\n",
       "      <td>308607.00</td>\n",
       "      <td>308607.00</td>\n",
       "      <td>308607.00</td>\n",
       "      <td>308607.00</td>\n",
       "    </tr>\n",
       "    <tr>\n",
       "      <th>mean</th>\n",
       "      <td>5812.97</td>\n",
       "      <td>2003.48</td>\n",
       "      <td>124.81</td>\n",
       "      <td>126390.67</td>\n",
       "      <td>9.32</td>\n",
       "    </tr>\n",
       "    <tr>\n",
       "      <th>std</th>\n",
       "      <td>6573.92</td>\n",
       "      <td>5.33</td>\n",
       "      <td>56.02</td>\n",
       "      <td>38494.12</td>\n",
       "      <td>8.24</td>\n",
       "    </tr>\n",
       "    <tr>\n",
       "      <th>min</th>\n",
       "      <td>100.00</td>\n",
       "      <td>1990.00</td>\n",
       "      <td>45.00</td>\n",
       "      <td>5000.00</td>\n",
       "      <td>0.02</td>\n",
       "    </tr>\n",
       "    <tr>\n",
       "      <th>25%</th>\n",
       "      <td>1400.00</td>\n",
       "      <td>2000.00</td>\n",
       "      <td>80.00</td>\n",
       "      <td>125000.00</td>\n",
       "      <td>2.62</td>\n",
       "    </tr>\n",
       "    <tr>\n",
       "      <th>50%</th>\n",
       "      <td>3400.00</td>\n",
       "      <td>2003.00</td>\n",
       "      <td>116.00</td>\n",
       "      <td>150000.00</td>\n",
       "      <td>6.60</td>\n",
       "    </tr>\n",
       "    <tr>\n",
       "      <th>75%</th>\n",
       "      <td>7800.00</td>\n",
       "      <td>2007.00</td>\n",
       "      <td>150.00</td>\n",
       "      <td>150000.00</td>\n",
       "      <td>14.11</td>\n",
       "    </tr>\n",
       "    <tr>\n",
       "      <th>max</th>\n",
       "      <td>47500.00</td>\n",
       "      <td>2015.00</td>\n",
       "      <td>404.00</td>\n",
       "      <td>150000.00</td>\n",
       "      <td>32.39</td>\n",
       "    </tr>\n",
       "  </tbody>\n",
       "</table>\n",
       "</div>"
      ],
      "text/plain": [
       "           price  yearOfRegistration    powerPS  kilometer  numberOfDaysToSell\n",
       "count  308607.00           308607.00  308607.00  308607.00           308607.00\n",
       "mean     5812.97             2003.48     124.81  126390.67                9.32\n",
       "std      6573.92                5.33      56.02   38494.12                8.24\n",
       "min       100.00             1990.00      45.00    5000.00                0.02\n",
       "25%      1400.00             2000.00      80.00  125000.00                2.62\n",
       "50%      3400.00             2003.00     116.00  150000.00                6.60\n",
       "75%      7800.00             2007.00     150.00  150000.00               14.11\n",
       "max     47500.00             2015.00     404.00  150000.00               32.39"
      ]
     },
     "execution_count": 58,
     "metadata": {},
     "output_type": "execute_result"
    }
   ],
   "source": [
    "autos.describe().round(2)"
   ]
  },
  {
   "cell_type": "markdown",
   "metadata": {},
   "source": [
    "We can also use the pandas scatter_matrix() function to check correlation. This function plots every numerical attribute against other numerical attribute. To reduce the amount of plots, let's focus on some few attributes that seem most correlated with median housing value:"
   ]
  },
  {
   "cell_type": "code",
   "execution_count": 60,
   "metadata": {},
   "outputs": [
    {
     "data": {
      "text/html": [
       "<div>\n",
       "<style scoped>\n",
       "    .dataframe tbody tr th:only-of-type {\n",
       "        vertical-align: middle;\n",
       "    }\n",
       "\n",
       "    .dataframe tbody tr th {\n",
       "        vertical-align: top;\n",
       "    }\n",
       "\n",
       "    .dataframe thead th {\n",
       "        text-align: right;\n",
       "    }\n",
       "</style>\n",
       "<table border=\"1\" class=\"dataframe\">\n",
       "  <thead>\n",
       "    <tr style=\"text-align: right;\">\n",
       "      <th></th>\n",
       "      <th>price</th>\n",
       "      <th>yearOfRegistration</th>\n",
       "      <th>powerPS</th>\n",
       "      <th>kilometer</th>\n",
       "      <th>numberOfDaysToSell</th>\n",
       "    </tr>\n",
       "  </thead>\n",
       "  <tbody>\n",
       "    <tr>\n",
       "      <th>price</th>\n",
       "      <td>1.000000</td>\n",
       "      <td>0.651201</td>\n",
       "      <td>0.570415</td>\n",
       "      <td>-0.472492</td>\n",
       "      <td>0.149332</td>\n",
       "    </tr>\n",
       "    <tr>\n",
       "      <th>yearOfRegistration</th>\n",
       "      <td>0.651201</td>\n",
       "      <td>1.000000</td>\n",
       "      <td>0.220970</td>\n",
       "      <td>-0.514504</td>\n",
       "      <td>0.089936</td>\n",
       "    </tr>\n",
       "    <tr>\n",
       "      <th>powerPS</th>\n",
       "      <td>0.570415</td>\n",
       "      <td>0.220970</td>\n",
       "      <td>1.000000</td>\n",
       "      <td>0.002565</td>\n",
       "      <td>0.078357</td>\n",
       "    </tr>\n",
       "    <tr>\n",
       "      <th>kilometer</th>\n",
       "      <td>-0.472492</td>\n",
       "      <td>-0.514504</td>\n",
       "      <td>0.002565</td>\n",
       "      <td>1.000000</td>\n",
       "      <td>-0.086917</td>\n",
       "    </tr>\n",
       "    <tr>\n",
       "      <th>numberOfDaysToSell</th>\n",
       "      <td>0.149332</td>\n",
       "      <td>0.089936</td>\n",
       "      <td>0.078357</td>\n",
       "      <td>-0.086917</td>\n",
       "      <td>1.000000</td>\n",
       "    </tr>\n",
       "  </tbody>\n",
       "</table>\n",
       "</div>"
      ],
      "text/plain": [
       "                       price  yearOfRegistration   powerPS  kilometer  \\\n",
       "price               1.000000            0.651201  0.570415  -0.472492   \n",
       "yearOfRegistration  0.651201            1.000000  0.220970  -0.514504   \n",
       "powerPS             0.570415            0.220970  1.000000   0.002565   \n",
       "kilometer          -0.472492           -0.514504  0.002565   1.000000   \n",
       "numberOfDaysToSell  0.149332            0.089936  0.078357  -0.086917   \n",
       "\n",
       "                    numberOfDaysToSell  \n",
       "price                         0.149332  \n",
       "yearOfRegistration            0.089936  \n",
       "powerPS                       0.078357  \n",
       "kilometer                    -0.086917  \n",
       "numberOfDaysToSell            1.000000  "
      ]
     },
     "execution_count": 60,
     "metadata": {},
     "output_type": "execute_result"
    }
   ],
   "source": [
    "corr_matrix = autos.corr()\n",
    "corr_matrix"
   ]
  },
  {
   "cell_type": "code",
   "execution_count": 61,
   "metadata": {},
   "outputs": [
    {
     "data": {
      "text/plain": [
       "<matplotlib.axes._subplots.AxesSubplot at 0x1f52baddec8>"
      ]
     },
     "execution_count": 61,
     "metadata": {},
     "output_type": "execute_result"
    },
    {
     "data": {
      "image/png": "[encoded data removed]",
      "text/plain": [
       "<Figure size 432x288 with 2 Axes>"
      ]
     },
     "metadata": {},
     "output_type": "display_data"
    }
   ],
   "source": [
    "autos_num_corr = autos.copy()\n",
    "autos_num_corr = autos_num_corr.drop(autos_cat, axis=1)\n",
    "\n",
    "# Corrplot\n",
    "corr_matrix = autos_num_corr.corr()\n",
    "\n",
    "# Generate a mask for the upper triangle\n",
    "mask = np.triu(np.ones_like(corr_matrix, dtype=np.bool))\n",
    "\n",
    "# Generate a custom diverging colormap\n",
    "cmap = sns.diverging_palette(220, 10, as_cmap=True)\n",
    "\n",
    "# Draw the heatmap with the mask and correct aspect ratio\n",
    "sns.heatmap(corr_matrix, mask=mask, cmap=cmap, vmax=.6, center=0,\n",
    "            xticklabels=('Price','Registration Year','Power','Kilometer', 'Days To Sell'),\n",
    "            yticklabels=('Price','Registration Year','Power','Kilometer', 'Days To Sell'),\n",
    "            square=True, linewidths=.5, cbar_kws={\"shrink\": .5})"
   ]
  },
  {
   "cell_type": "code",
   "execution_count": 62,
   "metadata": {},
   "outputs": [
    {
     "data": {
      "text/plain": [
       "price                 1.000000\n",
       "yearOfRegistration    0.651201\n",
       "powerPS               0.570415\n",
       "numberOfDaysToSell    0.149332\n",
       "kilometer            -0.472492\n",
       "Name: price, dtype: float64"
      ]
     },
     "execution_count": 62,
     "metadata": {},
     "output_type": "execute_result"
    }
   ],
   "source": [
    "corr_matrix['price'].sort_values(ascending=False)"
   ]
  },
  {
   "cell_type": "code",
   "execution_count": 63,
   "metadata": {},
   "outputs": [],
   "source": [
    "# get top 10 most frequent names\n",
    "n = 10\n",
    "top10 = autos['brand'].value_counts()[:n]"
   ]
  },
  {
   "cell_type": "code",
   "execution_count": 64,
   "metadata": {},
   "outputs": [
    {
     "data": {
      "text/plain": [
       "[Text(0, 0.5, 'Frequency'), Text(0.5, 0, 'Brand')]"
      ]
     },
     "execution_count": 64,
     "metadata": {},
     "output_type": "execute_result"
    },
    {
     "data": {
      "image/png": "[encoded data removed]",
      "text/plain": [
       "<Figure size 432x288 with 1 Axes>"
      ]
     },
     "metadata": {},
     "output_type": "display_data"
    }
   ],
   "source": [
    "top10brand=sns.countplot(y=\"brand\", data=autos, palette=sns.cubehelix_palette(10),\n",
    "              order=autos.brand.value_counts().iloc[:10].index)\n",
    "top10brand.set(xlabel=\"Brand\", ylabel = \"Frequency\")"
   ]
  },
  {
   "cell_type": "code",
   "execution_count": 67,
   "metadata": {},
   "outputs": [],
   "source": [
    "price = autos['price'].values\n",
    "brand = autos['brand'].values\n",
    "\n",
    "price_tr=[None]*len(autos)\n",
    "brand_tr=[None]*len(autos)\n",
    "\n",
    "for i in range(len(autos)):\n",
    "    if brand[i] in top10.index:\n",
    "        price_tr[i] = price[i]\n",
    "        brand_tr[i] = brand[i]"
   ]
  },
  {
   "cell_type": "code",
   "execution_count": 68,
   "metadata": {},
   "outputs": [
    {
     "data": {
      "text/plain": [
       "[Text(0, 0.5, 'Price'), Text(0.5, 0, 'Top 10 Brands')]"
      ]
     },
     "execution_count": 68,
     "metadata": {},
     "output_type": "execute_result"
    },
    {
     "data": {
      "image/png": "[encoded data removed]",
      "text/plain": [
       "<Figure size 1440x720 with 1 Axes>"
      ]
     },
     "metadata": {},
     "output_type": "display_data"
    }
   ],
   "source": [
    "plt.figure(figsize=(20,10))\n",
    "sns.set(style=\"whitegrid\")\n",
    "tips = sns.load_dataset(\"tips\")\n",
    "bxp = sns.boxplot(y=price_tr, x=brand_tr)\n",
    "bxp.set(ylabel = \"Price\", xlabel = \"Top 10 Brands\")"
   ]
  },
  {
   "cell_type": "code",
   "execution_count": 69,
   "metadata": {},
   "outputs": [
    {
     "data": {
      "text/plain": [
       "<matplotlib.axes._subplots.AxesSubplot at 0x1f52de6d4c8>"
      ]
     },
     "execution_count": 69,
     "metadata": {},
     "output_type": "execute_result"
    },
    {
     "data": {
      "image/png": "[encoded data removed]",
      "text/plain": [
       "<Figure size 2520x720 with 1 Axes>"
      ]
     },
     "metadata": {},
     "output_type": "display_data"
    }
   ],
   "source": [
    "plt.figure(figsize=(35,10))\n",
    "sns.set(style=\"whitegrid\")\n",
    "tips = sns.load_dataset(\"tips\")\n",
    "sns.boxplot(y=autos['price'], x=autos['brand'])"
   ]
  },
  {
   "cell_type": "code",
   "execution_count": 73,
   "metadata": {},
   "outputs": [
    {
     "name": "stdout",
     "output_type": "stream",
     "text": [
      "<class 'pandas.core.frame.DataFrame'>\n",
      "Int64Index: 308607 entries, 1 to 371527\n",
      "Data columns (total 11 columns):\n",
      " #   Column              Non-Null Count   Dtype  \n",
      "---  ------              --------------   -----  \n",
      " 0   price               308607 non-null  int64  \n",
      " 1   vehicleType         308607 non-null  object \n",
      " 2   yearOfRegistration  308607 non-null  int64  \n",
      " 3   gearbox             308607 non-null  object \n",
      " 4   powerPS             308607 non-null  int64  \n",
      " 5   model               308607 non-null  object \n",
      " 6   kilometer           308607 non-null  int64  \n",
      " 7   fuelType            308607 non-null  object \n",
      " 8   brand               308607 non-null  object \n",
      " 9   notRepairedDamage   308607 non-null  object \n",
      " 10  numberOfDaysToSell  308607 non-null  float64\n",
      "dtypes: float64(1), int64(4), object(6)\n",
      "memory usage: 38.3+ MB\n"
     ]
    }
   ],
   "source": [
    "autos.info()"
   ]
  },
  {
   "cell_type": "markdown",
   "metadata": {},
   "source": [
    "## 5. TEST-TRAIN SPLIT"
   ]
  },
  {
   "cell_type": "markdown",
   "metadata": {},
   "source": [
    "__BUSINESS MODEL 1:__ Considers the __car features__ (model, year, power, fuel type, brand, etc.) as explanatory/independent variables and has __price__ as response/dependent variable."
   ]
  },
  {
   "cell_type": "code",
   "execution_count": 70,
   "metadata": {},
   "outputs": [],
   "source": [
    "autos_label_m1 = autos['price'].copy()\n",
    "autos_features_m1 = autos.drop(['numberOfDaysToSell','price'], axis=1)\n",
    "\n",
    "autos_features_m1_tr, autos_features_m1_test, autos_label_m1_tr, autos_label_m1_test \\\n",
    "    = train_test_split(autos_features_m1, autos_label_m1, test_size = 0.2, random_state=24)"
   ]
  },
  {
   "cell_type": "code",
   "execution_count": 71,
   "metadata": {},
   "outputs": [
    {
     "name": "stdout",
     "output_type": "stream",
     "text": [
      "(246885,)\n",
      "(61722,)\n",
      "(246885, 9)\n",
      "(61722, 9)\n"
     ]
    }
   ],
   "source": [
    "print(autos_label_m1_tr.shape)\n",
    "print(autos_label_m1_test.shape)\n",
    "print(autos_features_m1_tr.shape)\n",
    "print(autos_features_m1_test.shape)"
   ]
  },
  {
   "cell_type": "code",
   "execution_count": 72,
   "metadata": {},
   "outputs": [
    {
     "data": {
      "text/html": [
       "<div>\n",
       "<style scoped>\n",
       "    .dataframe tbody tr th:only-of-type {\n",
       "        vertical-align: middle;\n",
       "    }\n",
       "\n",
       "    .dataframe tbody tr th {\n",
       "        vertical-align: top;\n",
       "    }\n",
       "\n",
       "    .dataframe thead th {\n",
       "        text-align: right;\n",
       "    }\n",
       "</style>\n",
       "<table border=\"1\" class=\"dataframe\">\n",
       "  <thead>\n",
       "    <tr style=\"text-align: right;\">\n",
       "      <th></th>\n",
       "      <th>vehicleType</th>\n",
       "      <th>yearOfRegistration</th>\n",
       "      <th>gearbox</th>\n",
       "      <th>powerPS</th>\n",
       "      <th>model</th>\n",
       "      <th>kilometer</th>\n",
       "      <th>fuelType</th>\n",
       "      <th>brand</th>\n",
       "      <th>notRepairedDamage</th>\n",
       "    </tr>\n",
       "  </thead>\n",
       "  <tbody>\n",
       "    <tr>\n",
       "      <th>255226</th>\n",
       "      <td>kleinwagen</td>\n",
       "      <td>2012</td>\n",
       "      <td>manuell</td>\n",
       "      <td>60</td>\n",
       "      <td>mii</td>\n",
       "      <td>90000</td>\n",
       "      <td>benzin</td>\n",
       "      <td>seat</td>\n",
       "      <td>nein</td>\n",
       "    </tr>\n",
       "    <tr>\n",
       "      <th>103808</th>\n",
       "      <td>coupe</td>\n",
       "      <td>2002</td>\n",
       "      <td>automatik</td>\n",
       "      <td>163</td>\n",
       "      <td>c_klasse</td>\n",
       "      <td>125000</td>\n",
       "      <td>benzin</td>\n",
       "      <td>mercedes_benz</td>\n",
       "      <td>nein</td>\n",
       "    </tr>\n",
       "    <tr>\n",
       "      <th>82004</th>\n",
       "      <td>kleinwagen</td>\n",
       "      <td>2014</td>\n",
       "      <td>manuell</td>\n",
       "      <td>69</td>\n",
       "      <td>500</td>\n",
       "      <td>10000</td>\n",
       "      <td>benzin</td>\n",
       "      <td>fiat</td>\n",
       "      <td>nein</td>\n",
       "    </tr>\n",
       "    <tr>\n",
       "      <th>130208</th>\n",
       "      <td>limousine</td>\n",
       "      <td>2015</td>\n",
       "      <td>manuell</td>\n",
       "      <td>143</td>\n",
       "      <td>1er</td>\n",
       "      <td>20000</td>\n",
       "      <td>diesel</td>\n",
       "      <td>bmw</td>\n",
       "      <td>nein</td>\n",
       "    </tr>\n",
       "    <tr>\n",
       "      <th>165869</th>\n",
       "      <td>kombi</td>\n",
       "      <td>1998</td>\n",
       "      <td>manuell</td>\n",
       "      <td>116</td>\n",
       "      <td>legacy</td>\n",
       "      <td>125000</td>\n",
       "      <td>benzin</td>\n",
       "      <td>subaru</td>\n",
       "      <td>nein</td>\n",
       "    </tr>\n",
       "  </tbody>\n",
       "</table>\n",
       "</div>"
      ],
      "text/plain": [
       "       vehicleType  yearOfRegistration    gearbox  powerPS     model  \\\n",
       "255226  kleinwagen                2012    manuell       60       mii   \n",
       "103808       coupe                2002  automatik      163  c_klasse   \n",
       "82004   kleinwagen                2014    manuell       69       500   \n",
       "130208   limousine                2015    manuell      143       1er   \n",
       "165869       kombi                1998    manuell      116    legacy   \n",
       "\n",
       "        kilometer fuelType          brand notRepairedDamage  \n",
       "255226      90000   benzin           seat              nein  \n",
       "103808     125000   benzin  mercedes_benz              nein  \n",
       "82004       10000   benzin           fiat              nein  \n",
       "130208      20000   diesel            bmw              nein  \n",
       "165869     125000   benzin         subaru              nein  "
      ]
     },
     "execution_count": 72,
     "metadata": {},
     "output_type": "execute_result"
    }
   ],
   "source": [
    "autos_features_m1_tr.head()"
   ]
  },
  {
   "cell_type": "code",
   "execution_count": 74,
   "metadata": {},
   "outputs": [
    {
     "data": {
      "text/plain": [
       "255226     5349\n",
       "103808     5000\n",
       "82004      8750\n",
       "130208    21600\n",
       "165869      449\n",
       "Name: price, dtype: int64"
      ]
     },
     "execution_count": 74,
     "metadata": {},
     "output_type": "execute_result"
    }
   ],
   "source": [
    "autos_label_m1_tr.head()"
   ]
  },
  {
   "cell_type": "code",
   "execution_count": 75,
   "metadata": {},
   "outputs": [
    {
     "name": "stdout",
     "output_type": "stream",
     "text": [
      "vehicleType 0\n",
      "yearOfRegistration 0\n",
      "gearbox 0\n",
      "powerPS 0\n",
      "model 0\n",
      "kilometer 0\n",
      "fuelType 0\n",
      "brand 0\n",
      "notRepairedDamage 0\n",
      "vehicleType 0\n",
      "yearOfRegistration 0\n",
      "gearbox 0\n",
      "powerPS 0\n",
      "model 0\n",
      "kilometer 0\n",
      "fuelType 0\n",
      "brand 0\n",
      "notRepairedDamage 0\n"
     ]
    }
   ],
   "source": [
    "#final check for missing values:\n",
    "for i in autos_features_m1_tr:\n",
    "    print(i, autos[i].isnull().sum() )\n",
    "for i in autos_features_m1_test:\n",
    "    print(i, autos[i].isnull().sum() )"
   ]
  },
  {
   "cell_type": "markdown",
   "metadata": {},
   "source": [
    "__BUSINESS MODEL 2:__ Considers the __car features__ (model, year, power, fuel type, brand, etc.) + __price__ as explanatory/independent variables and has __numberOfDaysToSell__ as response/dependent variable."
   ]
  },
  {
   "cell_type": "code",
   "execution_count": 76,
   "metadata": {},
   "outputs": [],
   "source": [
    "autos_label_m2 = autos['numberOfDaysToSell'].copy()\n",
    "autos_features_m2 = autos.drop('numberOfDaysToSell', axis=1)\n",
    "\n",
    "autos_features_m2_tr, autos_features_m2_test, autos_label_m2_tr, autos_label_m2_test \\\n",
    "    = train_test_split(autos_features_m2, autos_label_m2, test_size = 0.2, random_state=24)"
   ]
  },
  {
   "cell_type": "code",
   "execution_count": 77,
   "metadata": {},
   "outputs": [
    {
     "name": "stdout",
     "output_type": "stream",
     "text": [
      "(246885,)\n",
      "(61722,)\n",
      "(246885, 10)\n",
      "(61722, 10)\n"
     ]
    }
   ],
   "source": [
    "print(autos_label_m2_tr.shape)\n",
    "print(autos_label_m2_test.shape)\n",
    "print(autos_features_m2_tr.shape)\n",
    "print(autos_features_m2_test.shape)"
   ]
  },
  {
   "cell_type": "code",
   "execution_count": 78,
   "metadata": {},
   "outputs": [
    {
     "data": {
      "text/html": [
       "<div>\n",
       "<style scoped>\n",
       "    .dataframe tbody tr th:only-of-type {\n",
       "        vertical-align: middle;\n",
       "    }\n",
       "\n",
       "    .dataframe tbody tr th {\n",
       "        vertical-align: top;\n",
       "    }\n",
       "\n",
       "    .dataframe thead th {\n",
       "        text-align: right;\n",
       "    }\n",
       "</style>\n",
       "<table border=\"1\" class=\"dataframe\">\n",
       "  <thead>\n",
       "    <tr style=\"text-align: right;\">\n",
       "      <th></th>\n",
       "      <th>price</th>\n",
       "      <th>vehicleType</th>\n",
       "      <th>yearOfRegistration</th>\n",
       "      <th>gearbox</th>\n",
       "      <th>powerPS</th>\n",
       "      <th>model</th>\n",
       "      <th>kilometer</th>\n",
       "      <th>fuelType</th>\n",
       "      <th>brand</th>\n",
       "      <th>notRepairedDamage</th>\n",
       "    </tr>\n",
       "  </thead>\n",
       "  <tbody>\n",
       "    <tr>\n",
       "      <th>255226</th>\n",
       "      <td>5349</td>\n",
       "      <td>kleinwagen</td>\n",
       "      <td>2012</td>\n",
       "      <td>manuell</td>\n",
       "      <td>60</td>\n",
       "      <td>mii</td>\n",
       "      <td>90000</td>\n",
       "      <td>benzin</td>\n",
       "      <td>seat</td>\n",
       "      <td>nein</td>\n",
       "    </tr>\n",
       "    <tr>\n",
       "      <th>103808</th>\n",
       "      <td>5000</td>\n",
       "      <td>coupe</td>\n",
       "      <td>2002</td>\n",
       "      <td>automatik</td>\n",
       "      <td>163</td>\n",
       "      <td>c_klasse</td>\n",
       "      <td>125000</td>\n",
       "      <td>benzin</td>\n",
       "      <td>mercedes_benz</td>\n",
       "      <td>nein</td>\n",
       "    </tr>\n",
       "    <tr>\n",
       "      <th>82004</th>\n",
       "      <td>8750</td>\n",
       "      <td>kleinwagen</td>\n",
       "      <td>2014</td>\n",
       "      <td>manuell</td>\n",
       "      <td>69</td>\n",
       "      <td>500</td>\n",
       "      <td>10000</td>\n",
       "      <td>benzin</td>\n",
       "      <td>fiat</td>\n",
       "      <td>nein</td>\n",
       "    </tr>\n",
       "    <tr>\n",
       "      <th>130208</th>\n",
       "      <td>21600</td>\n",
       "      <td>limousine</td>\n",
       "      <td>2015</td>\n",
       "      <td>manuell</td>\n",
       "      <td>143</td>\n",
       "      <td>1er</td>\n",
       "      <td>20000</td>\n",
       "      <td>diesel</td>\n",
       "      <td>bmw</td>\n",
       "      <td>nein</td>\n",
       "    </tr>\n",
       "    <tr>\n",
       "      <th>165869</th>\n",
       "      <td>449</td>\n",
       "      <td>kombi</td>\n",
       "      <td>1998</td>\n",
       "      <td>manuell</td>\n",
       "      <td>116</td>\n",
       "      <td>legacy</td>\n",
       "      <td>125000</td>\n",
       "      <td>benzin</td>\n",
       "      <td>subaru</td>\n",
       "      <td>nein</td>\n",
       "    </tr>\n",
       "  </tbody>\n",
       "</table>\n",
       "</div>"
      ],
      "text/plain": [
       "        price vehicleType  yearOfRegistration    gearbox  powerPS     model  \\\n",
       "255226   5349  kleinwagen                2012    manuell       60       mii   \n",
       "103808   5000       coupe                2002  automatik      163  c_klasse   \n",
       "82004    8750  kleinwagen                2014    manuell       69       500   \n",
       "130208  21600   limousine                2015    manuell      143       1er   \n",
       "165869    449       kombi                1998    manuell      116    legacy   \n",
       "\n",
       "        kilometer fuelType          brand notRepairedDamage  \n",
       "255226      90000   benzin           seat              nein  \n",
       "103808     125000   benzin  mercedes_benz              nein  \n",
       "82004       10000   benzin           fiat              nein  \n",
       "130208      20000   diesel            bmw              nein  \n",
       "165869     125000   benzin         subaru              nein  "
      ]
     },
     "execution_count": 78,
     "metadata": {},
     "output_type": "execute_result"
    }
   ],
   "source": [
    "autos_features_m2_tr.head()"
   ]
  },
  {
   "cell_type": "code",
   "execution_count": 79,
   "metadata": {},
   "outputs": [
    {
     "data": {
      "text/plain": [
       "255226     4.074421\n",
       "103808     9.365498\n",
       "82004     31.929259\n",
       "130208     2.803009\n",
       "165869     2.970833\n",
       "Name: numberOfDaysToSell, dtype: float64"
      ]
     },
     "execution_count": 79,
     "metadata": {},
     "output_type": "execute_result"
    }
   ],
   "source": [
    "autos_label_m2_tr.head()"
   ]
  },
  {
   "cell_type": "code",
   "execution_count": 80,
   "metadata": {},
   "outputs": [
    {
     "name": "stdout",
     "output_type": "stream",
     "text": [
      "price 0\n",
      "vehicleType 0\n",
      "yearOfRegistration 0\n",
      "gearbox 0\n",
      "powerPS 0\n",
      "model 0\n",
      "kilometer 0\n",
      "fuelType 0\n",
      "brand 0\n",
      "notRepairedDamage 0\n",
      "price 0\n",
      "vehicleType 0\n",
      "yearOfRegistration 0\n",
      "gearbox 0\n",
      "powerPS 0\n",
      "model 0\n",
      "kilometer 0\n",
      "fuelType 0\n",
      "brand 0\n",
      "notRepairedDamage 0\n"
     ]
    }
   ],
   "source": [
    "#final check for missing values:\n",
    "for i in autos_features_m2_tr:\n",
    "    print(i, autos[i].isnull().sum() )\n",
    "for i in autos_features_m2_test:\n",
    "    print(i, autos[i].isnull().sum() )"
   ]
  },
  {
   "cell_type": "markdown",
   "metadata": {},
   "source": [
    "## 6. PREPARE THE DATA FOR MACHINE LEARNING ALGORITHMS"
   ]
  },
  {
   "cell_type": "markdown",
   "metadata": {},
   "source": [
    "### Business Model 1"
   ]
  },
  {
   "cell_type": "markdown",
   "metadata": {},
   "source": [
    "Numerical and categorical values are treated differently. Thus, let us split the dataset into two subsets: numerical and categorical."
   ]
  },
  {
   "cell_type": "code",
   "execution_count": 81,
   "metadata": {},
   "outputs": [
    {
     "name": "stdout",
     "output_type": "stream",
     "text": [
      "<class 'pandas.core.frame.DataFrame'>\n",
      "Int64Index: 246885 entries, 255226 to 291334\n",
      "Data columns (total 9 columns):\n",
      " #   Column              Non-Null Count   Dtype \n",
      "---  ------              --------------   ----- \n",
      " 0   vehicleType         246885 non-null  object\n",
      " 1   yearOfRegistration  246885 non-null  int64 \n",
      " 2   gearbox             246885 non-null  object\n",
      " 3   powerPS             246885 non-null  int64 \n",
      " 4   model               246885 non-null  object\n",
      " 5   kilometer           246885 non-null  int64 \n",
      " 6   fuelType            246885 non-null  object\n",
      " 7   brand               246885 non-null  object\n",
      " 8   notRepairedDamage   246885 non-null  object\n",
      "dtypes: int64(3), object(6)\n",
      "memory usage: 18.8+ MB\n"
     ]
    }
   ],
   "source": [
    "autos_features_m1_tr.info()"
   ]
  },
  {
   "cell_type": "code",
   "execution_count": 82,
   "metadata": {},
   "outputs": [
    {
     "data": {
      "text/html": [
       "<div>\n",
       "<style scoped>\n",
       "    .dataframe tbody tr th:only-of-type {\n",
       "        vertical-align: middle;\n",
       "    }\n",
       "\n",
       "    .dataframe tbody tr th {\n",
       "        vertical-align: top;\n",
       "    }\n",
       "\n",
       "    .dataframe thead th {\n",
       "        text-align: right;\n",
       "    }\n",
       "</style>\n",
       "<table border=\"1\" class=\"dataframe\">\n",
       "  <thead>\n",
       "    <tr style=\"text-align: right;\">\n",
       "      <th></th>\n",
       "      <th>yearOfRegistration</th>\n",
       "      <th>powerPS</th>\n",
       "      <th>kilometer</th>\n",
       "    </tr>\n",
       "  </thead>\n",
       "  <tbody>\n",
       "    <tr>\n",
       "      <th>255226</th>\n",
       "      <td>2012</td>\n",
       "      <td>60</td>\n",
       "      <td>90000</td>\n",
       "    </tr>\n",
       "    <tr>\n",
       "      <th>103808</th>\n",
       "      <td>2002</td>\n",
       "      <td>163</td>\n",
       "      <td>125000</td>\n",
       "    </tr>\n",
       "    <tr>\n",
       "      <th>82004</th>\n",
       "      <td>2014</td>\n",
       "      <td>69</td>\n",
       "      <td>10000</td>\n",
       "    </tr>\n",
       "    <tr>\n",
       "      <th>130208</th>\n",
       "      <td>2015</td>\n",
       "      <td>143</td>\n",
       "      <td>20000</td>\n",
       "    </tr>\n",
       "    <tr>\n",
       "      <th>165869</th>\n",
       "      <td>1998</td>\n",
       "      <td>116</td>\n",
       "      <td>125000</td>\n",
       "    </tr>\n",
       "  </tbody>\n",
       "</table>\n",
       "</div>"
      ],
      "text/plain": [
       "        yearOfRegistration  powerPS  kilometer\n",
       "255226                2012       60      90000\n",
       "103808                2002      163     125000\n",
       "82004                 2014       69      10000\n",
       "130208                2015      143      20000\n",
       "165869                1998      116     125000"
      ]
     },
     "execution_count": 82,
     "metadata": {},
     "output_type": "execute_result"
    }
   ],
   "source": [
    "autos_features_m1_tr_num = autos_features_m1_tr.drop(autos_cat, axis=1)\n",
    "autos_features_m1_tr_num.head()"
   ]
  },
  {
   "cell_type": "code",
   "execution_count": 83,
   "metadata": {},
   "outputs": [],
   "source": [
    "autos_num = ['yearOfRegistration', 'powerPS', 'kilometer']\n",
    "autos_features_m1_tr_cat = autos_features_m1_tr.drop(autos_num, axis=1)"
   ]
  },
  {
   "cell_type": "code",
   "execution_count": 84,
   "metadata": {},
   "outputs": [
    {
     "data": {
      "text/html": [
       "<div>\n",
       "<style scoped>\n",
       "    .dataframe tbody tr th:only-of-type {\n",
       "        vertical-align: middle;\n",
       "    }\n",
       "\n",
       "    .dataframe tbody tr th {\n",
       "        vertical-align: top;\n",
       "    }\n",
       "\n",
       "    .dataframe thead th {\n",
       "        text-align: right;\n",
       "    }\n",
       "</style>\n",
       "<table border=\"1\" class=\"dataframe\">\n",
       "  <thead>\n",
       "    <tr style=\"text-align: right;\">\n",
       "      <th></th>\n",
       "      <th>vehicleType</th>\n",
       "      <th>gearbox</th>\n",
       "      <th>model</th>\n",
       "      <th>fuelType</th>\n",
       "      <th>brand</th>\n",
       "      <th>notRepairedDamage</th>\n",
       "    </tr>\n",
       "  </thead>\n",
       "  <tbody>\n",
       "    <tr>\n",
       "      <th>255226</th>\n",
       "      <td>kleinwagen</td>\n",
       "      <td>manuell</td>\n",
       "      <td>mii</td>\n",
       "      <td>benzin</td>\n",
       "      <td>seat</td>\n",
       "      <td>nein</td>\n",
       "    </tr>\n",
       "    <tr>\n",
       "      <th>103808</th>\n",
       "      <td>coupe</td>\n",
       "      <td>automatik</td>\n",
       "      <td>c_klasse</td>\n",
       "      <td>benzin</td>\n",
       "      <td>mercedes_benz</td>\n",
       "      <td>nein</td>\n",
       "    </tr>\n",
       "    <tr>\n",
       "      <th>82004</th>\n",
       "      <td>kleinwagen</td>\n",
       "      <td>manuell</td>\n",
       "      <td>500</td>\n",
       "      <td>benzin</td>\n",
       "      <td>fiat</td>\n",
       "      <td>nein</td>\n",
       "    </tr>\n",
       "    <tr>\n",
       "      <th>130208</th>\n",
       "      <td>limousine</td>\n",
       "      <td>manuell</td>\n",
       "      <td>1er</td>\n",
       "      <td>diesel</td>\n",
       "      <td>bmw</td>\n",
       "      <td>nein</td>\n",
       "    </tr>\n",
       "    <tr>\n",
       "      <th>165869</th>\n",
       "      <td>kombi</td>\n",
       "      <td>manuell</td>\n",
       "      <td>legacy</td>\n",
       "      <td>benzin</td>\n",
       "      <td>subaru</td>\n",
       "      <td>nein</td>\n",
       "    </tr>\n",
       "  </tbody>\n",
       "</table>\n",
       "</div>"
      ],
      "text/plain": [
       "       vehicleType    gearbox     model fuelType          brand  \\\n",
       "255226  kleinwagen    manuell       mii   benzin           seat   \n",
       "103808       coupe  automatik  c_klasse   benzin  mercedes_benz   \n",
       "82004   kleinwagen    manuell       500   benzin           fiat   \n",
       "130208   limousine    manuell       1er   diesel            bmw   \n",
       "165869       kombi    manuell    legacy   benzin         subaru   \n",
       "\n",
       "       notRepairedDamage  \n",
       "255226              nein  \n",
       "103808              nein  \n",
       "82004               nein  \n",
       "130208              nein  \n",
       "165869              nein  "
      ]
     },
     "execution_count": 84,
     "metadata": {},
     "output_type": "execute_result"
    }
   ],
   "source": [
    "autos_features_m1_tr_cat.head()"
   ]
  },
  {
   "cell_type": "markdown",
   "metadata": {},
   "source": [
    "Next, we create a class to select numerical or categorical columns since Scikit-Learn doesn't handle DataFrames."
   ]
  },
  {
   "cell_type": "code",
   "execution_count": 85,
   "metadata": {},
   "outputs": [],
   "source": [
    "class DataFrameSelector(BaseEstimator, TransformerMixin):\n",
    "    def __init__(self, feature_names):\n",
    "        self.attribute_names = feature_names\n",
    "    def fit(self, X, y=None):\n",
    "        return self\n",
    "    def transform(self, X):\n",
    "        return X[self.attribute_names].values"
   ]
  },
  {
   "cell_type": "markdown",
   "metadata": {},
   "source": [
    "Next, a few data transformations will be carried out. First, __Feature scaling__, which is used to prevent ML algorithms to create bias towards variables with bigger values. We will be using the Standard Scaler transform. The idea behind *StandardScaler()* is that it will transform your data such that its distribution will have a mean value 0 and standard deviation of 1. In case of multivariate data, this is done feature-wise (in other words independently for each column of the data). Given the distribution of the data, each value in the dataset will have the mean value subtracted, and then divided by the standard deviation of the whole dataset (or feature in the multivariate case), __(Géron, 2019)__."
   ]
  },
  {
   "cell_type": "code",
   "execution_count": 86,
   "metadata": {},
   "outputs": [],
   "source": [
    "# The imputer is fittet on the training data. It can then also be applied to the test data (without a refit)\n",
    "num_pipeline = Pipeline([\n",
    "        ('selector', DataFrameSelector(autos_num)),\n",
    "        ('std_scaler', StandardScaler())\n",
    "    ])\n",
    "\n",
    "# We run the pipeline to check, whether it runs with no problems\n",
    "temp = num_pipeline.fit_transform(autos_features_m1_tr)"
   ]
  },
  {
   "cell_type": "code",
   "execution_count": 87,
   "metadata": {
    "scrolled": true
   },
   "outputs": [
    {
     "data": {
      "text/html": [
       "<div>\n",
       "<style scoped>\n",
       "    .dataframe tbody tr th:only-of-type {\n",
       "        vertical-align: middle;\n",
       "    }\n",
       "\n",
       "    .dataframe tbody tr th {\n",
       "        vertical-align: top;\n",
       "    }\n",
       "\n",
       "    .dataframe thead th {\n",
       "        text-align: right;\n",
       "    }\n",
       "</style>\n",
       "<table border=\"1\" class=\"dataframe\">\n",
       "  <thead>\n",
       "    <tr style=\"text-align: right;\">\n",
       "      <th></th>\n",
       "      <th>yearOfRegistration</th>\n",
       "      <th>powerPS</th>\n",
       "      <th>kilometer</th>\n",
       "    </tr>\n",
       "  </thead>\n",
       "  <tbody>\n",
       "    <tr>\n",
       "      <th>255226</th>\n",
       "      <td>1.596569</td>\n",
       "      <td>-1.157859</td>\n",
       "      <td>-0.945993</td>\n",
       "    </tr>\n",
       "    <tr>\n",
       "      <th>103808</th>\n",
       "      <td>-0.279371</td>\n",
       "      <td>0.680370</td>\n",
       "      <td>-0.036209</td>\n",
       "    </tr>\n",
       "    <tr>\n",
       "      <th>82004</th>\n",
       "      <td>1.971756</td>\n",
       "      <td>-0.997237</td>\n",
       "      <td>-3.025497</td>\n",
       "    </tr>\n",
       "    <tr>\n",
       "      <th>130208</th>\n",
       "      <td>2.159350</td>\n",
       "      <td>0.323432</td>\n",
       "      <td>-2.765559</td>\n",
       "    </tr>\n",
       "    <tr>\n",
       "      <th>165869</th>\n",
       "      <td>-1.029747</td>\n",
       "      <td>-0.158434</td>\n",
       "      <td>-0.036209</td>\n",
       "    </tr>\n",
       "  </tbody>\n",
       "</table>\n",
       "</div>"
      ],
      "text/plain": [
       "        yearOfRegistration   powerPS  kilometer\n",
       "255226            1.596569 -1.157859  -0.945993\n",
       "103808           -0.279371  0.680370  -0.036209\n",
       "82004             1.971756 -0.997237  -3.025497\n",
       "130208            2.159350  0.323432  -2.765559\n",
       "165869           -1.029747 -0.158434  -0.036209"
      ]
     },
     "execution_count": 87,
     "metadata": {},
     "output_type": "execute_result"
    }
   ],
   "source": [
    "autos_features_m1_tr_num_transf = pd.DataFrame(temp, columns=autos_features_m1_tr_num.columns, index=autos_features_m1_tr_num.index)\n",
    "autos_features_m1_tr_num_transf.head()"
   ]
  },
  {
   "cell_type": "markdown",
   "metadata": {},
   "source": [
    "Now we need to create one binary attribute per category. This is called **one-hot encoding**, because only one attribute will be equal to 1 (hot), while the other will be 0 (cold),  __(Géron, 2019)__."
   ]
  },
  {
   "cell_type": "code",
   "execution_count": 88,
   "metadata": {},
   "outputs": [],
   "source": [
    "# One-Hot-Encoder replaces categorical features by boolean features, stating wether a certain category is true or not\n",
    "cat_pipeline = Pipeline([\n",
    "        ('selector', DataFrameSelector(autos_cat)),\n",
    "        ('cat_encoder', OneHotEncoder(sparse=False)),\n",
    "    ])\n",
    "\n",
    "# We run the pipeline to check, whether it runs with no problems\n",
    "temp = cat_pipeline.fit_transform(autos_features_m1_tr)"
   ]
  },
  {
   "cell_type": "markdown",
   "metadata": {},
   "source": [
    "After one-hot encoding, we get a matrix with hundreds of columns, and the matrix is full of 0s except for a single 1 per row. The result is a SciPy sparse matrix that only stores the location of the nonzero element in order to reduce memory usage."
   ]
  },
  {
   "cell_type": "code",
   "execution_count": 89,
   "metadata": {},
   "outputs": [],
   "source": [
    "#Combine both imputers and get cleaned data\n",
    "full_pipeline = FeatureUnion(transformer_list=[\n",
    "        (\"num_pipeline\", num_pipeline),\n",
    "        (\"cat_pipeline\", cat_pipeline),\n",
    "    ])\n",
    "autos_features_prepared_m1_tr = full_pipeline.fit_transform(autos_features_m1_tr)"
   ]
  },
  {
   "cell_type": "code",
   "execution_count": 90,
   "metadata": {},
   "outputs": [
    {
     "data": {
      "text/plain": [
       "array([[ 1.5965686 , -1.15785914, -0.94599261, ...,  0.        ,\n",
       "         0.        ,  1.        ],\n",
       "       [-0.27937088,  0.68036955, -0.03620929, ...,  0.        ,\n",
       "         0.        ,  1.        ],\n",
       "       [ 1.9717565 , -0.99723721, -3.02549733, ...,  0.        ,\n",
       "         0.        ,  1.        ],\n",
       "       ...,\n",
       "       [ 0.28341097, -0.15843383,  0.61363593, ...,  0.        ,\n",
       "         0.        ,  1.        ],\n",
       "       [ 0.65859886, -0.89015593, -0.03620929, ...,  0.        ,\n",
       "         0.        ,  1.        ],\n",
       "       [ 1.40897465,  1.41209165,  0.61363593, ...,  0.        ,\n",
       "         0.        ,  1.        ]])"
      ]
     },
     "execution_count": 90,
     "metadata": {},
     "output_type": "execute_result"
    }
   ],
   "source": [
    "autos_features_prepared_m1_tr"
   ]
  },
  {
   "cell_type": "code",
   "execution_count": 91,
   "metadata": {},
   "outputs": [
    {
     "name": "stdout",
     "output_type": "stream",
     "text": [
      "(246885, 309)\n",
      "(246885,)\n",
      "<class 'numpy.ndarray'>\n",
      "<class 'pandas.core.series.Series'>\n"
     ]
    }
   ],
   "source": [
    "print(autos_features_prepared_m1_tr.shape)\n",
    "print(autos_label_m1_tr.shape)\n",
    "print(type(autos_features_prepared_m1_tr))\n",
    "print(type(autos_label_m1_tr))"
   ]
  },
  {
   "cell_type": "code",
   "execution_count": 92,
   "metadata": {},
   "outputs": [],
   "source": [
    "#Converting autos_label_m1_tr and autos_label_m1_test to numpy array\n",
    "autos_label_m1_tr = autos_label_m1_tr.to_numpy()\n",
    "autos_label_m1_test = autos_label_m1_test.to_numpy()"
   ]
  },
  {
   "cell_type": "code",
   "execution_count": 93,
   "metadata": {},
   "outputs": [
    {
     "data": {
      "text/plain": [
       "numpy.ndarray"
      ]
     },
     "execution_count": 93,
     "metadata": {},
     "output_type": "execute_result"
    }
   ],
   "source": [
    "type(autos_label_m1_tr)"
   ]
  },
  {
   "cell_type": "markdown",
   "metadata": {},
   "source": [
    "### Business Model 2"
   ]
  },
  {
   "cell_type": "code",
   "execution_count": 94,
   "metadata": {},
   "outputs": [
    {
     "name": "stdout",
     "output_type": "stream",
     "text": [
      "<class 'pandas.core.frame.DataFrame'>\n",
      "Int64Index: 246885 entries, 255226 to 291334\n",
      "Data columns (total 10 columns):\n",
      " #   Column              Non-Null Count   Dtype \n",
      "---  ------              --------------   ----- \n",
      " 0   price               246885 non-null  int64 \n",
      " 1   vehicleType         246885 non-null  object\n",
      " 2   yearOfRegistration  246885 non-null  int64 \n",
      " 3   gearbox             246885 non-null  object\n",
      " 4   powerPS             246885 non-null  int64 \n",
      " 5   model               246885 non-null  object\n",
      " 6   kilometer           246885 non-null  int64 \n",
      " 7   fuelType            246885 non-null  object\n",
      " 8   brand               246885 non-null  object\n",
      " 9   notRepairedDamage   246885 non-null  object\n",
      "dtypes: int64(4), object(6)\n",
      "memory usage: 20.7+ MB\n"
     ]
    }
   ],
   "source": [
    "autos_features_m2_tr.info()"
   ]
  },
  {
   "cell_type": "code",
   "execution_count": 95,
   "metadata": {},
   "outputs": [
    {
     "data": {
      "text/html": [
       "<div>\n",
       "<style scoped>\n",
       "    .dataframe tbody tr th:only-of-type {\n",
       "        vertical-align: middle;\n",
       "    }\n",
       "\n",
       "    .dataframe tbody tr th {\n",
       "        vertical-align: top;\n",
       "    }\n",
       "\n",
       "    .dataframe thead th {\n",
       "        text-align: right;\n",
       "    }\n",
       "</style>\n",
       "<table border=\"1\" class=\"dataframe\">\n",
       "  <thead>\n",
       "    <tr style=\"text-align: right;\">\n",
       "      <th></th>\n",
       "      <th>price</th>\n",
       "      <th>yearOfRegistration</th>\n",
       "      <th>powerPS</th>\n",
       "      <th>kilometer</th>\n",
       "    </tr>\n",
       "  </thead>\n",
       "  <tbody>\n",
       "    <tr>\n",
       "      <th>255226</th>\n",
       "      <td>5349</td>\n",
       "      <td>2012</td>\n",
       "      <td>60</td>\n",
       "      <td>90000</td>\n",
       "    </tr>\n",
       "    <tr>\n",
       "      <th>103808</th>\n",
       "      <td>5000</td>\n",
       "      <td>2002</td>\n",
       "      <td>163</td>\n",
       "      <td>125000</td>\n",
       "    </tr>\n",
       "    <tr>\n",
       "      <th>82004</th>\n",
       "      <td>8750</td>\n",
       "      <td>2014</td>\n",
       "      <td>69</td>\n",
       "      <td>10000</td>\n",
       "    </tr>\n",
       "    <tr>\n",
       "      <th>130208</th>\n",
       "      <td>21600</td>\n",
       "      <td>2015</td>\n",
       "      <td>143</td>\n",
       "      <td>20000</td>\n",
       "    </tr>\n",
       "    <tr>\n",
       "      <th>165869</th>\n",
       "      <td>449</td>\n",
       "      <td>1998</td>\n",
       "      <td>116</td>\n",
       "      <td>125000</td>\n",
       "    </tr>\n",
       "  </tbody>\n",
       "</table>\n",
       "</div>"
      ],
      "text/plain": [
       "        price  yearOfRegistration  powerPS  kilometer\n",
       "255226   5349                2012       60      90000\n",
       "103808   5000                2002      163     125000\n",
       "82004    8750                2014       69      10000\n",
       "130208  21600                2015      143      20000\n",
       "165869    449                1998      116     125000"
      ]
     },
     "execution_count": 95,
     "metadata": {},
     "output_type": "execute_result"
    }
   ],
   "source": [
    "autos_features_m2_tr_num = autos_features_m2_tr.drop(autos_cat, axis=1)\n",
    "autos_features_m2_tr_num.head()"
   ]
  },
  {
   "cell_type": "code",
   "execution_count": 96,
   "metadata": {},
   "outputs": [
    {
     "data": {
      "text/html": [
       "<div>\n",
       "<style scoped>\n",
       "    .dataframe tbody tr th:only-of-type {\n",
       "        vertical-align: middle;\n",
       "    }\n",
       "\n",
       "    .dataframe tbody tr th {\n",
       "        vertical-align: top;\n",
       "    }\n",
       "\n",
       "    .dataframe thead th {\n",
       "        text-align: right;\n",
       "    }\n",
       "</style>\n",
       "<table border=\"1\" class=\"dataframe\">\n",
       "  <thead>\n",
       "    <tr style=\"text-align: right;\">\n",
       "      <th></th>\n",
       "      <th>vehicleType</th>\n",
       "      <th>gearbox</th>\n",
       "      <th>model</th>\n",
       "      <th>fuelType</th>\n",
       "      <th>brand</th>\n",
       "      <th>notRepairedDamage</th>\n",
       "    </tr>\n",
       "  </thead>\n",
       "  <tbody>\n",
       "    <tr>\n",
       "      <th>255226</th>\n",
       "      <td>kleinwagen</td>\n",
       "      <td>manuell</td>\n",
       "      <td>mii</td>\n",
       "      <td>benzin</td>\n",
       "      <td>seat</td>\n",
       "      <td>nein</td>\n",
       "    </tr>\n",
       "    <tr>\n",
       "      <th>103808</th>\n",
       "      <td>coupe</td>\n",
       "      <td>automatik</td>\n",
       "      <td>c_klasse</td>\n",
       "      <td>benzin</td>\n",
       "      <td>mercedes_benz</td>\n",
       "      <td>nein</td>\n",
       "    </tr>\n",
       "    <tr>\n",
       "      <th>82004</th>\n",
       "      <td>kleinwagen</td>\n",
       "      <td>manuell</td>\n",
       "      <td>500</td>\n",
       "      <td>benzin</td>\n",
       "      <td>fiat</td>\n",
       "      <td>nein</td>\n",
       "    </tr>\n",
       "    <tr>\n",
       "      <th>130208</th>\n",
       "      <td>limousine</td>\n",
       "      <td>manuell</td>\n",
       "      <td>1er</td>\n",
       "      <td>diesel</td>\n",
       "      <td>bmw</td>\n",
       "      <td>nein</td>\n",
       "    </tr>\n",
       "    <tr>\n",
       "      <th>165869</th>\n",
       "      <td>kombi</td>\n",
       "      <td>manuell</td>\n",
       "      <td>legacy</td>\n",
       "      <td>benzin</td>\n",
       "      <td>subaru</td>\n",
       "      <td>nein</td>\n",
       "    </tr>\n",
       "  </tbody>\n",
       "</table>\n",
       "</div>"
      ],
      "text/plain": [
       "       vehicleType    gearbox     model fuelType          brand  \\\n",
       "255226  kleinwagen    manuell       mii   benzin           seat   \n",
       "103808       coupe  automatik  c_klasse   benzin  mercedes_benz   \n",
       "82004   kleinwagen    manuell       500   benzin           fiat   \n",
       "130208   limousine    manuell       1er   diesel            bmw   \n",
       "165869       kombi    manuell    legacy   benzin         subaru   \n",
       "\n",
       "       notRepairedDamage  \n",
       "255226              nein  \n",
       "103808              nein  \n",
       "82004               nein  \n",
       "130208              nein  \n",
       "165869              nein  "
      ]
     },
     "execution_count": 96,
     "metadata": {},
     "output_type": "execute_result"
    }
   ],
   "source": [
    "autos_num_2 = ['price','yearOfRegistration', 'powerPS', 'kilometer']\n",
    "autos_features_m2_tr_cat = autos_features_m2_tr.drop(autos_num_2, axis=1)\n",
    "autos_features_m2_tr_cat.head()"
   ]
  },
  {
   "cell_type": "code",
   "execution_count": 97,
   "metadata": {},
   "outputs": [],
   "source": [
    "# The imputer is fittet on the training data. It can then also be applied to the test data (without a refit)\n",
    "num_pipeline_2 = Pipeline([\n",
    "        ('selector', DataFrameSelector(autos_num_2)),\n",
    "        ('std_scaler', StandardScaler())\n",
    "    ])\n",
    "\n",
    "# We run the pipeline to check, whether it runs with no problems\n",
    "temp = num_pipeline_2.fit_transform(autos_features_m2_tr)"
   ]
  },
  {
   "cell_type": "code",
   "execution_count": 98,
   "metadata": {},
   "outputs": [
    {
     "data": {
      "text/html": [
       "<div>\n",
       "<style scoped>\n",
       "    .dataframe tbody tr th:only-of-type {\n",
       "        vertical-align: middle;\n",
       "    }\n",
       "\n",
       "    .dataframe tbody tr th {\n",
       "        vertical-align: top;\n",
       "    }\n",
       "\n",
       "    .dataframe thead th {\n",
       "        text-align: right;\n",
       "    }\n",
       "</style>\n",
       "<table border=\"1\" class=\"dataframe\">\n",
       "  <thead>\n",
       "    <tr style=\"text-align: right;\">\n",
       "      <th></th>\n",
       "      <th>price</th>\n",
       "      <th>yearOfRegistration</th>\n",
       "      <th>powerPS</th>\n",
       "      <th>kilometer</th>\n",
       "    </tr>\n",
       "  </thead>\n",
       "  <tbody>\n",
       "    <tr>\n",
       "      <th>255226</th>\n",
       "      <td>-0.071321</td>\n",
       "      <td>1.596569</td>\n",
       "      <td>-1.157859</td>\n",
       "      <td>-0.945993</td>\n",
       "    </tr>\n",
       "    <tr>\n",
       "      <th>103808</th>\n",
       "      <td>-0.124428</td>\n",
       "      <td>-0.279371</td>\n",
       "      <td>0.680370</td>\n",
       "      <td>-0.036209</td>\n",
       "    </tr>\n",
       "    <tr>\n",
       "      <th>82004</th>\n",
       "      <td>0.446209</td>\n",
       "      <td>1.971756</td>\n",
       "      <td>-0.997237</td>\n",
       "      <td>-3.025497</td>\n",
       "    </tr>\n",
       "    <tr>\n",
       "      <th>130208</th>\n",
       "      <td>2.401591</td>\n",
       "      <td>2.159350</td>\n",
       "      <td>0.323432</td>\n",
       "      <td>-2.765559</td>\n",
       "    </tr>\n",
       "    <tr>\n",
       "      <th>165869</th>\n",
       "      <td>-0.816953</td>\n",
       "      <td>-1.029747</td>\n",
       "      <td>-0.158434</td>\n",
       "      <td>-0.036209</td>\n",
       "    </tr>\n",
       "  </tbody>\n",
       "</table>\n",
       "</div>"
      ],
      "text/plain": [
       "           price  yearOfRegistration   powerPS  kilometer\n",
       "255226 -0.071321            1.596569 -1.157859  -0.945993\n",
       "103808 -0.124428           -0.279371  0.680370  -0.036209\n",
       "82004   0.446209            1.971756 -0.997237  -3.025497\n",
       "130208  2.401591            2.159350  0.323432  -2.765559\n",
       "165869 -0.816953           -1.029747 -0.158434  -0.036209"
      ]
     },
     "execution_count": 98,
     "metadata": {},
     "output_type": "execute_result"
    }
   ],
   "source": [
    "autos_features_m2_tr_num_transf = pd.DataFrame(temp, columns=autos_features_m2_tr_num.columns, index=autos_features_m2_tr_num.index)\n",
    "autos_features_m2_tr_num_transf.head()"
   ]
  },
  {
   "cell_type": "code",
   "execution_count": 99,
   "metadata": {},
   "outputs": [],
   "source": [
    "# One-Hot-Encoder replaces categorical features by boolean features, stating wether a certain category is true or not\n",
    "cat_pipeline_2 = Pipeline([\n",
    "        ('selector', DataFrameSelector(autos_cat)),\n",
    "        ('cat_encoder', OneHotEncoder(sparse=False)),\n",
    "    ])\n",
    "\n",
    "# We run the pipeline to check, whether it runs with no problems\n",
    "temp = cat_pipeline_2.fit_transform(autos_features_m2_tr)"
   ]
  },
  {
   "cell_type": "code",
   "execution_count": 100,
   "metadata": {},
   "outputs": [
    {
     "data": {
      "text/plain": [
       "array([[-0.07132108,  1.5965686 , -1.15785914, ...,  0.        ,\n",
       "         0.        ,  1.        ],\n",
       "       [-0.12442836, -0.27937088,  0.68036955, ...,  0.        ,\n",
       "         0.        ,  1.        ],\n",
       "       [ 0.44620855,  1.9717565 , -0.99723721, ...,  0.        ,\n",
       "         0.        ,  1.        ],\n",
       "       ...,\n",
       "       [ 0.16469435,  0.28341097, -0.15843383, ...,  0.        ,\n",
       "         0.        ,  1.        ],\n",
       "       [-0.39833407,  0.65859886, -0.89015593, ...,  0.        ,\n",
       "         0.        ,  1.        ],\n",
       "       [ 2.08203436,  1.40897465,  1.41209165, ...,  0.        ,\n",
       "         0.        ,  1.        ]])"
      ]
     },
     "execution_count": 100,
     "metadata": {},
     "output_type": "execute_result"
    }
   ],
   "source": [
    "#Combine both imputers and get cleaned data\n",
    "full_pipeline_2 = FeatureUnion(transformer_list=[\n",
    "        (\"num_pipeline\", num_pipeline_2),\n",
    "        (\"cat_pipeline\", cat_pipeline_2),\n",
    "    ])\n",
    "autos_features_prepared_m2_tr = full_pipeline_2.fit_transform(autos_features_m2_tr)\n",
    "autos_features_prepared_m2_tr"
   ]
  },
  {
   "cell_type": "code",
   "execution_count": 101,
   "metadata": {},
   "outputs": [
    {
     "name": "stdout",
     "output_type": "stream",
     "text": [
      "(246885, 310)\n",
      "(246885,)\n",
      "<class 'numpy.ndarray'>\n",
      "<class 'pandas.core.series.Series'>\n"
     ]
    }
   ],
   "source": [
    "print(autos_features_prepared_m2_tr.shape)\n",
    "print(autos_label_m2_tr.shape)\n",
    "print(type(autos_features_prepared_m2_tr))\n",
    "print(type(autos_label_m2_tr))"
   ]
  },
  {
   "cell_type": "code",
   "execution_count": 102,
   "metadata": {},
   "outputs": [],
   "source": [
    "#Converting autos_label_m2_tr and autos_label_m2_test to numpy array\n",
    "autos_label_m2_tr = autos_label_m2_tr.to_numpy()\n",
    "autos_label_m2_test = autos_label_m2_test.to_numpy()"
   ]
  },
  {
   "cell_type": "code",
   "execution_count": 103,
   "metadata": {},
   "outputs": [
    {
     "data": {
      "text/plain": [
       "numpy.ndarray"
      ]
     },
     "execution_count": 103,
     "metadata": {},
     "output_type": "execute_result"
    }
   ],
   "source": [
    "type(autos_label_m2_tr)"
   ]
  },
  {
   "cell_type": "markdown",
   "metadata": {},
   "source": [
    "## 6. MODELS EVALUATION"
   ]
  },
  {
   "cell_type": "code",
   "execution_count": 104,
   "metadata": {},
   "outputs": [],
   "source": [
    "def display_scores(scores):\n",
    "    print(\"Scores: \", scores.round(2))\n",
    "    print('Mean:%5.2f'%scores.mean().round(2))\n",
    "    print('Standard deviation:%5.2f'%scores.std().round(2))"
   ]
  },
  {
   "cell_type": "markdown",
   "metadata": {},
   "source": [
    "### Business Model 1"
   ]
  },
  {
   "cell_type": "markdown",
   "metadata": {},
   "source": [
    "### Linear Regression"
   ]
  },
  {
   "cell_type": "markdown",
   "metadata": {},
   "source": [
    "Since we have many columns after the data transformations, let's create a function for backward elimination. In this process, all independent variables are entered into the regression at first, then each one is deleted, one at a time, if they do not contribute to the performance of the model."
   ]
  },
  {
   "cell_type": "code",
   "execution_count": 105,
   "metadata": {},
   "outputs": [],
   "source": [
    "#Backward Elimination with p-values\n",
    "def backwardElimination_p(y, x, sl):\n",
    "    numVars = len(x[0])\n",
    "    for i in range(0, numVars):\n",
    "        regressor_OLS = sm.OLS(y, x).fit()\n",
    "        maxVar = max(regressor_OLS.pvalues).astype(float)\n",
    "        if maxVar > sl:\n",
    "            for j in range(0, numVars - i):\n",
    "                if (regressor_OLS.pvalues[j].astype(float) == maxVar):\n",
    "                    x = np.delete(x, j, 1)\n",
    "    regressor_OLS.summary()\n",
    "    return x"
   ]
  },
  {
   "cell_type": "code",
   "execution_count": 106,
   "metadata": {},
   "outputs": [],
   "source": [
    "#takes a long time to run\n",
    "SL = 0.05\n",
    "X_opt = autos_features_prepared_m1_tr\n",
    "autos_opt = backwardElimination_p(autos_label_m1_tr, X_opt, SL)"
   ]
  },
  {
   "cell_type": "markdown",
   "metadata": {},
   "source": [
    "The OLS model does not is not include an intercept by default, thus it should be added."
   ]
  },
  {
   "cell_type": "code",
   "execution_count": 111,
   "metadata": {},
   "outputs": [],
   "source": [
    "autos_opt = np.append(arr = np.ones((X_opt.shape[0],1)).astype(int), values = autos_opt, axis=1)"
   ]
  },
  {
   "cell_type": "code",
   "execution_count": 112,
   "metadata": {},
   "outputs": [],
   "source": [
    "OLS_lin_reg = sm.OLS(autos_label_m1_tr, autos_opt).fit()"
   ]
  },
  {
   "cell_type": "code",
   "execution_count": 113,
   "metadata": {},
   "outputs": [
    {
     "name": "stdout",
     "output_type": "stream",
     "text": [
      "                            OLS Regression Results                            \n",
      "==============================================================================\n",
      "Dep. Variable:                      y   R-squared:                       0.765\n",
      "Model:                            OLS   Adj. R-squared:                  0.765\n",
      "Method:                 Least Squares   F-statistic:                     3244.\n",
      "Date:                Thu, 04 Jun 2020   Prob (F-statistic):               0.00\n",
      "Time:                        12:14:16   Log-Likelihood:            -2.3416e+06\n",
      "No. Observations:              246885   AIC:                         4.684e+06\n",
      "Df Residuals:                  246636   BIC:                         4.686e+06\n",
      "Df Model:                         248                                         \n",
      "Covariance Type:            nonrobust                                         \n",
      "==============================================================================\n",
      "                 coef    std err          t      P>|t|      [0.025      0.975]\n",
      "------------------------------------------------------------------------------\n",
      "const       2187.4800     47.287     46.259      0.000    2094.798    2280.162\n",
      "x1          2702.0451      9.490    284.725      0.000    2683.445    2720.645\n",
      "x2          2214.0440     11.618    190.576      0.000    2191.274    2236.814\n",
      "x3         -1657.5197      8.240   -201.152      0.000   -1673.670   -1641.369\n",
      "x4           128.2070     37.427      3.426      0.001      54.851     201.563\n",
      "x5          1765.7752     33.355     52.939      0.000    1700.400    1831.150\n",
      "x6           723.2667     35.132     20.587      0.000     654.409     792.125\n",
      "x7           207.0826     27.108      7.639      0.000     153.953     260.213\n",
      "x8          -286.9060     20.470    -14.016      0.000    -327.027    -246.785\n",
      "x9           972.5084     53.571     18.154      0.000     867.510    1077.507\n",
      "x10         1537.0230     25.933     59.268      0.000    1486.195    1587.852\n",
      "x11          650.4569     25.143     25.870      0.000     601.177     699.737\n",
      "x12         -554.8451    239.853     -2.313      0.021   -1024.950     -84.740\n",
      "x13         1812.8560    570.359      3.178      0.001     694.967    2930.745\n",
      "x14          549.0557    265.553      2.068      0.039      28.579    1069.532\n",
      "x15         1582.8010    113.085     13.997      0.000    1361.157    1804.445\n",
      "x16        -6910.8108    265.839    -25.996      0.000   -7431.848   -6389.774\n",
      "x17         2587.1834    364.699      7.094      0.000    1872.382    3301.985\n",
      "x18          801.3454     80.199      9.992      0.000     644.157     958.533\n",
      "x19        -7689.5259    260.644    -29.502      0.000   -8200.381   -7178.671\n",
      "x20         -750.0049    154.285     -4.861      0.000   -1052.399    -447.610\n",
      "x21         1138.6171    190.768      5.969      0.000     764.718    1512.517\n",
      "x22        -7824.4402    262.768    -29.777      0.000   -8339.459   -7309.421\n",
      "x23          541.2172    138.098      3.919      0.000     270.549     811.886\n",
      "x24        -3588.1360    364.748     -9.837      0.000   -4303.033   -2873.239\n",
      "x25        -9105.0575    284.794    -31.971      0.000   -9663.245   -8546.870\n",
      "x26         -354.3181    151.583     -2.337      0.019    -651.418     -57.219\n",
      "x27          632.9788    275.294      2.299      0.021      93.410    1172.547\n",
      "x28         3286.0913    450.479      7.295      0.000    2403.164    4169.019\n",
      "x29         1591.3735    669.362      2.377      0.017     279.441    2903.306\n",
      "x30         5842.3435    359.273     16.262      0.000    5138.179    6546.508\n",
      "x31         -941.1434    183.024     -5.142      0.000   -1299.865    -582.422\n",
      "x32        -1280.1503    225.530     -5.676      0.000   -1722.183    -838.117\n",
      "x33        -1674.2856    118.245    -14.159      0.000   -1906.042   -1442.529\n",
      "x34        -2029.8440    114.585    -17.715      0.000   -2254.427   -1805.260\n",
      "x35         3877.4692    158.323     24.491      0.000    3567.161    4187.778\n",
      "x36        -2638.3953    118.385    -22.287      0.000   -2870.427   -2406.363\n",
      "x37        -4278.8543    191.616    -22.330      0.000   -4654.416   -3903.293\n",
      "x38        -2926.4577    106.549    -27.466      0.000   -3135.291   -2717.625\n",
      "x39         -670.4422    189.486     -3.538      0.000   -1041.829    -299.055\n",
      "x40          617.7626    212.349      2.909      0.004     201.565    1033.960\n",
      "x41         -641.4142    176.232     -3.640      0.000    -986.824    -296.005\n",
      "x42        -1789.8920    214.969     -8.326      0.000   -2211.225   -1368.559\n",
      "x43         4371.7904    645.952      6.768      0.000    3105.742    5637.839\n",
      "x44          537.4286     40.257     13.350      0.000     458.526     616.331\n",
      "x45        -2226.1448    278.798     -7.985      0.000   -2772.581   -1679.708\n",
      "x46        -1658.6631    204.188     -8.123      0.000   -2058.866   -1258.460\n",
      "x47        -1446.2583    332.749     -4.346      0.000   -2098.438    -794.078\n",
      "x48        -4192.9102    224.254    -18.697      0.000   -4632.441   -3753.379\n",
      "x49        -1457.7596    153.500     -9.497      0.000   -1758.616   -1156.903\n",
      "x50        -1682.8180    162.964    -10.326      0.000   -2002.223   -1363.413\n",
      "x51        -2435.5885    162.417    -14.996      0.000   -2753.922   -2117.255\n",
      "x52        -5788.4343    352.904    -16.402      0.000   -6480.116   -5096.752\n",
      "x53        -2450.3926    206.615    -11.860      0.000   -2855.352   -2045.433\n",
      "x54         -972.4895    206.619     -4.707      0.000   -1377.457    -567.522\n",
      "x55        -1084.1513    185.575     -5.842      0.000   -1447.873    -720.430\n",
      "x56        -1158.6213    189.219     -6.123      0.000   -1529.486    -787.756\n",
      "x57        -1106.2497    187.752     -5.892      0.000   -1474.238    -738.261\n",
      "x58        -2449.4640     97.314    -25.171      0.000   -2640.196   -2258.732\n",
      "x59          300.0893    151.401      1.982      0.047       3.347     596.831\n",
      "x60        -1079.7426    267.216     -4.041      0.000   -1603.479    -556.006\n",
      "x61        -1350.6529    143.927     -9.384      0.000   -1632.747   -1068.559\n",
      "x62         1666.0306    262.088      6.357      0.000    1152.345    2179.717\n",
      "x63         1122.6474    308.686      3.637      0.000     517.630    1727.664\n",
      "x64          443.0071    210.466      2.105      0.035      30.499     855.515\n",
      "x65        -1533.7837    264.906     -5.790      0.000   -2052.993   -1014.574\n",
      "x66        -8047.5719    367.615    -21.891      0.000   -8768.087   -7327.057\n",
      "x67         2175.3794    287.009      7.579      0.000    1612.849    2737.910\n",
      "x68          912.5113    248.471      3.673      0.000     425.515    1399.508\n",
      "x69        -4002.3977    417.247     -9.592      0.000   -4820.192   -3184.604\n",
      "x70          762.2917    179.374      4.250      0.000     410.723    1113.860\n",
      "x71        -1932.8233    238.497     -8.104      0.000   -2400.270   -1465.376\n",
      "x72          818.4593     87.365      9.368      0.000     647.226     989.693\n",
      "x73        -4098.7358    125.896    -32.556      0.000   -4345.489   -3851.983\n",
      "x74        -3314.8623    518.270     -6.396      0.000   -4330.657   -2299.067\n",
      "x75         -604.9438    190.885     -3.169      0.002    -979.073    -230.815\n",
      "x76        -3373.3300    459.111     -7.348      0.000   -4273.175   -2473.485\n",
      "x77        -1135.2055    197.693     -5.742      0.000   -1522.679    -747.732\n",
      "x78          524.8984     53.623      9.789      0.000     419.800     629.997\n",
      "x79         1251.4948    246.798      5.071      0.000     767.778    1735.212\n",
      "x80        -1624.7747    643.075     -2.527      0.012   -2885.184    -364.365\n",
      "x81         2293.8509    504.162      4.550      0.000    1305.706    3281.996\n",
      "x82         -950.8459    362.700     -2.622      0.009   -1661.728    -239.963\n",
      "x83         5531.7228    341.108     16.217      0.000    4863.161    6200.285\n",
      "x84         1.092e+04    524.663     20.817      0.000    9893.323    1.19e+04\n",
      "x85         2297.6037    648.901      3.541      0.000    1025.775    3569.432\n",
      "x86         1299.7486    213.463      6.089      0.000     881.367    1718.130\n",
      "x87         1692.7738    335.965      5.039      0.000    1034.291    2351.256\n",
      "x88        -1958.1818     99.108    -19.758      0.000   -2152.431   -1763.932\n",
      "x89        -2393.6445    189.845    -12.608      0.000   -2765.735   -2021.554\n",
      "x90         1816.8124    147.191     12.343      0.000    1528.321    2105.303\n",
      "x91         -647.7023    170.620     -3.796      0.000    -982.112    -313.292\n",
      "x92         -374.5630    182.028     -2.058      0.040    -731.333     -17.793\n",
      "x93          563.7270     77.339      7.289      0.000     412.144     715.310\n",
      "x94          424.6044     72.591      5.849      0.000     282.329     566.880\n",
      "x95        -1199.9453    161.991     -7.407      0.000   -1517.443    -882.448\n",
      "x96        -4299.4398    176.447    -24.367      0.000   -4645.271   -3953.608\n",
      "x97        -3398.1501    456.809     -7.439      0.000   -4293.483   -2502.817\n",
      "x98          1.21e+04    356.477     33.951      0.000    1.14e+04    1.28e+04\n",
      "x99          814.2946    128.231      6.350      0.000     562.966    1065.623\n",
      "x100        7712.1673    514.411     14.992      0.000    6703.935    8720.400\n",
      "x101        6073.3383    264.672     22.947      0.000    5554.589    6592.088\n",
      "x102       -1287.7446    109.316    -11.780      0.000   -1502.001   -1073.489\n",
      "x103        1206.8271    184.141      6.554      0.000     845.916    1567.739\n",
      "x104       -3447.8691   1329.183     -2.594      0.009   -6053.032    -842.706\n",
      "x105       -1609.4230    124.194    -12.959      0.000   -1852.839   -1366.007\n",
      "x106        1209.2850    141.012      8.576      0.000     932.905    1485.665\n",
      "x107       -1065.7914    259.715     -4.104      0.000   -1574.826    -556.756\n",
      "x108       -1401.0351    243.671     -5.750      0.000   -1878.623    -923.447\n",
      "x109         885.3152    265.117      3.339      0.001     365.694    1404.937\n",
      "x110        -922.9215    371.119     -2.487      0.013   -1650.305    -195.538\n",
      "x111       -1234.6776    337.401     -3.659      0.000   -1895.974    -573.381\n",
      "x112        -291.4342     97.334     -2.994      0.003    -482.206    -100.663\n",
      "x113        2904.0727    307.583      9.442      0.000    2301.219    3506.926\n",
      "x114       -2926.3165   1143.667     -2.559      0.011   -5167.873    -684.759\n",
      "x115        1003.4223    137.849      7.279      0.000     733.242    1273.602\n",
      "x116        3850.0433    200.247     19.226      0.000    3457.565    4242.522\n",
      "x117        -246.7660    119.169     -2.071      0.038    -480.335     -13.197\n",
      "x118        1555.1431    274.635      5.663      0.000    1016.867    2093.420\n",
      "x119        1282.0116    439.878      2.914      0.004     419.863    2144.160\n",
      "x120       -1208.8970    143.008     -8.453      0.000   -1489.188    -928.606\n",
      "x121        1370.5953    658.318      2.082      0.037      80.308    2660.882\n",
      "x122         822.6277    289.751      2.839      0.005     254.723    1390.532\n",
      "x123       -1400.9724    132.802    -10.549      0.000   -1661.261   -1140.684\n",
      "x124       -2198.6407    610.543     -3.601      0.000   -3395.290   -1001.992\n",
      "x125       -1360.2482    151.354     -8.987      0.000   -1656.898   -1063.598\n",
      "x126        -799.7343    378.820     -2.111      0.035   -1542.212     -57.257\n",
      "x127        -659.5836    215.306     -3.063      0.002   -1081.578    -237.589\n",
      "x128       -1304.7356    123.205    -10.590      0.000   -1546.214   -1063.257\n",
      "x129       -4664.4126    405.577    -11.501      0.000   -5459.333   -3869.492\n",
      "x130        -767.4661    218.061     -3.520      0.000   -1194.859    -340.073\n",
      "x131       -1921.7986    780.356     -2.463      0.014   -3451.275    -392.322\n",
      "x132        3390.4541    311.572     10.882      0.000    2779.782    4001.126\n",
      "x133        1308.4392    149.724      8.739      0.000    1014.985    1601.893\n",
      "x134        2944.2240    352.541      8.351      0.000    2253.253    3635.195\n",
      "x135       -1845.1204    334.985     -5.508      0.000   -2501.682   -1188.559\n",
      "x136        1200.3370    181.684      6.607      0.000     844.242    1556.432\n",
      "x137       -1326.1360    108.820    -12.187      0.000   -1539.420   -1112.852\n",
      "x138       -4002.5744    468.221     -8.548      0.000   -4920.275   -3084.874\n",
      "x139        1663.7942    349.995      4.754      0.000     977.814    2349.774\n",
      "x140        1773.6898    275.625      6.435      0.000    1233.472    2313.908\n",
      "x141       -1292.5186    173.822     -7.436      0.000   -1633.205    -951.833\n",
      "x142       -2135.0719    113.551    -18.803      0.000   -2357.629   -1912.515\n",
      "x143       -3686.7461    271.319    -13.588      0.000   -4218.525   -3154.968\n",
      "x144       -1395.8177    114.173    -12.225      0.000   -1619.594   -1172.041\n",
      "x145        -667.7300    170.437     -3.918      0.000   -1001.781    -333.679\n",
      "x146        1182.8665    282.144      4.192      0.000     629.872    1735.861\n",
      "x147         937.0433    109.288      8.574      0.000     722.841    1151.245\n",
      "x148        8565.9488    262.902     32.582      0.000    8050.668    9081.230\n",
      "x149        8600.1040    207.044     41.538      0.000    8194.303    9005.905\n",
      "x150        3294.4798    231.668     14.221      0.000    2840.417    3748.543\n",
      "x151        2053.9223    173.595     11.832      0.000    1713.681    2394.163\n",
      "x152        2878.4689    354.141      8.128      0.000    2184.362    3572.576\n",
      "x153       -2170.9844    563.026     -3.856      0.000   -3274.501   -1067.468\n",
      "x154        1.235e+04    586.604     21.054      0.000    1.12e+04    1.35e+04\n",
      "x155        3359.0128    544.475      6.169      0.000    2291.855    4426.170\n",
      "x156        3168.0332    468.245      6.766      0.000    2250.286    4085.781\n",
      "x157        -825.3728    238.712     -3.458      0.001   -1293.241    -357.505\n",
      "x158       -2878.3442    349.479     -8.236      0.000   -3563.315   -2193.374\n",
      "x159       -1032.3234    303.171     -3.405      0.001   -1626.531    -438.115\n",
      "x160       -2506.2931    159.930    -15.671      0.000   -2819.752   -2192.834\n",
      "x161        2195.5452    180.263     12.180      0.000    1842.234    2548.857\n",
      "x162       -7113.4766    413.251    -17.213      0.000   -7923.437   -6303.516\n",
      "x163        5562.5135   1218.000      4.567      0.000    3175.266    7949.761\n",
      "x164         687.9404    218.753      3.145      0.002     259.190    1116.691\n",
      "x165        -917.4116    188.505     -4.867      0.000   -1286.877    -547.946\n",
      "x166        1354.9840    188.534      7.187      0.000     985.462    1724.506\n",
      "x167       -1661.9699    146.826    -11.319      0.000   -1949.745   -1374.195\n",
      "x168       -2288.5648    171.923    -13.312      0.000   -2625.529   -1951.601\n",
      "x169       -1545.8178    426.606     -3.624      0.000   -2381.955    -709.681\n",
      "x170        4704.7583    197.731     23.794      0.000    4317.210    5092.306\n",
      "x171       -1753.2307    135.557    -12.933      0.000   -2018.920   -1487.542\n",
      "x172        1265.4558    231.126      5.475      0.000     812.456    1718.456\n",
      "x173       -3146.2974    340.123     -9.250      0.000   -3812.930   -2479.664\n",
      "x174        2737.6066    325.139      8.420      0.000    2100.343    3374.870\n",
      "x175        4109.2747    240.879     17.060      0.000    3637.159    4581.390\n",
      "x176       -1421.6064    167.783     -8.473      0.000   -1750.456   -1092.757\n",
      "x177        -671.2497    174.862     -3.839      0.000   -1013.975    -328.524\n",
      "x178        1999.0087    242.178      8.254      0.000    1524.346    2473.671\n",
      "x179       -1352.2234    538.436     -2.511      0.012   -2407.543    -296.904\n",
      "x180       -1287.5452    140.602     -9.157      0.000   -1563.121   -1011.970\n",
      "x181        2003.9473    160.067     12.519      0.000    1690.220    2317.675\n",
      "x182       -1326.0689    230.821     -5.745      0.000   -1778.471    -873.667\n",
      "x183       -1853.4304    126.619    -14.638      0.000   -2101.600   -1605.260\n",
      "x184         945.3271    154.441      6.121      0.000     642.627    1248.028\n",
      "x185        3679.2032    122.152     30.120      0.000    3439.789    3918.618\n",
      "x186        -399.9629    146.743     -2.726      0.006    -687.575    -112.351\n",
      "x187        1175.5400     82.152     14.309      0.000    1014.524    1336.556\n",
      "x188       -5396.7094    223.576    -24.138      0.000   -5834.912   -4958.507\n",
      "x189        -666.5616    160.475     -4.154      0.000    -981.087    -352.036\n",
      "x190       -1172.5230    238.275     -4.921      0.000   -1639.537    -705.509\n",
      "x191        3488.3066    587.319      5.939      0.000    2337.177    4639.436\n",
      "x192        -845.5094    166.891     -5.066      0.000   -1172.612    -518.407\n",
      "x193       -1208.2577    319.792     -3.778      0.000   -1835.042    -581.473\n",
      "x194        -506.1551     68.924     -7.344      0.000    -641.244    -371.066\n",
      "x195       -1835.5683    246.986     -7.432      0.000   -2319.655   -1351.482\n",
      "x196        4566.6790    205.831     22.187      0.000    4163.255    4970.103\n",
      "x197       -2072.5864    158.359    -13.088      0.000   -2382.966   -1762.206\n",
      "x198        1266.6933    202.315      6.261      0.000     870.162    1663.225\n",
      "x199        1769.7959    281.884      6.278      0.000    1217.311    2322.281\n",
      "x200        8797.6640    335.412     26.229      0.000    8140.264    9455.064\n",
      "x201       -3615.7718    271.985    -13.294      0.000   -4148.854   -3082.689\n",
      "x202       -4396.7597    382.631    -11.491      0.000   -5146.706   -3646.814\n",
      "x203        2469.8442    215.185     11.478      0.000    2048.086    2891.602\n",
      "x204       -2131.6064    178.132    -11.966      0.000   -2480.741   -1782.472\n",
      "x205        2071.1210    304.970      6.791      0.000    1473.388    2668.855\n",
      "x206       -4472.3724    287.365    -15.563      0.000   -5035.599   -3909.146\n",
      "x207        -918.6295     82.245    -11.169      0.000   -1079.827    -757.432\n",
      "x208         716.5628     50.778     14.112      0.000     617.038     816.087\n",
      "x209         694.9513    164.427      4.227      0.000     372.679    1017.224\n",
      "x210        1608.9794     51.662     31.144      0.000    1507.724    1710.235\n",
      "x211        1522.6827    535.208      2.845      0.004     473.689    2571.677\n",
      "x212        2603.6960    245.260     10.616      0.000    2122.994    3084.399\n",
      "x213       -2707.8132    118.817    -22.790      0.000   -2940.692   -2474.934\n",
      "x214        2753.5797    126.689     21.735      0.000    2505.273    3001.886\n",
      "x215        8147.5517    267.540     30.454      0.000    7623.181    8671.923\n",
      "x216       -2535.7210    144.907    -17.499      0.000   -2819.734   -2251.708\n",
      "x217       -3772.2528    194.075    -19.437      0.000   -4152.634   -3391.871\n",
      "x218       -1245.5449    109.196    -11.406      0.000   -1459.567   -1031.523\n",
      "x219       -3944.5871    221.773    -17.787      0.000   -4379.256   -3509.918\n",
      "x220       -1838.6029    217.120     -8.468      0.000   -2264.152   -1413.054\n",
      "x221        -610.2821    293.487     -2.079      0.038   -1185.508     -35.056\n",
      "x222       -1782.1524    112.134    -15.893      0.000   -2001.933   -1562.372\n",
      "x223       -1584.4810     94.710    -16.730      0.000   -1770.110   -1398.852\n",
      "x224        -786.7290    164.279     -4.789      0.000   -1108.711    -464.747\n",
      "x225       -2502.6895    102.972    -24.305      0.000   -2704.511   -2300.868\n",
      "x226        2682.8347    257.438     10.421      0.000    2178.263    3187.407\n",
      "x227        -989.4732    201.404     -4.913      0.000   -1384.220    -594.727\n",
      "x228       -2851.9722    132.386    -21.543      0.000   -3111.446   -2592.498\n",
      "x229       -4118.0255    324.603    -12.686      0.000   -4754.239   -3481.812\n",
      "x230        -772.0221    226.581     -3.407      0.001   -1216.115    -327.929\n",
      "x231        3597.0038    391.352      9.191      0.000    2829.964    4364.043\n",
      "x232       -1736.3132    116.001    -14.968      0.000   -1963.672   -1508.955\n",
      "x233        2681.2891    110.466     24.273      0.000    2464.779    2897.799\n",
      "x234        4160.3692    457.366      9.096      0.000    3263.944    5056.795\n",
      "x235       -1628.4222    115.697    -14.075      0.000   -1855.185   -1401.660\n",
      "x236        -573.9454    108.970     -5.267      0.000    -787.524    -360.367\n",
      "x237        -691.4410     87.747     -7.880      0.000    -863.423    -519.459\n",
      "x238       -2078.1013     91.092    -22.813      0.000   -2256.639   -1899.563\n",
      "x239        1.247e+04    304.356     40.985      0.000    1.19e+04    1.31e+04\n",
      "x240       -1746.4585     96.549    -18.089      0.000   -1935.693   -1557.224\n",
      "x241       -1401.9696    199.711     -7.020      0.000   -1793.397   -1010.542\n",
      "x242       -2646.7674    207.763    -12.739      0.000   -3053.978   -2239.557\n",
      "x243         534.8058    130.965      4.084      0.000     278.119     791.493\n",
      "x244        -929.0140    180.288     -5.153      0.000   -1282.373    -575.655\n",
      "x245       -1637.4675    171.548     -9.545      0.000   -1973.696   -1301.239\n",
      "x246       -1599.9502    117.203    -13.651      0.000   -1829.665   -1370.235\n",
      "x247         779.8030    150.097      5.195      0.000     485.617    1073.989\n",
      "x248        2086.5117    129.022     16.172      0.000    1833.631    2339.392\n",
      "x249         555.5921     26.690     20.816      0.000     503.280     607.904\n",
      "x250        1631.8878     25.036     65.182      0.000    1582.818    1680.958\n",
      "==============================================================================\n",
      "Omnibus:                    78519.199   Durbin-Watson:                   2.004\n",
      "Prob(Omnibus):                  0.000   Jarque-Bera (JB):           939267.424\n",
      "Skew:                           1.189   Prob(JB):                         0.00\n",
      "Kurtosis:                      12.255   Cond. No.                     5.54e+15\n",
      "==============================================================================\n",
      "\n",
      "Warnings:\n",
      "[1] Standard Errors assume that the covariance matrix of the errors is correctly specified.\n",
      "[2] The smallest eigenvalue is 2.67e-26. This might indicate that there are\n",
      "strong multicollinearity problems or that the design matrix is singular.\n"
     ]
    }
   ],
   "source": [
    "print(OLS_lin_reg.summary())"
   ]
  },
  {
   "cell_type": "code",
   "execution_count": 114,
   "metadata": {},
   "outputs": [
    {
     "data": {
      "text/plain": [
       "3183.32"
      ]
     },
     "execution_count": 114,
     "metadata": {},
     "output_type": "execute_result"
    }
   ],
   "source": [
    "OLS_pred = OLS_lin_reg.predict(autos_opt)\n",
    "OLS_lin_mse = mean_squared_error(autos_label_m1_tr, OLS_pred)\n",
    "OLS_lin_rmse = np.sqrt(OLS_lin_mse)\n",
    "OLS_lin_rmse.round(2)"
   ]
  },
  {
   "cell_type": "markdown",
   "metadata": {},
   "source": [
    "We cannot use __cross_val_score__ directly on statsmodels objects, because of different interface. In statsmodels the training data is passed directly into the constructor and a separate object contains the result of model estimation. However, we can write a universal wrapper to make statsmodels objects look like sklearn estimators."
   ]
  },
  {
   "cell_type": "code",
   "execution_count": 115,
   "metadata": {},
   "outputs": [],
   "source": [
    "class SMWrapper(BaseEstimator, RegressorMixin):\n",
    "    \"\"\" A universal sklearn-style wrapper for statsmodels regressors \"\"\"\n",
    "    def __init__(self, model_class, fit_intercept=True):\n",
    "        self.model_class = model_class\n",
    "        self.fit_intercept = fit_intercept\n",
    "    def fit(self, X, y):\n",
    "        if self.fit_intercept:\n",
    "            X = sm.add_constant(X)\n",
    "        self.model_ = self.model_class(y, X)\n",
    "        self.results_ = self.model_.fit()\n",
    "    def predict(self, X):\n",
    "        if self.fit_intercept:\n",
    "            X = sm.add_constant(X)\n",
    "        return self.results_.predict(X)"
   ]
  },
  {
   "cell_type": "code",
   "execution_count": 116,
   "metadata": {},
   "outputs": [
    {
     "name": "stdout",
     "output_type": "stream",
     "text": [
      "Scores:  [3145.98 3128.12 3205.19 3226.26 3197.62 3173.24 3191.58 3165.97 3224.97\n",
      " 3216.91]\n",
      "Mean:3187.58\n",
      "Standard deviation:31.81\n"
     ]
    }
   ],
   "source": [
    "OLS_lin_reg_scores = cross_val_score(SMWrapper(sm.OLS), autos_opt, autos_label_m1_tr, \n",
    "                                 scoring=\"neg_mean_squared_error\", cv=10)\n",
    "OLS_lin_reg_rmse_scores = np.sqrt(-OLS_lin_reg_scores)\n",
    "display_scores(OLS_lin_reg_rmse_scores)"
   ]
  },
  {
   "cell_type": "markdown",
   "metadata": {},
   "source": [
    "### Decision Tree\n",
    "\n",
    "The CART algorithm works similar to a Decision Tree Classifiers, however, instead of trying to split the training set in a way that minimizes the impurity, it tries to split the training set in a way that minimizes the MSE __(Géron, 2019)__."
   ]
  },
  {
   "cell_type": "code",
   "execution_count": 117,
   "metadata": {},
   "outputs": [
    {
     "data": {
      "text/plain": [
       "DecisionTreeRegressor(ccp_alpha=0.0, criterion='mse', max_depth=None,\n",
       "                      max_features=None, max_leaf_nodes=None,\n",
       "                      min_impurity_decrease=0.0, min_impurity_split=None,\n",
       "                      min_samples_leaf=1, min_samples_split=2,\n",
       "                      min_weight_fraction_leaf=0.0, presort='deprecated',\n",
       "                      random_state=24, splitter='best')"
      ]
     },
     "execution_count": 117,
     "metadata": {},
     "output_type": "execute_result"
    }
   ],
   "source": [
    "tree = DecisionTreeRegressor(random_state=24)\n",
    "tree.fit(autos_features_prepared_m1_tr, autos_label_m1_tr)"
   ]
  },
  {
   "cell_type": "code",
   "execution_count": 118,
   "metadata": {},
   "outputs": [
    {
     "name": "stdout",
     "output_type": "stream",
     "text": [
      "1018.9897\n"
     ]
    }
   ],
   "source": [
    "predictions = tree.predict(autos_features_prepared_m1_tr)\n",
    "tree_mse = mean_squared_error(autos_label_m1_tr, predictions)\n",
    "tree_rmse = np.sqrt(tree_mse)\n",
    "print('%5.4f'%tree_rmse)"
   ]
  },
  {
   "cell_type": "markdown",
   "metadata": {},
   "source": [
    "Wow, such low error! Are we done? No, it is much more likely that the model has badly overfit the data. Since we are still not confident about our model, we should not use the test set yet, so we use part of the training set for training and part of it for model validation, the so called cross-validation  __(Géron, 2019)__."
   ]
  },
  {
   "cell_type": "code",
   "execution_count": 119,
   "metadata": {},
   "outputs": [],
   "source": [
    "scores = cross_val_score(tree, autos_features_prepared_m1_tr, autos_label_m1_tr,\n",
    "                         scoring=\"neg_mean_squared_error\", cv=10)\n",
    "tree_rmse_scores = np.sqrt(-scores)"
   ]
  },
  {
   "cell_type": "code",
   "execution_count": 120,
   "metadata": {},
   "outputs": [
    {
     "name": "stdout",
     "output_type": "stream",
     "text": [
      "Scores:  [2221.66 2269.52 2304.92 2397.98 2294.12 2344.61 2293.9  2250.82 2330.97\n",
      " 2332.66]\n",
      "Mean:2304.12\n",
      "Standard deviation:47.99\n"
     ]
    }
   ],
   "source": [
    "display_scores(tree_rmse_scores)"
   ]
  },
  {
   "cell_type": "markdown",
   "metadata": {},
   "source": [
    "With the Decision Tree results, we can notice an interesting (and very typical) behaviour. The in-sample error (i.e. the error on the trainings data) is very low, while cross-validation shows significantly larger error. The reason is that the cross-validation score is computed with out-of-sample data (i.e. the error is computed on data points, which were not used within the traning). This is a typical behaviour of *overfitting*, where the decision tree simply *memorises* the data it is trained with, not yielding a better prediction  __(Géron, 2019)__."
   ]
  },
  {
   "cell_type": "markdown",
   "metadata": {},
   "source": [
    "### Random Forest\n",
    "\n",
    "If we aggregate predictions of a group of predictors (such as classifiers or regressors), we will often get a better prediction than with the best individual predictor. A group of predictors is called *ensemble*, thus, the so called *Ensemble Learning* __(Géron, 2019)__.\n",
    "\n",
    "As an example of an Ensemble method, we can train a group of Decision Tree classifiers/regressors, each on a different random subset of the training set. To obtain predictions, we obtain the predictions of all the individual trees, then predict the class/regressor that gets the best results. Such an ensemble of Decision Trees is called a Random Forest __(Géron, 2019)__.\n",
    "\n",
    "The most popular Ensemble methods are: *bagging, boosting, and stacking*. Here we use the same training algorithm (Random Forest in this case) for every predictor and train them on different subsets of the training set. When sampling is performed with replacement, this method is called bagging (or *bootstrap*). When sampling is performed without replacement, it is called pasting __(Géron, 2019)__.\n",
    "\n",
    "In sum, a Random Forest is an ensemble of Decision Trees, generally trained via the bagging method. We will use in this model a RandomForestRegressor for our regression task. This is a regression task because the target value is continuous (price) __(Géron, 2019)__."
   ]
  },
  {
   "cell_type": "code",
   "execution_count": 121,
   "metadata": {},
   "outputs": [
    {
     "data": {
      "text/plain": [
       "RandomForestRegressor(bootstrap=True, ccp_alpha=0.0, criterion='mse',\n",
       "                      max_depth=None, max_features='auto', max_leaf_nodes=None,\n",
       "                      max_samples=None, min_impurity_decrease=0.0,\n",
       "                      min_impurity_split=None, min_samples_leaf=1,\n",
       "                      min_samples_split=2, min_weight_fraction_leaf=0.0,\n",
       "                      n_estimators=10, n_jobs=None, oob_score=False,\n",
       "                      random_state=24, verbose=0, warm_start=False)"
      ]
     },
     "execution_count": 121,
     "metadata": {},
     "output_type": "execute_result"
    }
   ],
   "source": [
    "forest = RandomForestRegressor(random_state=24, n_estimators=10) #n_estimators = number of trees\n",
    "forest.fit(autos_features_prepared_m1_tr, autos_label_m1_tr)"
   ]
  },
  {
   "cell_type": "code",
   "execution_count": 122,
   "metadata": {},
   "outputs": [
    {
     "name": "stdout",
     "output_type": "stream",
     "text": [
      "rmse =  1220.6659\n",
      "Predictions:  [ 5266.16666667  4506.66666667  9058.81666667 17977.6\n",
      "   769.1       ]\n",
      "Labels:  [5349, 5000, 8750, 21600, 449]\n"
     ]
    }
   ],
   "source": [
    "predictions = forest.predict(autos_features_prepared_m1_tr)\n",
    "forest_mse = mean_squared_error(autos_label_m1_tr, predictions)\n",
    "forest_rmse = np.sqrt(forest_mse)\n",
    "print(\"rmse = \", '%5.4f'%forest_rmse)\n",
    "\n",
    "some_data = autos_features_m1_tr.iloc[:5]\n",
    "some_labels = autos_label_m1_tr[:5]\n",
    "some_data_prepared = full_pipeline.transform(some_data)\n",
    "print(\"Predictions: \", forest.predict(some_data_prepared))\n",
    "print(\"Labels: \", list(some_labels))"
   ]
  },
  {
   "cell_type": "code",
   "execution_count": 123,
   "metadata": {},
   "outputs": [
    {
     "name": "stdout",
     "output_type": "stream",
     "text": [
      "Scores:  [1980.63 1955.89 2057.51 2081.94 2019.91 2053.93 2048.87 1933.91 2021.24\n",
      " 2021.72]\n",
      "Mean:2017.55\n",
      "Standard deviation:44.99\n"
     ]
    }
   ],
   "source": [
    "forest_scores = cross_val_score(forest, autos_features_prepared_m1_tr, autos_label_m1_tr,\n",
    "                                scoring=\"neg_mean_squared_error\", cv=10)\n",
    "forest_rmse_scores = np.sqrt(-forest_scores)\n",
    "display_scores(forest_rmse_scores)"
   ]
  },
  {
   "cell_type": "markdown",
   "metadata": {},
   "source": [
    "### Support Vector Machine"
   ]
  },
  {
   "cell_type": "markdown",
   "metadata": {},
   "source": [
    "SVM support both classification and regression tasks, hence we will also try out our model using SVM Regression. In this case, the SVM tries to fit as many instances as possible on the \"street\", while limiting margin violations (i.e., instances off the street). The width of the street is controlled by the hyperparameter __epsilon__ __(Géron, 2019)__."
   ]
  },
  {
   "cell_type": "code",
   "execution_count": 124,
   "metadata": {
    "scrolled": true
   },
   "outputs": [
    {
     "data": {
      "text/plain": [
       "LinearSVR(C=1.0, dual=True, epsilon=10, fit_intercept=True,\n",
       "          intercept_scaling=1.0, loss='epsilon_insensitive', max_iter=1000,\n",
       "          random_state=24, tol=0.0001, verbose=0)"
      ]
     },
     "execution_count": 124,
     "metadata": {},
     "output_type": "execute_result"
    }
   ],
   "source": [
    "svm_reg = LinearSVR(random_state=24, max_iter=1000, epsilon=10)\n",
    "svm_reg.fit(autos_features_prepared_m1_tr, autos_label_m1_tr)"
   ]
  },
  {
   "cell_type": "code",
   "execution_count": 125,
   "metadata": {},
   "outputs": [
    {
     "name": "stdout",
     "output_type": "stream",
     "text": [
      "3715.9500\n"
     ]
    }
   ],
   "source": [
    "predictions = svm_reg.predict(autos_features_prepared_m1_tr)\n",
    "svm_reg_mse = mean_squared_error(autos_label_m1_tr, predictions)\n",
    "svm_reg_rmse = np.sqrt(svm_reg_mse)\n",
    "print('%5.4f'%svm_reg_rmse)"
   ]
  },
  {
   "cell_type": "code",
   "execution_count": 126,
   "metadata": {},
   "outputs": [
    {
     "name": "stdout",
     "output_type": "stream",
     "text": [
      "Scores:  [3696.19 3647.98 3760.16 3761.13 3714.21 3689.68 3718.77 3741.3  3779.73\n",
      " 3772.06]\n",
      "Mean:3728.12\n",
      "Standard deviation:40.11\n"
     ]
    }
   ],
   "source": [
    "svm_reg_scores = cross_val_score(svm_reg, autos_features_prepared_m1_tr, autos_label_m1_tr, \n",
    "                                 scoring=\"neg_mean_squared_error\", cv=10)\n",
    "svm_reg_rmse_scores = np.sqrt(-svm_reg_scores)\n",
    "display_scores(svm_reg_rmse_scores)"
   ]
  },
  {
   "cell_type": "markdown",
   "metadata": {},
   "source": [
    "### Regression Deep Neural Network (MLP)"
   ]
  },
  {
   "cell_type": "code",
   "execution_count": 127,
   "metadata": {},
   "outputs": [],
   "source": [
    "X_train, X_valid, y_train, y_valid = train_test_split(autos_features_prepared_m1_tr, autos_label_m1_tr,\n",
    "                                                     test_size = 0.2, random_state=24)"
   ]
  },
  {
   "cell_type": "code",
   "execution_count": 128,
   "metadata": {},
   "outputs": [
    {
     "name": "stdout",
     "output_type": "stream",
     "text": [
      "(197508, 309)\n",
      "(49377, 309)\n",
      "(197508,)\n",
      "(49377,)\n"
     ]
    }
   ],
   "source": [
    "print(X_train.shape)\n",
    "print(X_valid.shape)\n",
    "print(y_train.shape)\n",
    "print(y_valid.shape)"
   ]
  },
  {
   "cell_type": "markdown",
   "metadata": {},
   "source": [
    "Creating the deep neural network using a __Sequential API__. Since the dataset is somewhat noisy, only two dense hiden layers are added; the first one with 30 neurons and the second one with 5 neurons. The output layer has a single neuron, since the goal is to predict only one variable."
   ]
  },
  {
   "cell_type": "code",
   "execution_count": 129,
   "metadata": {},
   "outputs": [],
   "source": [
    "dnn = keras.models.Sequential([\n",
    "    keras.layers.Dense(30, activation=\"relu\", input_shape=X_train.shape[1:]),\n",
    "    keras.layers.Dense(5, activation=\"relu\"),\n",
    "    keras.layers.Dense(1)\n",
    "])"
   ]
  },
  {
   "cell_type": "markdown",
   "metadata": {},
   "source": [
    "After a model is created, it must be compiled. The loss function selected for this regression DNN is the __mean squared error__ and the optimizer used is __Adam__. Adam was selected over SGD to avoid issues such as exploding gradients, to speed up training, and to reach better solution. Adam keeps track of an exponentially decaying average of past gradients and past squared gradients. The momentum decay hyperparameter beta_1 is usually initialized to 0.9, while the scaling decay hyperparameter beta_2 is often initialized to 0.999)  __(Géron, 2019)__."
   ]
  },
  {
   "cell_type": "code",
   "execution_count": 130,
   "metadata": {},
   "outputs": [],
   "source": [
    "#dnn_opt = keras.optimizers.SGD(clipvalue=1.0, lr=0.001)\n",
    "dnn_opt = keras.optimizers.Adam(lr=0.001, beta_1=0.9, beta_2=0.999)\n",
    "dnn.compile(loss=\"mean_squared_error\", \n",
    "            optimizer=dnn_opt)"
   ]
  },
  {
   "cell_type": "code",
   "execution_count": 131,
   "metadata": {},
   "outputs": [
    {
     "name": "stdout",
     "output_type": "stream",
     "text": [
      "Model: \"sequential\"\n",
      "_________________________________________________________________\n",
      "Layer (type)                 Output Shape              Param #   \n",
      "=================================================================\n",
      "dense (Dense)                (None, 30)                9300      \n",
      "_________________________________________________________________\n",
      "dense_1 (Dense)              (None, 5)                 155       \n",
      "_________________________________________________________________\n",
      "dense_2 (Dense)              (None, 1)                 6         \n",
      "=================================================================\n",
      "Total params: 9,461\n",
      "Trainable params: 9,461\n",
      "Non-trainable params: 0\n",
      "_________________________________________________________________\n"
     ]
    }
   ],
   "source": [
    "dnn.summary()"
   ]
  },
  {
   "cell_type": "markdown",
   "metadata": {},
   "source": [
    "__Callbacks__ arguments such as Model Checkpoint will save the model with the best performance. This way, there is no need to worry about training for too long and overfitting the training set as the last model saved after training will be restored and this will always be the best model on the validation set. Additionally, as EarlyStopping callback will interrupt training when it measures no progress on the validation set for a number of epochs (*patience argument*), and it will automatically roll back to the best model  __(Géron, 2019)__."
   ]
  },
  {
   "cell_type": "code",
   "execution_count": 132,
   "metadata": {},
   "outputs": [
    {
     "name": "stdout",
     "output_type": "stream",
     "text": [
      "Train on 197508 samples, validate on 49377 samples\n",
      "Epoch 1/40\n",
      "197376/197508 [============================>.] - ETA: 0s - loss: 21871067.4682WARNING:tensorflow:From C:\\Users\\igorm\\Anaconda3\\lib\\site-packages\\tensorflow_core\\python\\ops\\resource_variable_ops.py:1786: calling BaseResourceVariable.__init__ (from tensorflow.python.ops.resource_variable_ops) with constraint is deprecated and will be removed in a future version.\n",
      "Instructions for updating:\n",
      "If using Keras pass *_constraint arguments to layers.\n",
      "INFO:tensorflow:Assets written to: dnn_m1\\assets\n",
      "197508/197508 [==============================] - 20s 102us/sample - loss: 21861673.8832 - val_loss: 8622627.3142\n",
      "Epoch 2/40\n",
      "197312/197508 [============================>.] - ETA: 0s - loss: 7839691.3355INFO:tensorflow:Assets written to: dnn_m1\\assets\n",
      "197508/197508 [==============================] - 19s 98us/sample - loss: 7838892.1250 - val_loss: 6881513.6163\n",
      "Epoch 3/40\n",
      "197408/197508 [============================>.] - ETA: 0s - loss: 6446900.0721INFO:tensorflow:Assets written to: dnn_m1\\assets\n",
      "197508/197508 [==============================] - 20s 100us/sample - loss: 6449058.4232 - val_loss: 6071974.4633\n",
      "Epoch 4/40\n",
      "197504/197508 [============================>.] - ETA: 0s - loss: 6023070.8891INFO:tensorflow:Assets written to: dnn_m1\\assets\n",
      "197508/197508 [==============================] - 20s 99us/sample - loss: 6023005.1099 - val_loss: 5821492.4437\n",
      "Epoch 5/40\n",
      "197216/197508 [============================>.] - ETA: 0s - loss: 5816951.3390INFO:tensorflow:Assets written to: dnn_m1\\assets\n",
      "197508/197508 [==============================] - 20s 103us/sample - loss: 5814364.2069 - val_loss: 5668963.4920\n",
      "Epoch 6/40\n",
      "197280/197508 [============================>.] - ETA: 0s - loss: 5680485.0129INFO:tensorflow:Assets written to: dnn_m1\\assets\n",
      "197508/197508 [==============================] - 20s 101us/sample - loss: 5681828.2828 - val_loss: 5570106.5904\n",
      "Epoch 7/40\n",
      "197376/197508 [============================>.] - ETA: 0s - loss: 5591029.2441INFO:tensorflow:Assets written to: dnn_m1\\assets\n",
      "197508/197508 [==============================] - 19s 95us/sample - loss: 5589067.8744 - val_loss: 5515695.9685\n",
      "Epoch 8/40\n",
      "196864/197508 [============================>.] - ETA: 0s - loss: 5520286.0084INFO:tensorflow:Assets written to: dnn_m1\\assets\n",
      "197508/197508 [==============================] - 20s 99us/sample - loss: 5519307.6931 - val_loss: 5461878.3791\n",
      "Epoch 9/40\n",
      "196992/197508 [============================>.] - ETA: 0s - loss: 5467635.8259INFO:tensorflow:Assets written to: dnn_m1\\assets\n",
      "197508/197508 [==============================] - 20s 101us/sample - loss: 5469096.4858 - val_loss: 5404704.0375\n",
      "Epoch 10/40\n",
      "196928/197508 [============================>.] - ETA: 0s - loss: 5426578.4169INFO:tensorflow:Assets written to: dnn_m1\\assets\n",
      "197508/197508 [==============================] - 19s 96us/sample - loss: 5423726.5738 - val_loss: 5372191.3077\n",
      "Epoch 11/40\n",
      "196960/197508 [============================>.] - ETA: 0s - loss: 5387563.2922INFO:tensorflow:Assets written to: dnn_m1\\assets\n",
      "197508/197508 [==============================] - 18s 94us/sample - loss: 5385294.2243 - val_loss: 5331601.1201\n",
      "Epoch 12/40\n",
      "197472/197508 [============================>.] - ETA: 0s - loss: 5352807.2956INFO:tensorflow:Assets written to: dnn_m1\\assets\n",
      "197508/197508 [==============================] - 18s 93us/sample - loss: 5352564.9165 - val_loss: 5298512.1672\n",
      "Epoch 13/40\n",
      "197472/197508 [============================>.] - ETA: 0s - loss: 5321436.2854INFO:tensorflow:Assets written to: dnn_m1\\assets\n",
      "197508/197508 [==============================] - 20s 99us/sample - loss: 5321296.6463 - val_loss: 5280703.0533\n",
      "Epoch 14/40\n",
      "196928/197508 [============================>.] - ETA: 0s - loss: 5290681.5160INFO:tensorflow:Assets written to: dnn_m1\\assets\n",
      "197508/197508 [==============================] - 19s 95us/sample - loss: 5291188.4756 - val_loss: 5252314.5723\n",
      "Epoch 15/40\n",
      "197280/197508 [============================>.] - ETA: 0s - loss: 5270557.1517INFO:tensorflow:Assets written to: dnn_m1\\assets\n",
      "197508/197508 [==============================] - 19s 97us/sample - loss: 5268271.7244 - val_loss: 5216628.6103\n",
      "Epoch 16/40\n",
      "197216/197508 [============================>.] - ETA: 0s - loss: 5244325.1986INFO:tensorflow:Assets written to: dnn_m1\\assets\n",
      "197508/197508 [==============================] - 19s 96us/sample - loss: 5243776.4338 - val_loss: 5198743.7889\n",
      "Epoch 17/40\n",
      "197120/197508 [============================>.] - ETA: 0s - loss: 5224313.8599INFO:tensorflow:Assets written to: dnn_m1\\assets\n",
      "197508/197508 [==============================] - 18s 92us/sample - loss: 5223153.5307 - val_loss: 5192474.2285\n",
      "Epoch 18/40\n",
      "197280/197508 [============================>.] - ETA: 0s - loss: 5200031.5648INFO:tensorflow:Assets written to: dnn_m1\\assets\n",
      "197508/197508 [==============================] - 18s 92us/sample - loss: 5203127.1192 - val_loss: 5154234.6014\n",
      "Epoch 19/40\n",
      "197056/197508 [============================>.] - ETA: 0s - loss: 5182531.1690INFO:tensorflow:Assets written to: dnn_m1\\assets\n",
      "197508/197508 [==============================] - 19s 95us/sample - loss: 5185825.0323 - val_loss: 5138563.2064\n",
      "Epoch 20/40\n",
      "197344/197508 [============================>.] - ETA: 0s - loss: 5168364.7535INFO:tensorflow:Assets written to: dnn_m1\\assets\n",
      "197508/197508 [==============================] - 18s 93us/sample - loss: 5167303.4299 - val_loss: 5124124.9750\n",
      "Epoch 21/40\n",
      "197216/197508 [============================>.] - ETA: 0s - loss: 5155247.5632INFO:tensorflow:Assets written to: dnn_m1\\assets\n",
      "197508/197508 [==============================] - 18s 90us/sample - loss: 5153595.4300 - val_loss: 5101465.8620\n",
      "Epoch 22/40\n",
      "197508/197508 [==============================] - 17s 87us/sample - loss: 5136963.5442 - val_loss: 5139395.8813\n",
      "Epoch 23/40\n",
      "197120/197508 [============================>.] - ETA: 0s - loss: 5124873.9748INFO:tensorflow:Assets written to: dnn_m1\\assets\n",
      "197508/197508 [==============================] - 17s 87us/sample - loss: 5121975.5267 - val_loss: 5070645.1059\n",
      "Epoch 24/40\n",
      "197508/197508 [==============================] - 17s 84us/sample - loss: 5108424.6813 - val_loss: 5072506.4148\n",
      "Epoch 25/40\n",
      "197088/197508 [============================>.] - ETA: 0s - loss: 5095023.4927INFO:tensorflow:Assets written to: dnn_m1\\assets\n",
      "197508/197508 [==============================] - 17s 86us/sample - loss: 5092753.9925 - val_loss: 5050122.4611\n",
      "Epoch 26/40\n",
      "197152/197508 [============================>.] - ETA: 0s - loss: 5077244.3334INFO:tensorflow:Assets written to: dnn_m1\\assets\n",
      "197508/197508 [==============================] - 19s 94us/sample - loss: 5078615.6631 - val_loss: 5026804.8330\n",
      "Epoch 27/40\n",
      "197344/197508 [============================>.] - ETA: 0s - loss: 5069472.4433INFO:tensorflow:Assets written to: dnn_m1\\assets\n",
      "197508/197508 [==============================] - 18s 92us/sample - loss: 5067201.3038 - val_loss: 5010331.2845\n",
      "Epoch 28/40\n",
      "197344/197508 [============================>.] - ETA: 0s - loss: 5053017.8896INFO:tensorflow:Assets written to: dnn_m1\\assets\n",
      "197508/197508 [==============================] - 18s 91us/sample - loss: 5052771.4854 - val_loss: 4993008.0854\n",
      "Epoch 29/40\n",
      "197248/197508 [============================>.] - ETA: 0s - loss: 5041647.0287INFO:tensorflow:Assets written to: dnn_m1\\assets\n",
      "197508/197508 [==============================] - 19s 94us/sample - loss: 5041352.8527 - val_loss: 4980294.9855\n",
      "Epoch 30/40\n",
      "197216/197508 [============================>.] - ETA: 0s - loss: 5030175.2386INFO:tensorflow:Assets written to: dnn_m1\\assets\n",
      "197508/197508 [==============================] - 20s 99us/sample - loss: 5028281.2575 - val_loss: 4966641.8931\n",
      "Epoch 31/40\n",
      "197440/197508 [============================>.] - ETA: 0s - loss: 5019654.6140INFO:tensorflow:Assets written to: dnn_m1\\assets\n",
      "197508/197508 [==============================] - 18s 94us/sample - loss: 5019967.2765 - val_loss: 4954665.0034\n",
      "Epoch 32/40\n",
      "197280/197508 [============================>.] - ETA: 0s - loss: 5005891.6871INFO:tensorflow:Assets written to: dnn_m1\\assets\n",
      "197508/197508 [==============================] - 27s 136us/sample - loss: 5009586.2905 - val_loss: 4939110.3722\n",
      "Epoch 33/40\n",
      "196928/197508 [============================>.] - ETA: 0s - loss: 5001197.5763INFO:tensorflow:Assets written to: dnn_m1\\assets\n",
      "197508/197508 [==============================] - 22s 111us/sample - loss: 4998093.9626 - val_loss: 4931351.4440\n",
      "Epoch 34/40\n",
      "197216/197508 [============================>.] - ETA: 0s - loss: 4991909.6823INFO:tensorflow:Assets written to: dnn_m1\\assets\n",
      "197508/197508 [==============================] - 18s 90us/sample - loss: 4990554.1613 - val_loss: 4923708.3972\n",
      "Epoch 35/40\n",
      "197472/197508 [============================>.] - ETA: 0s - loss: 4981760.2245INFO:tensorflow:Assets written to: dnn_m1\\assets\n",
      "197508/197508 [==============================] - 19s 96us/sample - loss: 4982226.9110 - val_loss: 4914798.3425\n",
      "Epoch 36/40\n",
      "197408/197508 [============================>.] - ETA: 0s - loss: 4975558.8122INFO:tensorflow:Assets written to: dnn_m1\\assets\n",
      "197508/197508 [==============================] - 18s 93us/sample - loss: 4974833.6609 - val_loss: 4907135.1499\n",
      "Epoch 37/40\n",
      "197184/197508 [============================>.] - ETA: 0s - loss: 4966419.3826INFO:tensorflow:Assets written to: dnn_m1\\assets\n",
      "197508/197508 [==============================] - 18s 93us/sample - loss: 4967858.6859 - val_loss: 4896056.4641\n",
      "Epoch 38/40\n",
      "197312/197508 [============================>.] - ETA: 0s - loss: 4959866.3267INFO:tensorflow:Assets written to: dnn_m1\\assets\n",
      "197508/197508 [==============================] - 18s 91us/sample - loss: 4960802.4480 - val_loss: 4889700.1561\n",
      "Epoch 39/40\n",
      "197508/197508 [==============================] - 18s 93us/sample - loss: 4950531.6780 - val_loss: 4893569.0251\n",
      "Epoch 40/40\n",
      "196832/197508 [============================>.] - ETA: 0s - loss: 4948446.7542INFO:tensorflow:Assets written to: dnn_m1\\assets\n",
      "197508/197508 [==============================] - 18s 92us/sample - loss: 4946083.3289 - val_loss: 4875793.8847\n"
     ]
    }
   ],
   "source": [
    "checkpoint_cb = keras.callbacks.ModelCheckpoint(\"dnn_m1\", save_best_only=True)\n",
    "early_stopping_cb = keras.callbacks.EarlyStopping(patience=10, restore_best_weights=True)\n",
    "history = dnn.fit(X_train, y_train, epochs=40,\n",
    "                 validation_data=(X_valid, y_valid),\n",
    "                 callbacks=[checkpoint_cb, early_stopping_cb])\n",
    "dnn = keras.models.load_model(\"dnn_m1\") #roll back to best model"
   ]
  },
  {
   "cell_type": "code",
   "execution_count": 133,
   "metadata": {},
   "outputs": [
    {
     "data": {
      "image/png": "[encoded data removed]",
      "text/plain": [
       "<Figure size 576x360 with 1 Axes>"
      ]
     },
     "metadata": {},
     "output_type": "display_data"
    }
   ],
   "source": [
    "dnn_1_df_hist = pd.DataFrame(history.history)\n",
    "dnn_1_df_hist = np.sqrt(dnn_1_df_hist)\n",
    "dnn_1_df_hist.plot(figsize=(8,5))\n",
    "plt.grid(True)\n",
    "plt.show()"
   ]
  },
  {
   "cell_type": "code",
   "execution_count": 134,
   "metadata": {},
   "outputs": [
    {
     "name": "stdout",
     "output_type": "stream",
     "text": [
      "246885/246885 [==============================] - 6s 26us/sample - loss: 4918781.7720\n",
      "2217.8326744754113\n"
     ]
    }
   ],
   "source": [
    "mse_dnn = dnn.evaluate(autos_features_prepared_m1_tr, autos_label_m1_tr)\n",
    "rmse_dnn = np.sqrt(mse_dnn)\n",
    "print(rmse_dnn)"
   ]
  },
  {
   "cell_type": "code",
   "execution_count": 135,
   "metadata": {},
   "outputs": [
    {
     "name": "stdout",
     "output_type": "stream",
     "text": [
      "[[ 5566.796 ]\n",
      " [ 4877.4585]\n",
      " [10483.691 ]\n",
      " [24396.086 ]\n",
      " [ 1003.2075]]\n",
      "[ 5349  5000  8750 21600   449]\n"
     ]
    }
   ],
   "source": [
    "X_new = autos_features_prepared_m1_tr[:5]\n",
    "y_pred = dnn.predict(X_new)\n",
    "print(y_pred)\n",
    "print(autos_label_m1_tr[:5])"
   ]
  },
  {
   "cell_type": "markdown",
   "metadata": {},
   "source": [
    "Of all models tested herein, __Random Forest__ is the one yielding the smallest *rmse*. However, we can see that the score on the training set is still much lower than on the validation set, meaning that the model is overfitting the training set. In the next section we will aim to optimize our hyperparameters for better results. In addition, we will also attempt to improve the performance of our __Neural Network__, which also displayed a good performance."
   ]
  },
  {
   "cell_type": "markdown",
   "metadata": {},
   "source": [
    "### Business Model 2"
   ]
  },
  {
   "cell_type": "markdown",
   "metadata": {},
   "source": [
    "### Linear Regression"
   ]
  },
  {
   "cell_type": "code",
   "execution_count": 137,
   "metadata": {},
   "outputs": [],
   "source": [
    "SL = 0.05\n",
    "X_opt_2 = autos_features_prepared_m2_tr\n",
    "autos_opt_2 = backwardElimination_p(autos_label_m2_tr, X_opt_2, SL)"
   ]
  },
  {
   "cell_type": "code",
   "execution_count": 138,
   "metadata": {},
   "outputs": [],
   "source": [
    "autos_opt_2 = np.append(arr = np.ones((X_opt_2.shape[0],1)).astype(int), values = autos_opt_2, axis=1)"
   ]
  },
  {
   "cell_type": "code",
   "execution_count": 139,
   "metadata": {},
   "outputs": [],
   "source": [
    "OLS_lin_reg_2 = sm.OLS(autos_label_m2_tr, autos_opt_2).fit()"
   ]
  },
  {
   "cell_type": "code",
   "execution_count": 140,
   "metadata": {},
   "outputs": [
    {
     "name": "stdout",
     "output_type": "stream",
     "text": [
      "                            OLS Regression Results                            \n",
      "==============================================================================\n",
      "Dep. Variable:                      y   R-squared:                       0.031\n",
      "Model:                            OLS   Adj. R-squared:                  0.030\n",
      "Method:                 Least Squares   F-statistic:                     71.10\n",
      "Date:                Thu, 04 Jun 2020   Prob (F-statistic):               0.00\n",
      "Time:                        13:40:22   Log-Likelihood:            -8.6726e+05\n",
      "No. Observations:              246885   AIC:                         1.735e+06\n",
      "Df Residuals:                  246774   BIC:                         1.736e+06\n",
      "Df Model:                         110                                         \n",
      "Covariance Type:            nonrobust                                         \n",
      "==============================================================================\n",
      "                 coef    std err          t      P>|t|      [0.025      0.975]\n",
      "------------------------------------------------------------------------------\n",
      "const          4.4471      0.028    159.904      0.000       4.393       4.502\n",
      "x1             1.6545      0.028     58.263      0.000       1.599       1.710\n",
      "x2            -0.2864      0.026    -11.162      0.000      -0.337      -0.236\n",
      "x3             0.8880      0.160      5.541      0.000       0.574       1.202\n",
      "x4             0.5775      0.069      8.367      0.000       0.442       0.713\n",
      "x5             0.7000      0.067     10.395      0.000       0.568       0.832\n",
      "x6             1.0230      0.073     13.921      0.000       0.879       1.167\n",
      "x7             0.3567      0.053      6.715      0.000       0.253       0.461\n",
      "x8             0.6129      0.048     12.733      0.000       0.519       0.707\n",
      "x9             0.5592      0.043     12.971      0.000       0.475       0.644\n",
      "x10           -0.2702      0.085     -3.169      0.002      -0.437      -0.103\n",
      "x11            2.0978      0.030     70.078      0.000       2.039       2.157\n",
      "x12            2.3492      0.024     96.145      0.000       2.301       2.397\n",
      "x13            1.7988      0.568      3.169      0.002       0.686       2.911\n",
      "x14           -0.8946      0.449     -1.992      0.046      -1.775      -0.014\n",
      "x15            1.2893      0.217      5.939      0.000       0.864       1.715\n",
      "x16           -0.5358      0.141     -3.801      0.000      -0.812      -0.259\n",
      "x17           -0.4779      0.171     -2.796      0.005      -0.813      -0.143\n",
      "x18            1.0783      0.171      6.292      0.000       0.742       1.414\n",
      "x19            0.8583      0.378      2.274      0.023       0.118       1.598\n",
      "x20            1.0389      0.462      2.250      0.024       0.134       1.944\n",
      "x21            0.9418      0.188      5.005      0.000       0.573       1.311\n",
      "x22            0.8882      0.333      2.664      0.008       0.235       1.542\n",
      "x23            1.3640      0.311      4.385      0.000       0.754       1.974\n",
      "x24           -2.8317      0.660     -4.289      0.000      -4.126      -1.538\n",
      "x25            1.7083      0.403      4.238      0.000       0.918       2.498\n",
      "x26            0.5534      0.197      2.815      0.005       0.168       0.939\n",
      "x27            0.3997      0.185      2.163      0.031       0.038       0.762\n",
      "x28           -1.2405      0.332     -3.738      0.000      -1.891      -0.590\n",
      "x29            0.6010      0.202      2.983      0.003       0.206       0.996\n",
      "x30           -0.8253      0.102     -8.097      0.000      -1.025      -0.626\n",
      "x31            1.9798      0.637      3.108      0.002       0.731       3.228\n",
      "x32            1.1013      0.480      2.293      0.022       0.160       2.043\n",
      "x33           -1.2922      0.338     -3.823      0.000      -1.955      -0.630\n",
      "x34           -0.9307      0.315     -2.957      0.003      -1.548      -0.314\n",
      "x35            1.1509      0.438      2.625      0.009       0.292       2.010\n",
      "x36            1.6496      0.650      2.538      0.011       0.376       2.924\n",
      "x37           -0.9357      0.248     -3.778      0.000      -1.421      -0.450\n",
      "x38            1.7315      0.712      2.431      0.015       0.336       3.127\n",
      "x39            3.2167      0.681      4.726      0.000       1.883       4.551\n",
      "x40           -1.4411      0.681     -2.116      0.034      -2.776      -0.106\n",
      "x41           -1.5160      0.566     -2.679      0.007      -2.625      -0.407\n",
      "x42           -1.2722      0.479     -2.655      0.008      -2.212      -0.333\n",
      "x43           -0.8736      0.102     -8.535      0.000      -1.074      -0.673\n",
      "x44            3.9209      0.849      4.618      0.000       2.257       5.585\n",
      "x45           -1.2920      0.520     -2.484      0.013      -2.312      -0.272\n",
      "x46            0.3426      0.129      2.652      0.008       0.089       0.596\n",
      "x47           -1.2838      0.337     -3.807      0.000      -1.945      -0.623\n",
      "x48           -0.6294      0.138     -4.566      0.000      -0.900      -0.359\n",
      "x49           -0.8522      0.132     -6.472      0.000      -1.110      -0.594\n",
      "x50            1.4535      0.412      3.524      0.000       0.645       2.262\n",
      "x51            3.3999      0.912      3.727      0.000       1.612       5.188\n",
      "x52           -1.8496      0.879     -2.105      0.035      -3.572      -0.127\n",
      "x53           -1.6328      0.294     -5.558      0.000      -2.209      -1.057\n",
      "x54           -0.7841      0.070    -11.137      0.000      -0.922      -0.646\n",
      "x55           -1.1811      0.350     -3.371      0.001      -1.868      -0.494\n",
      "x56           -1.8328      0.546     -3.357      0.001      -2.903      -0.763\n",
      "x57            2.7626      0.834      3.311      0.001       1.127       4.398\n",
      "x58           -0.9170      0.204     -4.504      0.000      -1.316      -0.518\n",
      "x59           11.1501      2.568      4.342      0.000       6.117      16.183\n",
      "x60           -4.1712      1.716     -2.431      0.015      -7.534      -0.808\n",
      "x61           -2.4655      0.822     -2.999      0.003      -4.077      -0.854\n",
      "x62           -0.4921      0.199     -2.478      0.013      -0.881      -0.103\n",
      "x63            2.0485      1.001      2.046      0.041       0.086       4.011\n",
      "x64           -0.4687      0.170     -2.762      0.006      -0.801      -0.136\n",
      "x65           -1.2598      0.334     -3.770      0.000      -1.915      -0.605\n",
      "x66           -1.3030      0.108    -12.102      0.000      -1.514      -1.092\n",
      "x67           -1.9536      0.638     -3.064      0.002      -3.203      -0.704\n",
      "x68           -0.5319      0.099     -5.359      0.000      -0.726      -0.337\n",
      "x69           -1.1196      0.551     -2.033      0.042      -2.199      -0.040\n",
      "x70           -1.2436      0.226     -5.496      0.000      -1.687      -0.800\n",
      "x71           -1.5927      0.628     -2.536      0.011      -2.824      -0.362\n",
      "x72           -1.7719      0.475     -3.734      0.000      -2.702      -0.842\n",
      "x73           -2.5634      0.544     -4.716      0.000      -3.629      -1.498\n",
      "x74            0.9830      0.424      2.318      0.020       0.152       1.814\n",
      "x75            5.1741      1.236      4.185      0.000       2.751       7.597\n",
      "x76            3.5962      1.180      3.047      0.002       1.283       5.910\n",
      "x77           -2.2599      0.837     -2.701      0.007      -3.900      -0.620\n",
      "x78           -0.8826      0.269     -3.287      0.001      -1.409      -0.356\n",
      "x79           -1.1348      0.258     -4.404      0.000      -1.640      -0.630\n",
      "x80           -2.7934      0.453     -6.172      0.000      -3.680      -1.906\n",
      "x81           -0.9993      0.416     -2.401      0.016      -1.815      -0.184\n",
      "x82           -1.0569      0.363     -2.914      0.004      -1.768      -0.346\n",
      "x83           -1.5518      0.174     -8.899      0.000      -1.894      -1.210\n",
      "x84           -1.3277      0.368     -3.610      0.000      -2.049      -0.607\n",
      "x85           -1.8004      0.156    -11.572      0.000      -2.105      -1.495\n",
      "x86           -0.7236      0.155     -4.674      0.000      -1.027      -0.420\n",
      "x87            1.9450      0.497      3.911      0.000       0.970       2.920\n",
      "x88           -0.6518      0.158     -4.129      0.000      -0.961      -0.342\n",
      "x89           -2.7256      0.474     -5.747      0.000      -3.655      -1.796\n",
      "x90           -2.1900      0.507     -4.324      0.000      -3.183      -1.197\n",
      "x91           -3.0446      0.719     -4.235      0.000      -4.454      -1.636\n",
      "x92            1.4186      0.634      2.237      0.025       0.176       2.662\n",
      "x93           -1.7530      0.186     -9.413      0.000      -2.118      -1.388\n",
      "x94            0.3460      0.043      8.107      0.000       0.262       0.430\n",
      "x95            2.0003      0.400      5.004      0.000       1.217       2.784\n",
      "x96            5.2164      1.354      3.852      0.000       2.562       7.870\n",
      "x97            0.9545      0.131      7.276      0.000       0.697       1.212\n",
      "x98            0.8559      0.249      3.442      0.001       0.369       1.343\n",
      "x99           -1.2846      0.164     -7.820      0.000      -1.607      -0.963\n",
      "x100          -1.9666      0.164    -12.008      0.000      -2.288      -1.646\n",
      "x101           1.7997      0.638      2.821      0.005       0.549       3.050\n",
      "x102           0.4726      0.154      3.075      0.002       0.171       0.774\n",
      "x103          -3.7314      0.646     -5.779      0.000      -4.997      -2.466\n",
      "x104          -0.4088      0.144     -2.838      0.005      -0.691      -0.127\n",
      "x105          -1.0014      0.077    -13.030      0.000      -1.152      -0.851\n",
      "x106          -0.6915      0.155     -4.467      0.000      -0.995      -0.388\n",
      "x107          -4.2522      0.416    -10.229      0.000      -5.067      -3.437\n",
      "x108           1.0634      0.472      2.255      0.024       0.139       1.988\n",
      "x109           0.5970      0.268      2.225      0.026       0.071       1.123\n",
      "x110          -0.9427      0.385     -2.445      0.014      -1.698      -0.187\n",
      "x111          -0.8350      0.157     -5.304      0.000      -1.144      -0.526\n",
      "x112           1.8848      0.034     55.135      0.000       1.818       1.952\n",
      "x113           2.5622      0.026     99.256      0.000       2.512       2.613\n",
      "==============================================================================\n",
      "Omnibus:                    28060.881   Durbin-Watson:                   1.999\n",
      "Prob(Omnibus):                  0.000   Jarque-Bera (JB):            39006.959\n",
      "Skew:                           0.973   Prob(JB):                         0.00\n",
      "Kurtosis:                       3.054   Cond. No.                     1.23e+16\n",
      "==============================================================================\n",
      "\n",
      "Warnings:\n",
      "[1] Standard Errors assume that the covariance matrix of the errors is correctly specified.\n",
      "[2] The smallest eigenvalue is 5.3e-27. This might indicate that there are\n",
      "strong multicollinearity problems or that the design matrix is singular.\n"
     ]
    }
   ],
   "source": [
    "print(OLS_lin_reg_2.summary())"
   ]
  },
  {
   "cell_type": "code",
   "execution_count": 141,
   "metadata": {},
   "outputs": [
    {
     "data": {
      "text/plain": [
       "8.12"
      ]
     },
     "execution_count": 141,
     "metadata": {},
     "output_type": "execute_result"
    }
   ],
   "source": [
    "OLS_pred_2 = OLS_lin_reg_2.predict(autos_opt_2)\n",
    "OLS_lin_mse_2 = mean_squared_error(autos_label_m2_tr, OLS_pred_2)\n",
    "OLS_lin_rmse_2 = np.sqrt(OLS_lin_mse_2)\n",
    "OLS_lin_rmse_2.round(2)"
   ]
  },
  {
   "cell_type": "code",
   "execution_count": 142,
   "metadata": {},
   "outputs": [
    {
     "name": "stdout",
     "output_type": "stream",
     "text": [
      "Scores:  [8.12 8.15 8.15 8.11 8.11 8.09 8.08 8.14 8.1  8.16]\n",
      "Mean: 8.12\n",
      "Standard deviation: 0.03\n"
     ]
    }
   ],
   "source": [
    "OLS_lin_reg_scores_2 = cross_val_score(SMWrapper(sm.OLS), autos_opt_2, autos_label_m2_tr, \n",
    "                                 scoring=\"neg_mean_squared_error\", cv=10)\n",
    "OLS_lin_reg_rmse_scores_2 = np.sqrt(-OLS_lin_reg_scores_2)\n",
    "display_scores(OLS_lin_reg_rmse_scores_2)"
   ]
  },
  {
   "cell_type": "markdown",
   "metadata": {},
   "source": [
    "### Decision Tree"
   ]
  },
  {
   "cell_type": "code",
   "execution_count": 143,
   "metadata": {},
   "outputs": [
    {
     "data": {
      "text/plain": [
       "DecisionTreeRegressor(ccp_alpha=0.0, criterion='mse', max_depth=None,\n",
       "                      max_features=None, max_leaf_nodes=None,\n",
       "                      min_impurity_decrease=0.0, min_impurity_split=None,\n",
       "                      min_samples_leaf=1, min_samples_split=2,\n",
       "                      min_weight_fraction_leaf=0.0, presort='deprecated',\n",
       "                      random_state=24, splitter='best')"
      ]
     },
     "execution_count": 143,
     "metadata": {},
     "output_type": "execute_result"
    }
   ],
   "source": [
    "tree_2 = DecisionTreeRegressor(random_state=24)\n",
    "tree_2.fit(autos_features_prepared_m2_tr, autos_label_m2_tr)"
   ]
  },
  {
   "cell_type": "code",
   "execution_count": 144,
   "metadata": {},
   "outputs": [
    {
     "name": "stdout",
     "output_type": "stream",
     "text": [
      "2.3211\n"
     ]
    }
   ],
   "source": [
    "predictions_2 = tree_2.predict(autos_features_prepared_m2_tr)\n",
    "tree_mse_2 = mean_squared_error(autos_label_m2_tr, predictions_2)\n",
    "tree_rmse_2 = np.sqrt(tree_mse_2)\n",
    "print('%5.4f'%tree_rmse_2)"
   ]
  },
  {
   "cell_type": "code",
   "execution_count": 145,
   "metadata": {},
   "outputs": [],
   "source": [
    "scores_2 = cross_val_score(tree_2, autos_features_prepared_m2_tr, autos_label_m2_tr,\n",
    "                         scoring=\"neg_mean_squared_error\", cv=10)\n",
    "tree_rmse_scores_2 = np.sqrt(-scores_2)"
   ]
  },
  {
   "cell_type": "code",
   "execution_count": 146,
   "metadata": {},
   "outputs": [
    {
     "name": "stdout",
     "output_type": "stream",
     "text": [
      "Scores:  [10.82 10.69 10.8  10.79 10.8  10.72 10.74 10.78 10.78 10.73]\n",
      "Mean:10.76\n",
      "Standard deviation: 0.04\n"
     ]
    }
   ],
   "source": [
    "display_scores(tree_rmse_scores_2)"
   ]
  },
  {
   "cell_type": "markdown",
   "metadata": {},
   "source": [
    "### Random Forest"
   ]
  },
  {
   "cell_type": "code",
   "execution_count": 147,
   "metadata": {},
   "outputs": [
    {
     "data": {
      "text/plain": [
       "RandomForestRegressor(bootstrap=True, ccp_alpha=0.0, criterion='mse',\n",
       "                      max_depth=None, max_features='auto', max_leaf_nodes=None,\n",
       "                      max_samples=None, min_impurity_decrease=0.0,\n",
       "                      min_impurity_split=None, min_samples_leaf=1,\n",
       "                      min_samples_split=2, min_weight_fraction_leaf=0.0,\n",
       "                      n_estimators=10, n_jobs=None, oob_score=False,\n",
       "                      random_state=24, verbose=0, warm_start=False)"
      ]
     },
     "execution_count": 147,
     "metadata": {},
     "output_type": "execute_result"
    }
   ],
   "source": [
    "forest_2 = RandomForestRegressor(random_state=24, n_estimators=10) #n_estimators = number of trees\n",
    "forest_2.fit(autos_features_prepared_m2_tr, autos_label_m2_tr)"
   ]
  },
  {
   "cell_type": "code",
   "execution_count": 148,
   "metadata": {},
   "outputs": [
    {
     "name": "stdout",
     "output_type": "stream",
     "text": [
      "rmse =  4.0324\n",
      "Predictions:  [ 4.64 10.54 26.24  3.94  6.08  2.97 15.4   5.65 27.65 17.77]\n",
      "Labels:  [4.07, 9.37, 31.93, 2.8, 2.97, 3.6, 23.43, 5.59, 31.85, 21.85]\n"
     ]
    }
   ],
   "source": [
    "predictions_2 = forest_2.predict(autos_features_prepared_m2_tr)\n",
    "forest_mse_2 = mean_squared_error(autos_label_m2_tr, predictions_2)\n",
    "forest_rmse_2 = np.sqrt(forest_mse_2)\n",
    "print(\"rmse = \", '%5.4f'%forest_rmse_2)\n",
    "\n",
    "some_data = autos_features_m2_tr.iloc[:10]\n",
    "some_labels = autos_label_m2_tr[:10]\n",
    "some_data_prepared = full_pipeline_2.transform(some_data)\n",
    "print(\"Predictions: \", forest_2.predict(some_data_prepared).round(2))\n",
    "print(\"Labels: \", list(some_labels.round(2)))"
   ]
  },
  {
   "cell_type": "code",
   "execution_count": 149,
   "metadata": {},
   "outputs": [
    {
     "name": "stdout",
     "output_type": "stream",
     "text": [
      "Scores:  [8.57 8.52 8.62 8.54 8.55 8.52 8.45 8.55 8.54 8.54]\n",
      "Mean: 8.54\n",
      "Standard deviation: 0.04\n"
     ]
    }
   ],
   "source": [
    "forest_scores_2 = cross_val_score(forest_2, autos_features_prepared_m2_tr, autos_label_m2_tr,\n",
    "                                scoring=\"neg_mean_squared_error\", cv=10)\n",
    "forest_rmse_scores_2 = np.sqrt(-forest_scores_2)\n",
    "display_scores(forest_rmse_scores_2)"
   ]
  },
  {
   "cell_type": "markdown",
   "metadata": {},
   "source": [
    "### Regression Deep Neural Network (MLP)"
   ]
  },
  {
   "cell_type": "code",
   "execution_count": 150,
   "metadata": {},
   "outputs": [],
   "source": [
    "X_train_2, X_valid_2, y_train_2, y_valid_2 = train_test_split(autos_features_prepared_m2_tr, autos_label_m2_tr,\n",
    "                                                     test_size = 0.2, random_state=24)"
   ]
  },
  {
   "cell_type": "code",
   "execution_count": 151,
   "metadata": {},
   "outputs": [
    {
     "name": "stdout",
     "output_type": "stream",
     "text": [
      "(197508, 310)\n",
      "(49377, 310)\n",
      "(197508,)\n",
      "(49377,)\n"
     ]
    }
   ],
   "source": [
    "print(X_train_2.shape)\n",
    "print(X_valid_2.shape)\n",
    "print(y_train_2.shape)\n",
    "print(y_valid_2.shape)"
   ]
  },
  {
   "cell_type": "code",
   "execution_count": 152,
   "metadata": {},
   "outputs": [],
   "source": [
    "dnn_2 = keras.models.Sequential([\n",
    "    keras.layers.Dense(30, activation=\"relu\", input_shape=X_train_2.shape[1:]),\n",
    "    keras.layers.Dense(1)\n",
    "])"
   ]
  },
  {
   "cell_type": "code",
   "execution_count": 153,
   "metadata": {},
   "outputs": [],
   "source": [
    "dnn_opt_2 = keras.optimizers.Adam(lr=0.001, beta_1=0.9, beta_2=0.999)\n",
    "dnn_2.compile(loss=\"mean_squared_error\", \n",
    "            optimizer=dnn_opt_2)"
   ]
  },
  {
   "cell_type": "code",
   "execution_count": 154,
   "metadata": {},
   "outputs": [
    {
     "name": "stdout",
     "output_type": "stream",
     "text": [
      "Train on 197508 samples, validate on 49377 samples\n",
      "Epoch 1/40\n",
      "197508/197508 [==============================] - 15s 78us/sample - loss: 67.4870 - val_loss: 64.9170\n",
      "Epoch 2/40\n",
      "197508/197508 [==============================] - 15s 75us/sample - loss: 65.2879 - val_loss: 64.6821\n",
      "Epoch 3/40\n",
      "197508/197508 [==============================] - 15s 74us/sample - loss: 65.0739 - val_loss: 64.5379\n",
      "Epoch 4/40\n",
      "197508/197508 [==============================] - 15s 77us/sample - loss: 64.9224 - val_loss: 64.4220\n",
      "Epoch 5/40\n",
      "197508/197508 [==============================] - 15s 76us/sample - loss: 64.8211 - val_loss: 64.5884\n",
      "Epoch 6/40\n",
      "197508/197508 [==============================] - 15s 76us/sample - loss: 64.7486 - val_loss: 64.3900\n",
      "Epoch 7/40\n",
      "197508/197508 [==============================] - 15s 78us/sample - loss: 64.6754 - val_loss: 64.4045\n",
      "Epoch 8/40\n",
      "197508/197508 [==============================] - 15s 75us/sample - loss: 64.6170 - val_loss: 64.3578\n",
      "Epoch 9/40\n",
      "197508/197508 [==============================] - 15s 75us/sample - loss: 64.5353 - val_loss: 64.4040\n",
      "Epoch 10/40\n",
      "197508/197508 [==============================] - 15s 75us/sample - loss: 64.5091 - val_loss: 64.3122\n",
      "Epoch 11/40\n",
      "197508/197508 [==============================] - 15s 76us/sample - loss: 64.4432 - val_loss: 64.3446\n",
      "Epoch 12/40\n",
      "197508/197508 [==============================] - 15s 74us/sample - loss: 64.4144 - val_loss: 64.3850\n",
      "Epoch 13/40\n",
      "197508/197508 [==============================] - 15s 74us/sample - loss: 64.3589 - val_loss: 64.5281\n",
      "Epoch 14/40\n",
      "197508/197508 [==============================] - 15s 75us/sample - loss: 64.3148 - val_loss: 64.4150\n",
      "Epoch 15/40\n",
      "197508/197508 [==============================] - 15s 75us/sample - loss: 64.2975 - val_loss: 64.3164\n",
      "Epoch 16/40\n",
      "197508/197508 [==============================] - 15s 74us/sample - loss: 64.2647 - val_loss: 64.4235\n",
      "Epoch 17/40\n",
      "197508/197508 [==============================] - 15s 74us/sample - loss: 64.2331 - val_loss: 64.5247\n",
      "Epoch 18/40\n",
      "197508/197508 [==============================] - 15s 75us/sample - loss: 64.1980 - val_loss: 64.4299\n",
      "Epoch 19/40\n",
      "197508/197508 [==============================] - 15s 75us/sample - loss: 64.1778 - val_loss: 64.3986\n",
      "Epoch 20/40\n",
      "197508/197508 [==============================] - 15s 75us/sample - loss: 64.1574 - val_loss: 64.3766\n",
      "Epoch 21/40\n",
      "197508/197508 [==============================] - 14s 73us/sample - loss: 64.1256 - val_loss: 64.3340\n",
      "Epoch 22/40\n",
      "197508/197508 [==============================] - 15s 74us/sample - loss: 64.1052 - val_loss: 64.3155\n",
      "Epoch 23/40\n",
      "197508/197508 [==============================] - 15s 75us/sample - loss: 64.0657 - val_loss: 64.5527\n",
      "Epoch 24/40\n",
      "197508/197508 [==============================] - 15s 74us/sample - loss: 64.0571 - val_loss: 64.4030\n",
      "Epoch 25/40\n",
      "197508/197508 [==============================] - 15s 74us/sample - loss: 64.0403 - val_loss: 64.3728\n",
      "Epoch 26/40\n",
      "197508/197508 [==============================] - 16s 79us/sample - loss: 64.0214 - val_loss: 64.3927\n",
      "Epoch 27/40\n",
      "197508/197508 [==============================] - 15s 76us/sample - loss: 64.0160 - val_loss: 64.4451\n",
      "Epoch 28/40\n",
      "197508/197508 [==============================] - 15s 74us/sample - loss: 63.9916 - val_loss: 64.3789\n",
      "Epoch 29/40\n",
      "197508/197508 [==============================] - 14s 73us/sample - loss: 63.9626 - val_loss: 64.4123\n",
      "Epoch 30/40\n",
      "197508/197508 [==============================] - 15s 74us/sample - loss: 63.9508 - val_loss: 64.5089\n",
      "Epoch 31/40\n",
      "197508/197508 [==============================] - 15s 75us/sample - loss: 63.9565 - val_loss: 64.5918\n",
      "Epoch 32/40\n",
      "197508/197508 [==============================] - 15s 74us/sample - loss: 63.9273 - val_loss: 64.6764\n",
      "Epoch 33/40\n",
      "197508/197508 [==============================] - 15s 74us/sample - loss: 63.9213 - val_loss: 64.5058\n",
      "Epoch 34/40\n",
      "197508/197508 [==============================] - 15s 75us/sample - loss: 63.9014 - val_loss: 64.4364\n",
      "Epoch 35/40\n",
      "197508/197508 [==============================] - 15s 76us/sample - loss: 63.8981 - val_loss: 64.3896\n",
      "Epoch 36/40\n",
      "197508/197508 [==============================] - 15s 74us/sample - loss: 63.8941 - val_loss: 64.4263\n",
      "Epoch 37/40\n",
      "197508/197508 [==============================] - 15s 75us/sample - loss: 63.8643 - val_loss: 64.5621\n",
      "Epoch 38/40\n",
      "197508/197508 [==============================] - 15s 75us/sample - loss: 63.8567 - val_loss: 64.5909\n",
      "Epoch 39/40\n",
      "197508/197508 [==============================] - 15s 77us/sample - loss: 63.8473 - val_loss: 64.3474\n",
      "Epoch 40/40\n",
      "197508/197508 [==============================] - 15s 77us/sample - loss: 63.8353 - val_loss: 64.3900\n"
     ]
    }
   ],
   "source": [
    "history_2 = dnn_2.fit(X_train_2, y_train_2, epochs=40,\n",
    "                 validation_data=(X_valid_2, y_valid_2))"
   ]
  },
  {
   "cell_type": "code",
   "execution_count": 155,
   "metadata": {},
   "outputs": [
    {
     "name": "stdout",
     "output_type": "stream",
     "text": [
      "246885/246885 [==============================] - 5s 21us/sample - loss: 63.7006\n",
      "7.9812669895262305\n"
     ]
    }
   ],
   "source": [
    "mse_dnn_2 = dnn_2.evaluate(autos_features_prepared_m2_tr, autos_label_m2_tr)\n",
    "rmse_dnn_2 = np.sqrt(mse_dnn_2)\n",
    "print(rmse_dnn_2)"
   ]
  },
  {
   "cell_type": "code",
   "execution_count": 156,
   "metadata": {},
   "outputs": [
    {
     "name": "stdout",
     "output_type": "stream",
     "text": [
      "[[ 8.79522  ]\n",
      " [10.310152 ]\n",
      " [11.595446 ]\n",
      " [11.3228445]\n",
      " [ 9.234784 ]]\n",
      "[ 4.0744213   9.36549769 31.92925926  2.80300926  2.97083333]\n"
     ]
    }
   ],
   "source": [
    "X_new_2 = autos_features_prepared_m2_tr[:5]\n",
    "y_pred_2 = dnn_2.predict(X_new_2)\n",
    "print(y_pred_2)\n",
    "print(autos_label_m2_tr[:5])"
   ]
  },
  {
   "cell_type": "markdown",
   "metadata": {},
   "source": [
    "Of all models tested herein, __Neural Network__ is the one yielding the smallest *rmse*. Thus, in the next section we will aim to optimize our hyperparameters for better results. "
   ]
  },
  {
   "cell_type": "markdown",
   "metadata": {},
   "source": [
    "## 7. FINE-TUNNING OUR MODEL"
   ]
  },
  {
   "cell_type": "markdown",
   "metadata": {},
   "source": [
    "### Business Model 1"
   ]
  },
  {
   "cell_type": "markdown",
   "metadata": {},
   "source": [
    "__Fine-Tuning Random Forest:__"
   ]
  },
  {
   "cell_type": "code",
   "execution_count": 158,
   "metadata": {},
   "outputs": [
    {
     "data": {
      "text/plain": [
       "GridSearchCV(cv=5, error_score=nan,\n",
       "             estimator=RandomForestRegressor(bootstrap=True, ccp_alpha=0.0,\n",
       "                                             criterion='mse', max_depth=None,\n",
       "                                             max_features='auto',\n",
       "                                             max_leaf_nodes=None,\n",
       "                                             max_samples=None,\n",
       "                                             min_impurity_decrease=0.0,\n",
       "                                             min_impurity_split=None,\n",
       "                                             min_samples_leaf=1,\n",
       "                                             min_samples_split=2,\n",
       "                                             min_weight_fraction_leaf=0.0,\n",
       "                                             n_estimators=100, n_jobs=None,\n",
       "                                             oob_score=False, random_state=None,\n",
       "                                             verbose=0, warm_start=False),\n",
       "             iid='deprecated', n_jobs=None,\n",
       "             param_grid=[{'n_estimators': [10, 100, 200]}],\n",
       "             pre_dispatch='2*n_jobs', refit=True, return_train_score=True,\n",
       "             scoring='neg_mean_squared_error', verbose=0)"
      ]
     },
     "execution_count": 158,
     "metadata": {},
     "output_type": "execute_result"
    }
   ],
   "source": [
    "#takes long time to run (more than 3 hours)\n",
    "param_grid = [\n",
    "    {'n_estimators':[10, 100, 200]}]\n",
    "\n",
    "forest_opt = RandomForestRegressor()\n",
    "\n",
    "grid_search = GridSearchCV(forest_opt, param_grid, cv=5, scoring='neg_mean_squared_error', return_train_score=True)\n",
    "\n",
    "grid_search.fit(autos_features_prepared_m1_tr, autos_label_m1_tr)"
   ]
  },
  {
   "cell_type": "markdown",
   "metadata": {},
   "source": [
    "Now let's get the best combination of parameters:"
   ]
  },
  {
   "cell_type": "code",
   "execution_count": 159,
   "metadata": {},
   "outputs": [
    {
     "data": {
      "text/plain": [
       "{'n_estimators': 200}"
      ]
     },
     "execution_count": 159,
     "metadata": {},
     "output_type": "execute_result"
    }
   ],
   "source": [
    "grid_search.best_params_"
   ]
  },
  {
   "cell_type": "markdown",
   "metadata": {},
   "source": [
    "We cal also get the best estimator directly:"
   ]
  },
  {
   "cell_type": "code",
   "execution_count": 160,
   "metadata": {},
   "outputs": [
    {
     "data": {
      "text/plain": [
       "RandomForestRegressor(bootstrap=True, ccp_alpha=0.0, criterion='mse',\n",
       "                      max_depth=None, max_features='auto', max_leaf_nodes=None,\n",
       "                      max_samples=None, min_impurity_decrease=0.0,\n",
       "                      min_impurity_split=None, min_samples_leaf=1,\n",
       "                      min_samples_split=2, min_weight_fraction_leaf=0.0,\n",
       "                      n_estimators=200, n_jobs=None, oob_score=False,\n",
       "                      random_state=None, verbose=0, warm_start=False)"
      ]
     },
     "execution_count": 160,
     "metadata": {},
     "output_type": "execute_result"
    }
   ],
   "source": [
    "grid_search.best_estimator_"
   ]
  },
  {
   "cell_type": "code",
   "execution_count": 161,
   "metadata": {},
   "outputs": [
    {
     "name": "stdout",
     "output_type": "stream",
     "text": [
      "2033.319493956964 {'n_estimators': 10}\n",
      "1984.23637559276 {'n_estimators': 100}\n",
      "1978.863817110151 {'n_estimators': 200}\n"
     ]
    }
   ],
   "source": [
    "cvres = grid_search.cv_results_\n",
    "for mean_score, params in zip(cvres[\"mean_test_score\"], cvres[\"params\"]):\n",
    "    print(np.sqrt(-mean_score), params)"
   ]
  },
  {
   "cell_type": "markdown",
   "metadata": {},
   "source": [
    "Using the GridSearch results, we can see that the best model is obtained by setting the **n_estimators hyperparameter to 200 and bootstrap to TRUE (default)**. The RSME score for this combination is 1978.86, which is slightly better than the score we got using the first hyperparameter combination (2017.55). With this final step we have fine-tuned our model.\n",
    "\n",
    "We can often gain good insights on the problem by inspecting the best models. For example, the RandomForestRegressor can indicate the relative importance of each attribute for making accurate predictions __(Géron, 2019)__.\n",
    "\n",
    "Each element of feature_importances_ corresponds to one feature of X_train (e.g: first element of feature_importances_ refers to the first feature/column of X_train).\n",
    "\n",
    "The higher the value of an element in feature_importances_, the more important is the feature in X_train."
   ]
  },
  {
   "cell_type": "code",
   "execution_count": 162,
   "metadata": {},
   "outputs": [
    {
     "data": {
      "text/plain": [
       "array([0.53 , 0.297, 0.034, 0.   , 0.001, 0.009, 0.002, 0.002, 0.003,\n",
       "       0.003, 0.003, 0.004, 0.004, 0.   , 0.   , 0.   , 0.   , 0.   ,\n",
       "       0.   , 0.001, 0.   , 0.   , 0.   , 0.   , 0.001, 0.   , 0.   ,\n",
       "       0.   , 0.001, 0.   , 0.   , 0.   , 0.   , 0.   , 0.   , 0.   ,\n",
       "       0.   , 0.01 , 0.   , 0.   , 0.001, 0.001, 0.001, 0.001, 0.   ,\n",
       "       0.   , 0.   , 0.   , 0.   , 0.   , 0.   , 0.   , 0.002, 0.   ,\n",
       "       0.   , 0.   , 0.   , 0.   , 0.   , 0.   , 0.   , 0.   , 0.   ,\n",
       "       0.   , 0.   , 0.   , 0.   , 0.   , 0.   , 0.   , 0.   , 0.   ,\n",
       "       0.001, 0.   , 0.   , 0.   , 0.   , 0.   , 0.   , 0.   , 0.   ,\n",
       "       0.   , 0.   , 0.   , 0.   , 0.   , 0.   , 0.   , 0.   , 0.   ,\n",
       "       0.   , 0.   , 0.   , 0.   , 0.   , 0.   , 0.   , 0.   , 0.   ,\n",
       "       0.   , 0.   , 0.   , 0.001, 0.   , 0.   , 0.   , 0.   , 0.   ,\n",
       "       0.001, 0.   , 0.   , 0.   , 0.   , 0.   , 0.   , 0.   , 0.   ,\n",
       "       0.   , 0.   , 0.   , 0.   , 0.   , 0.   , 0.002, 0.   , 0.   ,\n",
       "       0.   , 0.   , 0.   , 0.002, 0.   , 0.   , 0.   , 0.   , 0.   ,\n",
       "       0.   , 0.   , 0.   , 0.   , 0.   , 0.   , 0.   , 0.   , 0.   ,\n",
       "       0.   , 0.   , 0.   , 0.   , 0.   , 0.   , 0.   , 0.   , 0.   ,\n",
       "       0.   , 0.   , 0.   , 0.   , 0.   , 0.   , 0.001, 0.   , 0.   ,\n",
       "       0.   , 0.   , 0.   , 0.   , 0.   , 0.   , 0.   , 0.   , 0.   ,\n",
       "       0.   , 0.   , 0.   , 0.   , 0.   , 0.   , 0.   , 0.   , 0.   ,\n",
       "       0.   , 0.   , 0.   , 0.   , 0.   , 0.   , 0.   , 0.   , 0.   ,\n",
       "       0.   , 0.001, 0.001, 0.   , 0.   , 0.   , 0.   , 0.   , 0.   ,\n",
       "       0.   , 0.   , 0.   , 0.   , 0.   , 0.   , 0.   , 0.   , 0.   ,\n",
       "       0.   , 0.   , 0.   , 0.   , 0.   , 0.   , 0.   , 0.   , 0.   ,\n",
       "       0.   , 0.001, 0.   , 0.   , 0.   , 0.   , 0.   , 0.   , 0.   ,\n",
       "       0.   , 0.   , 0.   , 0.   , 0.001, 0.   , 0.   , 0.   , 0.   ,\n",
       "       0.012, 0.   , 0.   , 0.   , 0.   , 0.   , 0.   , 0.   , 0.   ,\n",
       "       0.   , 0.   , 0.   , 0.001, 0.   , 0.   , 0.   , 0.   , 0.002,\n",
       "       0.   , 0.   , 0.   , 0.   , 0.   , 0.   , 0.001, 0.   , 0.   ,\n",
       "       0.002, 0.   , 0.004, 0.   , 0.   , 0.   , 0.   , 0.005, 0.003,\n",
       "       0.   , 0.   , 0.   , 0.   , 0.   , 0.   , 0.   , 0.001, 0.   ,\n",
       "       0.   , 0.   , 0.   , 0.   , 0.   , 0.   , 0.001, 0.   , 0.004,\n",
       "       0.001, 0.   , 0.   , 0.001, 0.   , 0.003, 0.001, 0.   , 0.   ,\n",
       "       0.   , 0.   , 0.   , 0.001, 0.   , 0.   , 0.001, 0.   , 0.003,\n",
       "       0.   , 0.003, 0.003])"
      ]
     },
     "execution_count": 162,
     "metadata": {},
     "output_type": "execute_result"
    }
   ],
   "source": [
    "feature_importances = grid_search.best_estimator_.feature_importances_\n",
    "feature_importances.round(3)"
   ]
  },
  {
   "cell_type": "markdown",
   "metadata": {},
   "source": [
    "__Fine-Tuning Neural Network__:"
   ]
  },
  {
   "cell_type": "code",
   "execution_count": 173,
   "metadata": {},
   "outputs": [],
   "source": [
    "def build_model(n_hidden=1, n_neurons=30, learning_rate=3e-3, input_shape=[X_train.shape[1]]):\n",
    "    model = keras.models.Sequential()\n",
    "    model.add(keras.layers.InputLayer(input_shape=input_shape))\n",
    "    for layer in range (n_hidden):\n",
    "        model.add(keras.layers.Dense(n_neurons, activation=\"relu\"))\n",
    "        model.add(keras.layers.Dense(1))\n",
    "        optimizer = keras.optimizers.Adam(lr=learning_rate, beta_1=0.9, beta_2=0.999)\n",
    "        model.compile(loss=\"mean_squared_error\", optimizer=optimizer)\n",
    "    return model"
   ]
  },
  {
   "cell_type": "code",
   "execution_count": 174,
   "metadata": {},
   "outputs": [],
   "source": [
    "keras_reg = keras.wrappers.scikit_learn.KerasRegressor(build_model)"
   ]
  },
  {
   "cell_type": "code",
   "execution_count": 175,
   "metadata": {},
   "outputs": [],
   "source": [
    "dnn_1_hp = {\n",
    "    \"n_hidden\": [0, 1, 2, 3],\n",
    "    \"n_neurons\": np.arange(1, 100),\n",
    "    \"learning_rate\": reciprocal(3e-4, 3e-2),\n",
    "}"
   ]
  },
  {
   "cell_type": "code",
   "execution_count": 176,
   "metadata": {},
   "outputs": [],
   "source": [
    "rnd_search_cv = RandomizedSearchCV(keras_reg, dnn_1_hp, n_iter=10, cv=3)"
   ]
  },
  {
   "cell_type": "code",
   "execution_count": null,
   "metadata": {
    "scrolled": false
   },
   "outputs": [],
   "source": [
    "#takes long time to run (more than 5 hours)\n",
    "rnd_search_cv.fit(X_train, y_train, epochs=40,\n",
    "                  validation_data=(X_valid, y_valid),\n",
    "                  callbacks=[keras.callbacks.EarlyStopping(patience=10)])"
   ]
  },
  {
   "cell_type": "code",
   "execution_count": 178,
   "metadata": {},
   "outputs": [
    {
     "data": {
      "text/plain": [
       "{'learning_rate': 0.020474602965142034, 'n_hidden': 1, 'n_neurons': 81}"
      ]
     },
     "execution_count": 178,
     "metadata": {},
     "output_type": "execute_result"
    }
   ],
   "source": [
    "rnd_search_cv.best_params_"
   ]
  },
  {
   "cell_type": "code",
   "execution_count": 179,
   "metadata": {},
   "outputs": [
    {
     "name": "stdout",
     "output_type": "stream",
     "text": [
      "Train on 197508 samples, validate on 49377 samples\n",
      "Epoch 1/40\n",
      "197508/197508 [==============================] - 18s 90us/sample - loss: 8288323.9762 - val_loss: 5258696.4310\n",
      "Epoch 2/40\n",
      "197508/197508 [==============================] - 17s 85us/sample - loss: 5093887.8568 - val_loss: 4897430.4660\n",
      "Epoch 3/40\n",
      "197508/197508 [==============================] - 16s 83us/sample - loss: 4881869.3651 - val_loss: 4788767.9984\n",
      "Epoch 4/40\n",
      "197508/197508 [==============================] - 16s 83us/sample - loss: 4774353.8529 - val_loss: 4658846.3293\n",
      "Epoch 5/40\n",
      "197508/197508 [==============================] - 18s 93us/sample - loss: 4697522.2311 - val_loss: 4630016.4401\n",
      "Epoch 6/40\n",
      "197508/197508 [==============================] - 17s 86us/sample - loss: 4640959.5043 - val_loss: 4561279.3775\n",
      "Epoch 7/40\n",
      "197508/197508 [==============================] - 17s 85us/sample - loss: 4595610.7053 - val_loss: 4566911.1100\n",
      "Epoch 8/40\n",
      "197508/197508 [==============================] - 24s 122us/sample - loss: 4550716.6400 - val_loss: 4494600.9429\n",
      "Epoch 9/40\n",
      "197508/197508 [==============================] - 20s 101us/sample - loss: 4518091.7611 - val_loss: 4481741.3252\n",
      "Epoch 10/40\n",
      "197508/197508 [==============================] - 17s 88us/sample - loss: 4490899.4056 - val_loss: 4484753.8052\n",
      "Epoch 11/40\n",
      "197508/197508 [==============================] - 17s 86us/sample - loss: 4465984.0960 - val_loss: 4422286.5528\n",
      "Epoch 12/40\n",
      "197508/197508 [==============================] - 25s 127us/sample - loss: 4439346.5339 - val_loss: 4400159.4659\n",
      "Epoch 13/40\n",
      "197508/197508 [==============================] - 19s 96us/sample - loss: 4423496.7423 - val_loss: 4406468.2228\n",
      "Epoch 14/40\n",
      "197508/197508 [==============================] - 17s 86us/sample - loss: 4403899.5146 - val_loss: 4392412.7575\n",
      "Epoch 15/40\n",
      "197508/197508 [==============================] - 15s 76us/sample - loss: 4381614.3927 - val_loss: 4337699.4856\n",
      "Epoch 16/40\n",
      "197508/197508 [==============================] - 16s 80us/sample - loss: 4370263.6511 - val_loss: 4360912.4293\n",
      "Epoch 17/40\n",
      "197508/197508 [==============================] - 15s 77us/sample - loss: 4357787.1059 - val_loss: 4372652.2160\n",
      "Epoch 18/40\n",
      "197508/197508 [==============================] - 15s 77us/sample - loss: 4340231.9447 - val_loss: 4429118.3716\n",
      "Epoch 19/40\n",
      "197508/197508 [==============================] - 16s 80us/sample - loss: 4329954.7183 - val_loss: 4325790.3243\n",
      "Epoch 20/40\n",
      "197508/197508 [==============================] - 15s 77us/sample - loss: 4313990.1852 - val_loss: 4294373.4171\n",
      "Epoch 21/40\n",
      "197508/197508 [==============================] - 15s 77us/sample - loss: 4307422.9196 - val_loss: 4321175.4436\n",
      "Epoch 22/40\n",
      "197508/197508 [==============================] - 15s 78us/sample - loss: 4289997.8319 - val_loss: 4543432.3473\n",
      "Epoch 23/40\n",
      "197508/197508 [==============================] - 15s 78us/sample - loss: 4281887.6586 - val_loss: 4298313.0602\n",
      "Epoch 24/40\n",
      "197508/197508 [==============================] - 16s 83us/sample - loss: 4271452.2423 - val_loss: 4289793.3620\n",
      "Epoch 25/40\n",
      "197508/197508 [==============================] - 16s 82us/sample - loss: 4258201.3305 - val_loss: 4274163.3290\n",
      "Epoch 26/40\n",
      "197508/197508 [==============================] - 15s 78us/sample - loss: 4250273.6903 - val_loss: 4280772.0970\n",
      "Epoch 27/40\n",
      "197508/197508 [==============================] - 16s 79us/sample - loss: 4238210.7216 - val_loss: 4276065.1328\n",
      "Epoch 28/40\n",
      "197508/197508 [==============================] - 15s 77us/sample - loss: 4226394.7855 - val_loss: 4350714.3247\n",
      "Epoch 29/40\n",
      "197508/197508 [==============================] - 16s 79us/sample - loss: 4226027.1186 - val_loss: 4254744.1140\n",
      "Epoch 30/40\n",
      "197508/197508 [==============================] - 15s 78us/sample - loss: 4217542.4333 - val_loss: 4302682.8830\n",
      "Epoch 31/40\n",
      "197508/197508 [==============================] - 16s 83us/sample - loss: 4209975.7015 - val_loss: 4299731.2073\n",
      "Epoch 32/40\n",
      "197508/197508 [==============================] - 16s 81us/sample - loss: 4197881.3663 - val_loss: 4270244.2502\n",
      "Epoch 33/40\n",
      "197508/197508 [==============================] - 19s 97us/sample - loss: 4193008.1870 - val_loss: 4271182.1742\n",
      "Epoch 34/40\n",
      "197508/197508 [==============================] - 17s 85us/sample - loss: 4184029.2655 - val_loss: 4255209.4403\n",
      "Epoch 35/40\n",
      "197508/197508 [==============================] - 16s 80us/sample - loss: 4184123.4699 - val_loss: 4243417.2895\n",
      "Epoch 36/40\n",
      "197508/197508 [==============================] - 15s 78us/sample - loss: 4172724.0984 - val_loss: 4249959.2184\n",
      "Epoch 37/40\n",
      "197508/197508 [==============================] - 18s 89us/sample - loss: 4167293.4206 - val_loss: 4222166.6146\n",
      "Epoch 38/40\n",
      "197508/197508 [==============================] - 17s 87us/sample - loss: 4158273.5241 - val_loss: 4284562.7830\n",
      "Epoch 39/40\n",
      "197508/197508 [==============================] - 19s 94us/sample - loss: 4160122.6988 - val_loss: 4257545.4758\n",
      "Epoch 40/40\n",
      "197508/197508 [==============================] - 17s 85us/sample - loss: 4151602.1930 - val_loss: 4225731.0251\n"
     ]
    }
   ],
   "source": [
    "#rnd_search_cv.best_params_\n",
    "#{'learning_rate': 0.020474602965142034, 'n_hidden': 1, 'n_neurons': 81}\n",
    "\n",
    "dnn_best = keras.models.Sequential([\n",
    "    keras.layers.Dense(80, activation=\"relu\", input_shape=X_train.shape[1:]),\n",
    "    keras.layers.Dense(1),\n",
    "])\n",
    "dnn_best.compile(loss=\"mean_squared_error\",\n",
    "                optimizer = keras.optimizers.Adam(lr=0.0204746, beta_1=0.9, beta_2=0.999))\n",
    "history_best = dnn_best.fit(X_train, y_train, epochs=40,\n",
    "                 validation_data=(X_valid, y_valid))"
   ]
  },
  {
   "cell_type": "code",
   "execution_count": 180,
   "metadata": {},
   "outputs": [
    {
     "name": "stdout",
     "output_type": "stream",
     "text": [
      "246885/246885 [==============================] - 8s 31us/sample - loss: 4116496.2019\n",
      "rmse =  2028.92\n"
     ]
    }
   ],
   "source": [
    "mse_best = dnn_best.evaluate(autos_features_prepared_m1_tr, autos_label_m1_tr)\n",
    "rmse_best = np.sqrt(mse_best)\n",
    "print(\"rmse = \", rmse_best.round(2))"
   ]
  },
  {
   "cell_type": "markdown",
   "metadata": {},
   "source": [
    "### Business Model 2"
   ]
  },
  {
   "cell_type": "markdown",
   "metadata": {},
   "source": [
    "__Fine-Tunning Neural Network:__"
   ]
  },
  {
   "cell_type": "code",
   "execution_count": 181,
   "metadata": {},
   "outputs": [],
   "source": [
    "def build_model(n_hidden=1, n_neurons=30, learning_rate=3e-3, input_shape=[X_train_2.shape[1]]):\n",
    "    model = keras.models.Sequential()\n",
    "    model.add(keras.layers.InputLayer(input_shape=input_shape))\n",
    "    for layer in range (n_hidden):\n",
    "        model.add(keras.layers.Dense(n_neurons, activation=\"relu\"))\n",
    "        model.add(keras.layers.Dense(1))\n",
    "        optimizer = keras.optimizers.Adam(lr=learning_rate, beta_1=0.9, beta_2=0.999)\n",
    "        model.compile(loss=\"mean_squared_error\", optimizer=optimizer)\n",
    "    return model"
   ]
  },
  {
   "cell_type": "code",
   "execution_count": 182,
   "metadata": {},
   "outputs": [],
   "source": [
    "keras_reg_2 = keras.wrappers.scikit_learn.KerasRegressor(build_model)"
   ]
  },
  {
   "cell_type": "code",
   "execution_count": 183,
   "metadata": {},
   "outputs": [],
   "source": [
    "dnn_2_hp = {\n",
    "    \"n_hidden\": [0, 1, 2, 3],\n",
    "    \"n_neurons\": np.arange(1, 100),\n",
    "    \"learning_rate\": reciprocal(3e-4, 3e-2),\n",
    "}"
   ]
  },
  {
   "cell_type": "code",
   "execution_count": 184,
   "metadata": {},
   "outputs": [],
   "source": [
    "rnd_search_cv_2 = RandomizedSearchCV(keras_reg_2, dnn_2_hp, n_iter=10, cv=3)"
   ]
  },
  {
   "cell_type": "code",
   "execution_count": null,
   "metadata": {},
   "outputs": [],
   "source": [
    "#takes long time to run (more than 5 hours)\n",
    "rnd_search_cv_2.fit(X_train_2, y_train_2, epochs=40,\n",
    "                  validation_data=(X_valid_2, y_valid_2),\n",
    "                  callbacks=[keras.callbacks.EarlyStopping(patience=10)])"
   ]
  },
  {
   "cell_type": "code",
   "execution_count": 186,
   "metadata": {},
   "outputs": [
    {
     "data": {
      "text/plain": [
       "{'learning_rate': 0.00037728259635678936, 'n_hidden': 3, 'n_neurons': 89}"
      ]
     },
     "execution_count": 186,
     "metadata": {},
     "output_type": "execute_result"
    }
   ],
   "source": [
    "rnd_search_cv_2.best_params_"
   ]
  },
  {
   "cell_type": "markdown",
   "metadata": {},
   "source": [
    "With the wrapped Keral model, score will be the opposite of the MSE, because Scikit-Learn wants scores, not losses, thus the higher the better __(Géron, 2019)__."
   ]
  },
  {
   "cell_type": "code",
   "execution_count": 187,
   "metadata": {},
   "outputs": [
    {
     "data": {
      "text/plain": [
       "-64.92023388311983"
      ]
     },
     "execution_count": 187,
     "metadata": {},
     "output_type": "execute_result"
    }
   ],
   "source": [
    "rnd_search_cv_2.best_score_"
   ]
  },
  {
   "cell_type": "code",
   "execution_count": 188,
   "metadata": {},
   "outputs": [
    {
     "name": "stdout",
     "output_type": "stream",
     "text": [
      "Train on 197508 samples, validate on 49377 samples\n",
      "Epoch 1/40\n",
      "197508/197508 [==============================] - 20s 99us/sample - loss: 67.6935 - val_loss: 64.8414\n",
      "Epoch 2/40\n",
      "197508/197508 [==============================] - 19s 98us/sample - loss: 65.1474 - val_loss: 64.4734\n",
      "Epoch 3/40\n",
      "197508/197508 [==============================] - 21s 105us/sample - loss: 64.8290 - val_loss: 64.3708\n",
      "Epoch 4/40\n",
      "197508/197508 [==============================] - 25s 126us/sample - loss: 64.5733 - val_loss: 64.3458\n",
      "Epoch 5/40\n",
      "197508/197508 [==============================] - 20s 100us/sample - loss: 64.4104 - val_loss: 64.2291\n",
      "Epoch 6/40\n",
      "197508/197508 [==============================] - 19s 98us/sample - loss: 64.2771 - val_loss: 64.0830\n",
      "Epoch 7/40\n",
      "197508/197508 [==============================] - 18s 92us/sample - loss: 64.1430 - val_loss: 64.1199\n",
      "Epoch 8/40\n",
      "197508/197508 [==============================] - 21s 105us/sample - loss: 64.0440 - val_loss: 64.0864\n",
      "Epoch 9/40\n",
      "197508/197508 [==============================] - 28s 144us/sample - loss: 63.9523 - val_loss: 64.2308\n",
      "Epoch 10/40\n",
      "197508/197508 [==============================] - 41s 206us/sample - loss: 63.8484 - val_loss: 64.0759\n",
      "Epoch 11/40\n",
      "197508/197508 [==============================] - 21s 104us/sample - loss: 63.7848 - val_loss: 64.0922\n",
      "Epoch 12/40\n",
      "197508/197508 [==============================] - 24s 120us/sample - loss: 63.6900 - val_loss: 64.1416\n",
      "Epoch 13/40\n",
      "197508/197508 [==============================] - 19s 94us/sample - loss: 63.6211 - val_loss: 64.2845\n",
      "Epoch 14/40\n",
      "197508/197508 [==============================] - 17s 88us/sample - loss: 63.5679 - val_loss: 64.0587\n",
      "Epoch 15/40\n",
      "197508/197508 [==============================] - 18s 91us/sample - loss: 63.4923 - val_loss: 65.2672\n",
      "Epoch 16/40\n",
      "197508/197508 [==============================] - 18s 91us/sample - loss: 63.4426 - val_loss: 64.4529\n",
      "Epoch 17/40\n",
      "197508/197508 [==============================] - 21s 104us/sample - loss: 63.3689 - val_loss: 64.4448\n",
      "Epoch 18/40\n",
      "197508/197508 [==============================] - 19s 97us/sample - loss: 63.3098 - val_loss: 64.2484\n",
      "Epoch 19/40\n",
      "197508/197508 [==============================] - 17s 88us/sample - loss: 63.2750 - val_loss: 64.0401\n",
      "Epoch 20/40\n",
      "197508/197508 [==============================] - 17s 87us/sample - loss: 63.2374 - val_loss: 64.1793\n",
      "Epoch 21/40\n",
      "197508/197508 [==============================] - 17s 88us/sample - loss: 63.1738 - val_loss: 64.1706\n",
      "Epoch 22/40\n",
      "197508/197508 [==============================] - 18s 89us/sample - loss: 63.1000 - val_loss: 64.1721\n",
      "Epoch 23/40\n",
      "197508/197508 [==============================] - 18s 89us/sample - loss: 63.0645 - val_loss: 64.3119\n",
      "Epoch 24/40\n",
      "197508/197508 [==============================] - 17s 89us/sample - loss: 63.0206 - val_loss: 64.3969\n",
      "Epoch 25/40\n",
      "197508/197508 [==============================] - 17s 88us/sample - loss: 62.9813 - val_loss: 64.2637\n",
      "Epoch 26/40\n",
      "197508/197508 [==============================] - 17s 87us/sample - loss: 62.9357 - val_loss: 64.2528\n",
      "Epoch 27/40\n",
      "197508/197508 [==============================] - 17s 87us/sample - loss: 62.8761 - val_loss: 64.7111\n",
      "Epoch 28/40\n",
      "197508/197508 [==============================] - 17s 86us/sample - loss: 62.8657 - val_loss: 64.3560\n",
      "Epoch 29/40\n",
      "197508/197508 [==============================] - 19s 94us/sample - loss: 62.8055 - val_loss: 64.2906\n",
      "Epoch 30/40\n",
      "197508/197508 [==============================] - 18s 90us/sample - loss: 62.7565 - val_loss: 64.5841\n",
      "Epoch 31/40\n",
      "197508/197508 [==============================] - 17s 86us/sample - loss: 62.7178 - val_loss: 64.3305\n",
      "Epoch 32/40\n",
      "197508/197508 [==============================] - 17s 88us/sample - loss: 62.6810 - val_loss: 64.3774\n",
      "Epoch 33/40\n",
      "197508/197508 [==============================] - 17s 86us/sample - loss: 62.6257 - val_loss: 64.4505\n",
      "Epoch 34/40\n",
      "197508/197508 [==============================] - 17s 87us/sample - loss: 62.6021 - val_loss: 64.4090\n",
      "Epoch 35/40\n",
      "197508/197508 [==============================] - 17s 88us/sample - loss: 62.5727 - val_loss: 64.5833\n",
      "Epoch 36/40\n",
      "197508/197508 [==============================] - 17s 86us/sample - loss: 62.5169 - val_loss: 64.4125\n",
      "Epoch 37/40\n",
      "197508/197508 [==============================] - 17s 86us/sample - loss: 62.4810 - val_loss: 64.6290\n",
      "Epoch 38/40\n",
      "197508/197508 [==============================] - 17s 85us/sample - loss: 62.4696 - val_loss: 64.5152\n",
      "Epoch 39/40\n",
      "197508/197508 [==============================] - 17s 86us/sample - loss: 62.4275 - val_loss: 64.6373\n",
      "Epoch 40/40\n",
      "197508/197508 [==============================] - 17s 87us/sample - loss: 62.3919 - val_loss: 64.7960\n"
     ]
    }
   ],
   "source": [
    "#{'learning_rate': 0.00037728259635678936, 'n_hidden': 3, 'n_neurons': 89}\n",
    "dnn_best_2 = keras.models.Sequential([\n",
    "    keras.layers.Dense(50, activation=\"relu\", input_shape=X_train_2.shape[1:]),\n",
    "    keras.layers.Dense(20, activation=\"relu\"),\n",
    "    keras.layers.Dense(18, activation=\"relu\"),\n",
    "    keras.layers.Dense(1),\n",
    "])\n",
    "dnn_best_2.compile(loss=\"mean_squared_error\",\n",
    "                optimizer = keras.optimizers.Adam(lr=0.00037728, beta_1=0.9, beta_2=0.999))\n",
    "history_best_2 = dnn_best_2.fit(X_train_2, y_train_2, epochs=40,\n",
    "                 validation_data=(X_valid_2, y_valid_2))"
   ]
  },
  {
   "cell_type": "code",
   "execution_count": 189,
   "metadata": {
    "scrolled": true
   },
   "outputs": [
    {
     "name": "stdout",
     "output_type": "stream",
     "text": [
      "246885/246885 [==============================] - 6s 23us/sample - loss: 62.8149\n",
      "rmse =  7.93\n"
     ]
    }
   ],
   "source": [
    "mse_best_2 = dnn_best_2.evaluate(autos_features_prepared_m2_tr, autos_label_m2_tr)\n",
    "rmse_best_2 = np.sqrt(mse_best_2)\n",
    "print(\"rmse = \", rmse_best_2.round(2))"
   ]
  },
  {
   "cell_type": "markdown",
   "metadata": {},
   "source": [
    "## 8. EVALUATING SYSTEM ON TEST SET"
   ]
  },
  {
   "cell_type": "markdown",
   "metadata": {},
   "source": [
    "### Business Model 1"
   ]
  },
  {
   "cell_type": "markdown",
   "metadata": {},
   "source": [
    "__Random Forest__"
   ]
  },
  {
   "cell_type": "code",
   "execution_count": 163,
   "metadata": {},
   "outputs": [],
   "source": [
    "X_test_prepared = full_pipeline.transform(autos_features_m1_test)\n",
    "rf_final_model = grid_search.best_estimator_\n",
    "rf_final_predictions = rf_final_model.predict(X_test_prepared)"
   ]
  },
  {
   "cell_type": "code",
   "execution_count": 164,
   "metadata": {},
   "outputs": [
    {
     "name": "stdout",
     "output_type": "stream",
     "text": [
      "1976.059844908534\n"
     ]
    }
   ],
   "source": [
    "final_mse = mean_squared_error(autos_label_m1_test, rf_final_predictions)\n",
    "final_rmse = np.sqrt(final_mse)\n",
    "print(final_rmse)"
   ]
  },
  {
   "cell_type": "code",
   "execution_count": 165,
   "metadata": {},
   "outputs": [
    {
     "data": {
      "text/plain": [
       "array([1920.27568156, 2030.31187952])"
      ]
     },
     "execution_count": 165,
     "metadata": {},
     "output_type": "execute_result"
    }
   ],
   "source": [
    "confidence = 0.95\n",
    "rf_squared_errors = (rf_final_predictions - autos_label_m1_test) ** 2\n",
    "np.sqrt(stats.t.interval(confidence, len(rf_squared_errors) -1,\n",
    "                        loc=rf_squared_errors.mean(),\n",
    "                        scale=stats.sem(rf_squared_errors)))"
   ]
  },
  {
   "cell_type": "markdown",
   "metadata": {},
   "source": [
    "__Neural Network__"
   ]
  },
  {
   "cell_type": "code",
   "execution_count": 190,
   "metadata": {},
   "outputs": [
    {
     "name": "stdout",
     "output_type": "stream",
     "text": [
      "61722/61722 [==============================] - 2s 28us/sample - loss: 4386629.0723\n",
      "rmse =  2094.43\n"
     ]
    }
   ],
   "source": [
    "mse_best_test = dnn_best.evaluate(full_pipeline.transform(autos_features_m1_test), autos_label_m1_test)\n",
    "rmse_best_test = np.sqrt(mse_best_test)\n",
    "print(\"rmse = \", rmse_best_test.round(2))"
   ]
  },
  {
   "cell_type": "code",
   "execution_count": 191,
   "metadata": {},
   "outputs": [
    {
     "name": "stdout",
     "output_type": "stream",
     "text": [
      "[[ 9504.815  ]\n",
      " [ 7193.0913 ]\n",
      " [15787.537  ]\n",
      " [ 4416.9595 ]\n",
      " [ 5529.3257 ]\n",
      " [  349.33655]\n",
      " [ 4495.6343 ]\n",
      " [ 5345.486  ]\n",
      " [ 9704.621  ]\n",
      " [ 5369.0864 ]]\n",
      "[ 6900 10550 16000  3900  4250  1275  4199  6300  9300  5999]\n"
     ]
    }
   ],
   "source": [
    "X_new_best = full_pipeline.transform(autos_features_m1_test[:10])\n",
    "y_pred_best = dnn_best.predict(X_new_best)\n",
    "print(y_pred_best)\n",
    "print(autos_label_m1_test[:10])"
   ]
  },
  {
   "cell_type": "code",
   "execution_count": 192,
   "metadata": {},
   "outputs": [],
   "source": [
    "dnn_final_predictions = dnn_best.predict(full_pipeline.transform(autos_features_m1_test))"
   ]
  },
  {
   "cell_type": "code",
   "execution_count": 193,
   "metadata": {},
   "outputs": [
    {
     "data": {
      "text/plain": [
       "array([2034.77237281, 2152.43107266])"
      ]
     },
     "execution_count": 193,
     "metadata": {},
     "output_type": "execute_result"
    }
   ],
   "source": [
    "confidence = 0.95\n",
    "dnn_squared_errors = (dnn_final_predictions[:,0] - autos_label_m1_test) ** 2\n",
    "np.sqrt(stats.t.interval(confidence, len(dnn_squared_errors) -1,\n",
    "                        loc=dnn_squared_errors.mean(),\n",
    "                        scale=stats.sem(dnn_squared_errors)))"
   ]
  },
  {
   "cell_type": "markdown",
   "metadata": {},
   "source": [
    "### Business Model 2"
   ]
  },
  {
   "cell_type": "markdown",
   "metadata": {},
   "source": [
    "__Neural Network__"
   ]
  },
  {
   "cell_type": "code",
   "execution_count": 194,
   "metadata": {},
   "outputs": [
    {
     "name": "stdout",
     "output_type": "stream",
     "text": [
      "61722/61722 [==============================] - 1s 22us/sample - loss: 65.0186\n",
      "rmse =  8.06\n"
     ]
    }
   ],
   "source": [
    "mse_best_test_2 = dnn_best_2.evaluate(full_pipeline_2.transform(autos_features_m2_test), autos_label_m2_test)\n",
    "rmse_best_test_2 = np.sqrt(mse_best_test_2)\n",
    "print(\"rmse = \", rmse_best_test_2.round(2))"
   ]
  },
  {
   "cell_type": "code",
   "execution_count": 195,
   "metadata": {},
   "outputs": [
    {
     "name": "stdout",
     "output_type": "stream",
     "text": [
      "[[ 4.619112 ]\n",
      " [13.730457 ]\n",
      " [ 9.784908 ]\n",
      " [ 8.600393 ]\n",
      " [ 8.7780075]\n",
      " [10.498047 ]\n",
      " [ 9.241322 ]\n",
      " [10.1311   ]\n",
      " [ 9.799898 ]\n",
      " [ 6.891257 ]]\n",
      "[ 4.28099537 24.76084491  2.84450231  5.80342593  0.91069444  2.5324537\n",
      " 11.17847222  1.31939815 13.65828704  6.09474537]\n"
     ]
    }
   ],
   "source": [
    "X_new_best_2 = full_pipeline_2.transform(autos_features_m2_test[:10])\n",
    "y_pred_best_2 = dnn_best_2.predict(X_new_best_2)\n",
    "print(y_pred_best_2)\n",
    "print(autos_label_m2_test[:10])"
   ]
  },
  {
   "cell_type": "code",
   "execution_count": 196,
   "metadata": {},
   "outputs": [],
   "source": [
    "dnn_final_predictions_2 = dnn_best_2.predict(full_pipeline_2.transform(autos_features_m2_test))"
   ]
  },
  {
   "cell_type": "code",
   "execution_count": 197,
   "metadata": {},
   "outputs": [
    {
     "data": {
      "text/plain": [
       "array([8.01446403, 8.11206276])"
      ]
     },
     "execution_count": 197,
     "metadata": {},
     "output_type": "execute_result"
    }
   ],
   "source": [
    "confidence = 0.95\n",
    "dnn_squared_errors_2 = (dnn_final_predictions_2[:,0] - autos_label_m2_test) ** 2\n",
    "np.sqrt(stats.t.interval(confidence, len(dnn_squared_errors_2) -1,\n",
    "                        loc=dnn_squared_errors_2.mean(),\n",
    "                        scale=stats.sem(dnn_squared_errors_2)))"
   ]
  }
 ],
 "metadata": {
  "kernelspec": {
   "display_name": "Python 3",
   "language": "python",
   "name": "python3"
  },
  "language_info": {
   "codemirror_mode": {
    "name": "ipython",
    "version": 3
   },
   "file_extension": ".py",
   "mimetype": "text/x-python",
   "name": "python",
   "nbconvert_exporter": "python",
   "pygments_lexer": "ipython3",
   "version": "3.7.7"
  }
 },
 "nbformat": 4,
 "nbformat_minor": 2
}
